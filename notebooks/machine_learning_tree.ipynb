{
 "cells": [
  {
   "cell_type": "code",
   "execution_count": 4,
   "id": "ccf6a9a7",
   "metadata": {},
   "outputs": [],
   "source": [
    "import warnings\n",
    "warnings.filterwarnings('ignore')"
   ]
  },
  {
   "cell_type": "code",
   "execution_count": 46,
   "id": "1a2c2983",
   "metadata": {},
   "outputs": [],
   "source": [
    "import numpy as np\n",
    "import pandas as pd\n",
    "from pathlib import Path\n",
    "from sklearn import tree\n",
    "from sklearn.preprocessing import StandardScaler\n",
    "from sklearn.model_selection import train_test_split\n",
    "from sklearn.metrics import confusion_matrix, accuracy_score, classification_report"
   ]
  },
  {
   "cell_type": "code",
   "execution_count": 25,
   "id": "716ecfc9",
   "metadata": {},
   "outputs": [],
   "source": [
    "file_path = Path('../data_files/machine_learning_dataset.csv')\n",
    "df = pd.read_csv(file_path)"
   ]
  },
  {
   "cell_type": "code",
   "execution_count": 43,
   "id": "b7e6c4a5",
   "metadata": {},
   "outputs": [],
   "source": [
    "df  = df.drop(columns='Unnamed: 0')"
   ]
  },
  {
   "cell_type": "code",
   "execution_count": 44,
   "id": "a5132ee3",
   "metadata": {},
   "outputs": [
    {
     "data": {
      "text/html": [
       "<div>\n",
       "<style scoped>\n",
       "    .dataframe tbody tr th:only-of-type {\n",
       "        vertical-align: middle;\n",
       "    }\n",
       "\n",
       "    .dataframe tbody tr th {\n",
       "        vertical-align: top;\n",
       "    }\n",
       "\n",
       "    .dataframe thead th {\n",
       "        text-align: right;\n",
       "    }\n",
       "</style>\n",
       "<table border=\"1\" class=\"dataframe\">\n",
       "  <thead>\n",
       "    <tr style=\"text-align: right;\">\n",
       "      <th></th>\n",
       "      <th>Total_Population</th>\n",
       "      <th>CO2_Emissions_by_Sector_Building</th>\n",
       "      <th>CO2_Emissions_by_Sector_Bunker_Fuels</th>\n",
       "      <th>CO2_Emissions_by_Sector_Electricity_Heat</th>\n",
       "      <th>CO2_Emissions_by_Sector_Energy</th>\n",
       "      <th>CO2_Emissions_by_Sector_Fugitive_Emissions</th>\n",
       "      <th>CO2_Emissions_by_Sector_Industrial_Processes</th>\n",
       "      <th>CO2_Emissions_by_Sector_Land_Use_Change_and_Forestry</th>\n",
       "      <th>CO2_Emissions_by_Sector_Manufacturing_Construction</th>\n",
       "      <th>CO2_Emissions_by_Sector_Other_Fuel_Combustion</th>\n",
       "      <th>CO2_Emissions_by_Sector_Transportation</th>\n",
       "      <th>Net_Electricity_Consumption</th>\n",
       "    </tr>\n",
       "  </thead>\n",
       "  <tbody>\n",
       "    <tr>\n",
       "      <th>0</th>\n",
       "      <td>35977451.0</td>\n",
       "      <td>13.24</td>\n",
       "      <td>1.60</td>\n",
       "      <td>36.44</td>\n",
       "      <td>104.89</td>\n",
       "      <td>9.25</td>\n",
       "      <td>8.25</td>\n",
       "      <td>-2.41</td>\n",
       "      <td>10.69</td>\n",
       "      <td>3.57</td>\n",
       "      <td>31.71</td>\n",
       "      <td>33.84</td>\n",
       "    </tr>\n",
       "    <tr>\n",
       "      <th>1</th>\n",
       "      <td>36661438.0</td>\n",
       "      <td>14.61</td>\n",
       "      <td>1.62</td>\n",
       "      <td>39.30</td>\n",
       "      <td>109.95</td>\n",
       "      <td>7.06</td>\n",
       "      <td>8.19</td>\n",
       "      <td>-0.63</td>\n",
       "      <td>10.80</td>\n",
       "      <td>3.96</td>\n",
       "      <td>34.22</td>\n",
       "      <td>38.13</td>\n",
       "    </tr>\n",
       "    <tr>\n",
       "      <th>2</th>\n",
       "      <td>37383899.0</td>\n",
       "      <td>16.80</td>\n",
       "      <td>1.56</td>\n",
       "      <td>43.46</td>\n",
       "      <td>118.94</td>\n",
       "      <td>6.46</td>\n",
       "      <td>7.70</td>\n",
       "      <td>-0.63</td>\n",
       "      <td>10.05</td>\n",
       "      <td>3.53</td>\n",
       "      <td>38.64</td>\n",
       "      <td>42.87</td>\n",
       "    </tr>\n",
       "    <tr>\n",
       "      <th>3</th>\n",
       "      <td>38140135.0</td>\n",
       "      <td>18.48</td>\n",
       "      <td>1.73</td>\n",
       "      <td>42.96</td>\n",
       "      <td>122.62</td>\n",
       "      <td>6.78</td>\n",
       "      <td>7.30</td>\n",
       "      <td>-0.63</td>\n",
       "      <td>10.01</td>\n",
       "      <td>4.12</td>\n",
       "      <td>40.26</td>\n",
       "      <td>45.20</td>\n",
       "    </tr>\n",
       "    <tr>\n",
       "      <th>4</th>\n",
       "      <td>38923688.0</td>\n",
       "      <td>19.21</td>\n",
       "      <td>1.67</td>\n",
       "      <td>47.86</td>\n",
       "      <td>130.45</td>\n",
       "      <td>7.28</td>\n",
       "      <td>8.36</td>\n",
       "      <td>-0.63</td>\n",
       "      <td>10.23</td>\n",
       "      <td>2.37</td>\n",
       "      <td>43.51</td>\n",
       "      <td>49.21</td>\n",
       "    </tr>\n",
       "  </tbody>\n",
       "</table>\n",
       "</div>"
      ],
      "text/plain": [
       "   Total_Population  CO2_Emissions_by_Sector_Building  \\\n",
       "0        35977451.0                             13.24   \n",
       "1        36661438.0                             14.61   \n",
       "2        37383899.0                             16.80   \n",
       "3        38140135.0                             18.48   \n",
       "4        38923688.0                             19.21   \n",
       "\n",
       "   CO2_Emissions_by_Sector_Bunker_Fuels  \\\n",
       "0                                  1.60   \n",
       "1                                  1.62   \n",
       "2                                  1.56   \n",
       "3                                  1.73   \n",
       "4                                  1.67   \n",
       "\n",
       "   CO2_Emissions_by_Sector_Electricity_Heat  CO2_Emissions_by_Sector_Energy  \\\n",
       "0                                     36.44                          104.89   \n",
       "1                                     39.30                          109.95   \n",
       "2                                     43.46                          118.94   \n",
       "3                                     42.96                          122.62   \n",
       "4                                     47.86                          130.45   \n",
       "\n",
       "   CO2_Emissions_by_Sector_Fugitive_Emissions  \\\n",
       "0                                        9.25   \n",
       "1                                        7.06   \n",
       "2                                        6.46   \n",
       "3                                        6.78   \n",
       "4                                        7.28   \n",
       "\n",
       "   CO2_Emissions_by_Sector_Industrial_Processes  \\\n",
       "0                                          8.25   \n",
       "1                                          8.19   \n",
       "2                                          7.70   \n",
       "3                                          7.30   \n",
       "4                                          8.36   \n",
       "\n",
       "   CO2_Emissions_by_Sector_Land_Use_Change_and_Forestry  \\\n",
       "0                                              -2.41      \n",
       "1                                              -0.63      \n",
       "2                                              -0.63      \n",
       "3                                              -0.63      \n",
       "4                                              -0.63      \n",
       "\n",
       "   CO2_Emissions_by_Sector_Manufacturing_Construction  \\\n",
       "0                                              10.69    \n",
       "1                                              10.80    \n",
       "2                                              10.05    \n",
       "3                                              10.01    \n",
       "4                                              10.23    \n",
       "\n",
       "   CO2_Emissions_by_Sector_Other_Fuel_Combustion  \\\n",
       "0                                           3.57   \n",
       "1                                           3.96   \n",
       "2                                           3.53   \n",
       "3                                           4.12   \n",
       "4                                           2.37   \n",
       "\n",
       "   CO2_Emissions_by_Sector_Transportation  Net_Electricity_Consumption  \n",
       "0                                   31.71                        33.84  \n",
       "1                                   34.22                        38.13  \n",
       "2                                   38.64                        42.87  \n",
       "3                                   40.26                        45.20  \n",
       "4                                   43.51                        49.21  "
      ]
     },
     "execution_count": 44,
     "metadata": {},
     "output_type": "execute_result"
    }
   ],
   "source": [
    "# Define the X set\n",
    "\n",
    "X = df.copy()\n",
    "X = X.drop('income_group', axis=1)\n",
    "X.head()"
   ]
  },
  {
   "cell_type": "code",
   "execution_count": 45,
   "id": "e52840c4",
   "metadata": {},
   "outputs": [],
   "source": [
    "# Define the target set.\n",
    "\n",
    "y = df['income_group'].values"
   ]
  },
  {
   "cell_type": "code",
   "execution_count": 47,
   "id": "4770dac8",
   "metadata": {},
   "outputs": [],
   "source": [
    "# Split into training and testing sets\n",
    "X_train, X_test, y_train, y_test = train_test_split(X,y,random_state=86)\n"
   ]
  },
  {
   "cell_type": "code",
   "execution_count": 48,
   "id": "0015b020",
   "metadata": {},
   "outputs": [
    {
     "name": "stdout",
     "output_type": "stream",
     "text": [
      "(258, 12)\n",
      "(86, 12)\n",
      "(258,)\n",
      "(86,)\n"
     ]
    }
   ],
   "source": [
    "print(X_train.shape)\n",
    "print(X_test.shape)\n",
    "print(y_train.shape)\n",
    "print(y_test.shape)"
   ]
  },
  {
   "cell_type": "code",
   "execution_count": 49,
   "id": "a26f24ff",
   "metadata": {},
   "outputs": [],
   "source": [
    "# Scale and normalize the data\n",
    "\n",
    "# Initiate scaler instance.\n",
    "scaler = StandardScaler()\n",
    "\n",
    "# Fitting the Standard Scaler with the training data.\n",
    "X_scaler = scaler.fit(X_train)\n",
    "\n",
    "# Scaling the data.\n",
    "X_train_scaled = X_scaler.transform(X_train)\n",
    "X_test_scaled = X_scaler.transform(X_test)"
   ]
  },
  {
   "cell_type": "code",
   "execution_count": 52,
   "id": "d0afc04e",
   "metadata": {},
   "outputs": [
    {
     "name": "stdout",
     "output_type": "stream",
     "text": [
      "3.4425520143415706e-18\n",
      "1.0\n",
      "2.0655312086049424e-17\n",
      "1.0\n",
      "-1.3770208057366282e-16\n",
      "0.9999999999999999\n",
      "-2.0655312086049424e-17\n",
      "1.0\n",
      "4.131062417209885e-17\n",
      "1.0\n",
      "6.885104028683141e-18\n",
      "1.0\n",
      "-1.0327656043024712e-17\n",
      "1.0\n",
      "6.885104028683141e-18\n",
      "1.0\n",
      "3.4425520143415706e-18\n",
      "1.0\n",
      "-1.8934036078878638e-17\n",
      "1.0\n",
      "-4.131062417209885e-17\n",
      "0.9999999999999999\n",
      "0.0\n",
      "1.0\n"
     ]
    }
   ],
   "source": [
    "# Confirm the data has scaled correctly - The mean should be 0 and the std dev should be 1.\n",
    "\n",
    "A = range(12)\n",
    "\n",
    "for a in A:\n",
    "    print(np.mean(X_train_scaled[:,a]))\n",
    "    print(np.std(X_train_scaled[:,a]))"
   ]
  },
  {
   "cell_type": "code",
   "execution_count": 53,
   "id": "2c933b2f",
   "metadata": {},
   "outputs": [],
   "source": [
    "# Creating the decision tree classifier instance.\n",
    "model = tree.DecisionTreeClassifier()\n",
    "# Fitting the model.\n",
    "model = model.fit(X_train_scaled, y_train)"
   ]
  },
  {
   "cell_type": "code",
   "execution_count": 54,
   "id": "6b538e7e",
   "metadata": {},
   "outputs": [],
   "source": [
    "# Making predictions using the testing data.\n",
    "predictions = model.predict(X_test_scaled)"
   ]
  },
  {
   "cell_type": "code",
   "execution_count": 55,
   "id": "164f3fe9",
   "metadata": {},
   "outputs": [
    {
     "data": {
      "text/plain": [
       "array([1, 0, 1, 2, 2, 1, 2, 2, 1, 1, 1, 1, 1, 1, 2, 1, 2, 2, 1, 0, 1, 1,\n",
       "       0, 1, 1, 0, 0, 2, 1, 2, 0, 1, 1, 2, 0, 1, 1, 1, 1, 1, 0, 1, 0, 1,\n",
       "       1, 2, 0, 2, 1, 2, 2, 2, 1, 0, 1, 0, 2, 1, 2, 2, 1, 1, 1, 0, 1, 1,\n",
       "       2, 2, 2, 1, 1, 0, 2, 1, 1, 1, 1, 0, 1, 1, 1, 1, 1, 0, 0, 2],\n",
       "      dtype=int64)"
      ]
     },
     "execution_count": 55,
     "metadata": {},
     "output_type": "execute_result"
    }
   ],
   "source": [
    "predictions"
   ]
  },
  {
   "cell_type": "code",
   "execution_count": 57,
   "id": "e4f14bde",
   "metadata": {},
   "outputs": [
    {
     "data": {
      "text/html": [
       "<div>\n",
       "<style scoped>\n",
       "    .dataframe tbody tr th:only-of-type {\n",
       "        vertical-align: middle;\n",
       "    }\n",
       "\n",
       "    .dataframe tbody tr th {\n",
       "        vertical-align: top;\n",
       "    }\n",
       "\n",
       "    .dataframe thead th {\n",
       "        text-align: right;\n",
       "    }\n",
       "</style>\n",
       "<table border=\"1\" class=\"dataframe\">\n",
       "  <thead>\n",
       "    <tr style=\"text-align: right;\">\n",
       "      <th></th>\n",
       "      <th>Predicted 0</th>\n",
       "      <th>Predicted 1</th>\n",
       "      <th>Predicted 2</th>\n",
       "      <th>Predicted 3</th>\n",
       "    </tr>\n",
       "  </thead>\n",
       "  <tbody>\n",
       "    <tr>\n",
       "      <th>Actual 0</th>\n",
       "      <td>17</td>\n",
       "      <td>4</td>\n",
       "      <td>0</td>\n",
       "      <td>0</td>\n",
       "    </tr>\n",
       "    <tr>\n",
       "      <th>Actual 1</th>\n",
       "      <td>0</td>\n",
       "      <td>41</td>\n",
       "      <td>0</td>\n",
       "      <td>0</td>\n",
       "    </tr>\n",
       "    <tr>\n",
       "      <th>Actual 2</th>\n",
       "      <td>0</td>\n",
       "      <td>1</td>\n",
       "      <td>21</td>\n",
       "      <td>0</td>\n",
       "    </tr>\n",
       "    <tr>\n",
       "      <th>Actual 3</th>\n",
       "      <td>0</td>\n",
       "      <td>0</td>\n",
       "      <td>2</td>\n",
       "      <td>0</td>\n",
       "    </tr>\n",
       "  </tbody>\n",
       "</table>\n",
       "</div>"
      ],
      "text/plain": [
       "          Predicted 0  Predicted 1  Predicted 2  Predicted 3\n",
       "Actual 0           17            4            0            0\n",
       "Actual 1            0           41            0            0\n",
       "Actual 2            0            1           21            0\n",
       "Actual 3            0            0            2            0"
      ]
     },
     "execution_count": 57,
     "metadata": {},
     "output_type": "execute_result"
    }
   ],
   "source": [
    "# Calculating the confusion matrix\n",
    "cm = confusion_matrix(y_test, predictions)\n",
    "\n",
    "# Create a DataFrame from the confusion matrix.\n",
    "cm_df = pd.DataFrame(\n",
    "    cm, index=[\"Actual 0\", \"Actual 1\",\"Actual 2\",\"Actual 3\"], columns=[\"Predicted 0\", \"Predicted 1\",\"Predicted 2\",\"Predicted 3\"])\n",
    "\n",
    "cm_df"
   ]
  },
  {
   "cell_type": "code",
   "execution_count": 59,
   "id": "20e5f0c6",
   "metadata": {},
   "outputs": [
    {
     "data": {
      "text/plain": [
       "0.9186046511627907"
      ]
     },
     "execution_count": 59,
     "metadata": {},
     "output_type": "execute_result"
    }
   ],
   "source": [
    "# Calculating the accuracy score.\n",
    "acc_score = accuracy_score(y_test, predictions)\n",
    "acc_score"
   ]
  },
  {
   "cell_type": "code",
   "execution_count": 60,
   "id": "25e5684f",
   "metadata": {},
   "outputs": [
    {
     "name": "stdout",
     "output_type": "stream",
     "text": [
      "Confusion Matrix\n"
     ]
    },
    {
     "data": {
      "text/html": [
       "<div>\n",
       "<style scoped>\n",
       "    .dataframe tbody tr th:only-of-type {\n",
       "        vertical-align: middle;\n",
       "    }\n",
       "\n",
       "    .dataframe tbody tr th {\n",
       "        vertical-align: top;\n",
       "    }\n",
       "\n",
       "    .dataframe thead th {\n",
       "        text-align: right;\n",
       "    }\n",
       "</style>\n",
       "<table border=\"1\" class=\"dataframe\">\n",
       "  <thead>\n",
       "    <tr style=\"text-align: right;\">\n",
       "      <th></th>\n",
       "      <th>Predicted 0</th>\n",
       "      <th>Predicted 1</th>\n",
       "      <th>Predicted 2</th>\n",
       "      <th>Predicted 3</th>\n",
       "    </tr>\n",
       "  </thead>\n",
       "  <tbody>\n",
       "    <tr>\n",
       "      <th>Actual 0</th>\n",
       "      <td>17</td>\n",
       "      <td>4</td>\n",
       "      <td>0</td>\n",
       "      <td>0</td>\n",
       "    </tr>\n",
       "    <tr>\n",
       "      <th>Actual 1</th>\n",
       "      <td>0</td>\n",
       "      <td>41</td>\n",
       "      <td>0</td>\n",
       "      <td>0</td>\n",
       "    </tr>\n",
       "    <tr>\n",
       "      <th>Actual 2</th>\n",
       "      <td>0</td>\n",
       "      <td>1</td>\n",
       "      <td>21</td>\n",
       "      <td>0</td>\n",
       "    </tr>\n",
       "    <tr>\n",
       "      <th>Actual 3</th>\n",
       "      <td>0</td>\n",
       "      <td>0</td>\n",
       "      <td>2</td>\n",
       "      <td>0</td>\n",
       "    </tr>\n",
       "  </tbody>\n",
       "</table>\n",
       "</div>"
      ],
      "text/plain": [
       "          Predicted 0  Predicted 1  Predicted 2  Predicted 3\n",
       "Actual 0           17            4            0            0\n",
       "Actual 1            0           41            0            0\n",
       "Actual 2            0            1           21            0\n",
       "Actual 3            0            0            2            0"
      ]
     },
     "metadata": {},
     "output_type": "display_data"
    },
    {
     "name": "stdout",
     "output_type": "stream",
     "text": [
      "Accuracy Score : 0.9186046511627907\n",
      "Classification Report\n",
      "              precision    recall  f1-score   support\n",
      "\n",
      "           0       1.00      0.81      0.89        21\n",
      "           1       0.89      1.00      0.94        41\n",
      "           2       0.91      0.95      0.93        22\n",
      "           3       0.00      0.00      0.00         2\n",
      "\n",
      "    accuracy                           0.92        86\n",
      "   macro avg       0.70      0.69      0.69        86\n",
      "weighted avg       0.90      0.92      0.91        86\n",
      "\n"
     ]
    }
   ],
   "source": [
    "# Displaying results\n",
    "print(\"Confusion Matrix\")\n",
    "display(cm_df)\n",
    "print(f\"Accuracy Score : {acc_score}\")\n",
    "print(\"Classification Report\")\n",
    "print(classification_report(y_test, predictions))"
   ]
  },
  {
   "cell_type": "code",
   "execution_count": null,
   "id": "4c46d496",
   "metadata": {},
   "outputs": [],
   "source": []
  }
 ],
 "metadata": {
  "kernelspec": {
   "display_name": "mlenv",
   "language": "python",
   "name": "mlenv"
  },
  "language_info": {
   "codemirror_mode": {
    "name": "ipython",
    "version": 3
   },
   "file_extension": ".py",
   "mimetype": "text/x-python",
   "name": "python",
   "nbconvert_exporter": "python",
   "pygments_lexer": "ipython3",
   "version": "3.7.13"
  }
 },
 "nbformat": 4,
 "nbformat_minor": 5
}
