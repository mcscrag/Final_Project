{
 "cells": [
  {
   "cell_type": "markdown",
   "id": "c15ae555",
   "metadata": {},
   "source": [
    "# Machine Learning - Using SciKitLearn's Decision Tree Classifier Algorithm\n",
    "## Data Preparation\n",
    "### Importing the required dependencies. Psycopg2 is used to connect to the database on AWS."
   ]
  },
  {
   "cell_type": "code",
   "execution_count": 2,
   "id": "667ceff2",
   "metadata": {},
   "outputs": [],
   "source": [
    "import numpy as np\n",
    "import pandas as pd\n",
    "from pathlib import Path\n",
    "import psycopg2 as pg\n",
    "from config import aws_info\n",
    "from sklearn import tree, metrics\n",
    "from sklearn.preprocessing import StandardScaler\n",
    "from sklearn.model_selection import train_test_split\n",
    "from sklearn.metrics import confusion_matrix, accuracy_score, classification_report\n",
    "import matplotlib.pyplot as plt"
   ]
  },
  {
   "cell_type": "markdown",
   "id": "01c45b87",
   "metadata": {},
   "source": [
    "### Pandas is used to query the database and create the required dataframes."
   ]
  },
  {
   "cell_type": "code",
   "execution_count": 3,
   "id": "bd8ed05a",
   "metadata": {},
   "outputs": [],
   "source": [
    "engine = pg.connect(database='project_cchange', host='finalproject.cgkd6swv7jef.us-east-2.rds.amazonaws.com', user='root', password='Pollito11!', port='5432')\n",
    "df_metrics = pd.read_sql('select * from metrics', con=engine)\n",
    "df_classifier = pd.read_sql('select * from country_income_class', con=engine)"
   ]
  },
  {
   "cell_type": "markdown",
   "id": "8b250c54",
   "metadata": {},
   "source": [
    "## Preparation of the metrics dataframe.\n",
    "### The columns that will be used in the model are selected into df_metrics_2"
   ]
  },
  {
   "cell_type": "code",
   "execution_count": 4,
   "id": "f2129b01",
   "metadata": {},
   "outputs": [],
   "source": [
    "df_metrics_2 = df_metrics[['country_name', 'year', 'Total_Population','CO2_Emissions_by_Sector_Building',\n",
    "       'CO2_Emissions_by_Sector_Bunker_Fuels',\n",
    "       'CO2_Emissions_by_Sector_Electricity_Heat',\n",
    "       'CO2_Emissions_by_Sector_Energy',\n",
    "       'CCO2_Emissions_by_Sector_Industrial_Processes',\n",
    "       'CO2_Emissions_by_Sector_Land_Use_Change_and_Forestry',\n",
    "       'CO2_Emissions_by_Sector_Manufacturing_Construction',\n",
    "       'CO2_Emissions_by_Sector_Other_Fuel_Combustion','CO2_Emissions_by_Sector_Transportation', 'Net_Electricity_Consumption']]"
   ]
  },
  {
   "cell_type": "markdown",
   "id": "a1b10d14",
   "metadata": {},
   "source": [
    "### Null values will need to be dropped, so the number of values is counted to see approximately how many nulls there are in each column."
   ]
  },
  {
   "cell_type": "code",
   "execution_count": 5,
   "id": "ff0fa098",
   "metadata": {},
   "outputs": [
    {
     "data": {
      "text/plain": [
       "country_name                                            8140\n",
       "year                                                    8140\n",
       "Total_Population                                        8043\n",
       "CO2_Emissions_by_Sector_Building                        5049\n",
       "CO2_Emissions_by_Sector_Bunker_Fuels                    5104\n",
       "CO2_Emissions_by_Sector_Electricity_Heat                5201\n",
       "CO2_Emissions_by_Sector_Energy                          5536\n",
       "CCO2_Emissions_by_Sector_Industrial_Processes           4022\n",
       "CO2_Emissions_by_Sector_Land_Use_Change_and_Forestry    4676\n",
       "CO2_Emissions_by_Sector_Manufacturing_Construction      4728\n",
       "CO2_Emissions_by_Sector_Other_Fuel_Combustion           3813\n",
       "CO2_Emissions_by_Sector_Transportation                  5353\n",
       "Net_Electricity_Consumption                             6035\n",
       "dtype: int64"
      ]
     },
     "execution_count": 5,
     "metadata": {},
     "output_type": "execute_result"
    }
   ],
   "source": [
    "df_metrics_2.count()"
   ]
  },
  {
   "cell_type": "code",
   "execution_count": 6,
   "id": "2c9a4588",
   "metadata": {},
   "outputs": [],
   "source": [
    "df_metrics_3 = df_metrics_2.dropna(how='any')"
   ]
  },
  {
   "cell_type": "code",
   "execution_count": 7,
   "id": "a4153f40",
   "metadata": {},
   "outputs": [
    {
     "data": {
      "text/plain": [
       "country_name                                            2868\n",
       "year                                                    2868\n",
       "Total_Population                                        2868\n",
       "CO2_Emissions_by_Sector_Building                        2868\n",
       "CO2_Emissions_by_Sector_Bunker_Fuels                    2868\n",
       "CO2_Emissions_by_Sector_Electricity_Heat                2868\n",
       "CO2_Emissions_by_Sector_Energy                          2868\n",
       "CCO2_Emissions_by_Sector_Industrial_Processes           2868\n",
       "CO2_Emissions_by_Sector_Land_Use_Change_and_Forestry    2868\n",
       "CO2_Emissions_by_Sector_Manufacturing_Construction      2868\n",
       "CO2_Emissions_by_Sector_Other_Fuel_Combustion           2868\n",
       "CO2_Emissions_by_Sector_Transportation                  2868\n",
       "Net_Electricity_Consumption                             2868\n",
       "dtype: int64"
      ]
     },
     "execution_count": 7,
     "metadata": {},
     "output_type": "execute_result"
    }
   ],
   "source": [
    "df_metrics_3.count()"
   ]
  },
  {
   "cell_type": "markdown",
   "id": "0d1672d3",
   "metadata": {},
   "source": [
    "### The data types are checked as well as the head()."
   ]
  },
  {
   "cell_type": "code",
   "execution_count": 8,
   "id": "581d0e5c",
   "metadata": {},
   "outputs": [
    {
     "data": {
      "text/plain": [
       "country_name                                             object\n",
       "year                                                      int64\n",
       "Total_Population                                        float64\n",
       "CO2_Emissions_by_Sector_Building                        float64\n",
       "CO2_Emissions_by_Sector_Bunker_Fuels                    float64\n",
       "CO2_Emissions_by_Sector_Electricity_Heat                float64\n",
       "CO2_Emissions_by_Sector_Energy                          float64\n",
       "CCO2_Emissions_by_Sector_Industrial_Processes           float64\n",
       "CO2_Emissions_by_Sector_Land_Use_Change_and_Forestry    float64\n",
       "CO2_Emissions_by_Sector_Manufacturing_Construction      float64\n",
       "CO2_Emissions_by_Sector_Other_Fuel_Combustion           float64\n",
       "CO2_Emissions_by_Sector_Transportation                  float64\n",
       "Net_Electricity_Consumption                             float64\n",
       "dtype: object"
      ]
     },
     "execution_count": 8,
     "metadata": {},
     "output_type": "execute_result"
    }
   ],
   "source": [
    "df_metrics_3.dtypes"
   ]
  },
  {
   "cell_type": "code",
   "execution_count": 9,
   "id": "fbc35679",
   "metadata": {},
   "outputs": [
    {
     "data": {
      "text/html": [
       "<div>\n",
       "<style scoped>\n",
       "    .dataframe tbody tr th:only-of-type {\n",
       "        vertical-align: middle;\n",
       "    }\n",
       "\n",
       "    .dataframe tbody tr th {\n",
       "        vertical-align: top;\n",
       "    }\n",
       "\n",
       "    .dataframe thead th {\n",
       "        text-align: right;\n",
       "    }\n",
       "</style>\n",
       "<table border=\"1\" class=\"dataframe\">\n",
       "  <thead>\n",
       "    <tr style=\"text-align: right;\">\n",
       "      <th></th>\n",
       "      <th>country_name</th>\n",
       "      <th>year</th>\n",
       "      <th>Total_Population</th>\n",
       "      <th>CO2_Emissions_by_Sector_Building</th>\n",
       "      <th>CO2_Emissions_by_Sector_Bunker_Fuels</th>\n",
       "      <th>CO2_Emissions_by_Sector_Electricity_Heat</th>\n",
       "      <th>CO2_Emissions_by_Sector_Energy</th>\n",
       "      <th>CCO2_Emissions_by_Sector_Industrial_Processes</th>\n",
       "      <th>CO2_Emissions_by_Sector_Land_Use_Change_and_Forestry</th>\n",
       "      <th>CO2_Emissions_by_Sector_Manufacturing_Construction</th>\n",
       "      <th>CO2_Emissions_by_Sector_Other_Fuel_Combustion</th>\n",
       "      <th>CO2_Emissions_by_Sector_Transportation</th>\n",
       "      <th>Net_Electricity_Consumption</th>\n",
       "    </tr>\n",
       "  </thead>\n",
       "  <tbody>\n",
       "    <tr>\n",
       "      <th>46</th>\n",
       "      <td>Albania</td>\n",
       "      <td>1999</td>\n",
       "      <td>3108778.0</td>\n",
       "      <td>0.24</td>\n",
       "      <td>0.52</td>\n",
       "      <td>0.29</td>\n",
       "      <td>2.92</td>\n",
       "      <td>0.05</td>\n",
       "      <td>0.19</td>\n",
       "      <td>0.49</td>\n",
       "      <td>0.51</td>\n",
       "      <td>1.40</td>\n",
       "      <td>3.48</td>\n",
       "    </tr>\n",
       "    <tr>\n",
       "      <th>47</th>\n",
       "      <td>Albania</td>\n",
       "      <td>2000</td>\n",
       "      <td>3089027.0</td>\n",
       "      <td>0.25</td>\n",
       "      <td>0.53</td>\n",
       "      <td>0.38</td>\n",
       "      <td>3.08</td>\n",
       "      <td>0.09</td>\n",
       "      <td>0.19</td>\n",
       "      <td>0.47</td>\n",
       "      <td>0.51</td>\n",
       "      <td>1.47</td>\n",
       "      <td>3.76</td>\n",
       "    </tr>\n",
       "    <tr>\n",
       "      <th>50</th>\n",
       "      <td>Albania</td>\n",
       "      <td>2003</td>\n",
       "      <td>3039616.0</td>\n",
       "      <td>0.45</td>\n",
       "      <td>0.55</td>\n",
       "      <td>0.36</td>\n",
       "      <td>3.82</td>\n",
       "      <td>0.29</td>\n",
       "      <td>-1.12</td>\n",
       "      <td>0.50</td>\n",
       "      <td>0.60</td>\n",
       "      <td>1.92</td>\n",
       "      <td>4.11</td>\n",
       "    </tr>\n",
       "    <tr>\n",
       "      <th>51</th>\n",
       "      <td>Albania</td>\n",
       "      <td>2004</td>\n",
       "      <td>3026939.0</td>\n",
       "      <td>0.39</td>\n",
       "      <td>0.31</td>\n",
       "      <td>0.28</td>\n",
       "      <td>4.01</td>\n",
       "      <td>0.29</td>\n",
       "      <td>-1.12</td>\n",
       "      <td>0.55</td>\n",
       "      <td>0.49</td>\n",
       "      <td>2.30</td>\n",
       "      <td>4.05</td>\n",
       "    </tr>\n",
       "    <tr>\n",
       "      <th>52</th>\n",
       "      <td>Albania</td>\n",
       "      <td>2005</td>\n",
       "      <td>3011487.0</td>\n",
       "      <td>0.36</td>\n",
       "      <td>0.38</td>\n",
       "      <td>0.30</td>\n",
       "      <td>3.83</td>\n",
       "      <td>0.25</td>\n",
       "      <td>-1.12</td>\n",
       "      <td>0.45</td>\n",
       "      <td>0.34</td>\n",
       "      <td>2.37</td>\n",
       "      <td>3.74</td>\n",
       "    </tr>\n",
       "  </tbody>\n",
       "</table>\n",
       "</div>"
      ],
      "text/plain": [
       "   country_name  year  Total_Population  CO2_Emissions_by_Sector_Building  \\\n",
       "46      Albania  1999         3108778.0                              0.24   \n",
       "47      Albania  2000         3089027.0                              0.25   \n",
       "50      Albania  2003         3039616.0                              0.45   \n",
       "51      Albania  2004         3026939.0                              0.39   \n",
       "52      Albania  2005         3011487.0                              0.36   \n",
       "\n",
       "    CO2_Emissions_by_Sector_Bunker_Fuels  \\\n",
       "46                                  0.52   \n",
       "47                                  0.53   \n",
       "50                                  0.55   \n",
       "51                                  0.31   \n",
       "52                                  0.38   \n",
       "\n",
       "    CO2_Emissions_by_Sector_Electricity_Heat  CO2_Emissions_by_Sector_Energy  \\\n",
       "46                                      0.29                            2.92   \n",
       "47                                      0.38                            3.08   \n",
       "50                                      0.36                            3.82   \n",
       "51                                      0.28                            4.01   \n",
       "52                                      0.30                            3.83   \n",
       "\n",
       "    CCO2_Emissions_by_Sector_Industrial_Processes  \\\n",
       "46                                           0.05   \n",
       "47                                           0.09   \n",
       "50                                           0.29   \n",
       "51                                           0.29   \n",
       "52                                           0.25   \n",
       "\n",
       "    CO2_Emissions_by_Sector_Land_Use_Change_and_Forestry  \\\n",
       "46                                               0.19      \n",
       "47                                               0.19      \n",
       "50                                              -1.12      \n",
       "51                                              -1.12      \n",
       "52                                              -1.12      \n",
       "\n",
       "    CO2_Emissions_by_Sector_Manufacturing_Construction  \\\n",
       "46                                               0.49    \n",
       "47                                               0.47    \n",
       "50                                               0.50    \n",
       "51                                               0.55    \n",
       "52                                               0.45    \n",
       "\n",
       "    CO2_Emissions_by_Sector_Other_Fuel_Combustion  \\\n",
       "46                                           0.51   \n",
       "47                                           0.51   \n",
       "50                                           0.60   \n",
       "51                                           0.49   \n",
       "52                                           0.34   \n",
       "\n",
       "    CO2_Emissions_by_Sector_Transportation  Net_Electricity_Consumption  \n",
       "46                                    1.40                         3.48  \n",
       "47                                    1.47                         3.76  \n",
       "50                                    1.92                         4.11  \n",
       "51                                    2.30                         4.05  \n",
       "52                                    2.37                         3.74  "
      ]
     },
     "execution_count": 9,
     "metadata": {},
     "output_type": "execute_result"
    }
   ],
   "source": [
    "df_metrics_3.head()"
   ]
  },
  {
   "cell_type": "markdown",
   "id": "85afe4cb",
   "metadata": {},
   "source": [
    "### A unique count of the country names tells use how many countries were kept after dropping null values. The original number of countries in the dataframe was 220."
   ]
  },
  {
   "cell_type": "code",
   "execution_count": 10,
   "id": "80743d83",
   "metadata": {},
   "outputs": [
    {
     "data": {
      "text/plain": [
       "119"
      ]
     },
     "execution_count": 10,
     "metadata": {},
     "output_type": "execute_result"
    }
   ],
   "source": [
    "df_metrics_3['country_name'].nunique()"
   ]
  },
  {
   "cell_type": "markdown",
   "id": "7ba2a388",
   "metadata": {},
   "source": [
    "## Preparation of the classifier dataframe.\n",
    "### The columns 'country_name' and 'year' are selected and will both be used to merge the two dataframes in order to assign an 'income_group' to each country and year of the metrics dataframe. The 'income_group' is the target label the classification model will be assigning. The countries are assigned a label of High Income (H), Upper Middle Income (UM), Lower Middle Income (LM), or Lower Income (L). These labels come directly from the World Bank income classification dataset."
   ]
  },
  {
   "cell_type": "code",
   "execution_count": 11,
   "id": "76be1b5c",
   "metadata": {},
   "outputs": [],
   "source": [
    "df_classifier_1 = df_classifier[['country_name','year','income_group']]"
   ]
  },
  {
   "cell_type": "markdown",
   "id": "7c2cdcaa",
   "metadata": {},
   "source": [
    "### A value count of the 'income_group' column is generated to see how many data points are in each income group."
   ]
  },
  {
   "cell_type": "code",
   "execution_count": 12,
   "id": "c39bccdf",
   "metadata": {},
   "outputs": [
    {
     "data": {
      "text/plain": [
       "H     1968\n",
       "LM    1775\n",
       "L     1532\n",
       "UM    1389\n",
       "..     310\n",
       "Name: income_group, dtype: int64"
      ]
     },
     "execution_count": 12,
     "metadata": {},
     "output_type": "execute_result"
    }
   ],
   "source": [
    "df_classifier_1['income_group'].value_counts()"
   ]
  },
  {
   "cell_type": "markdown",
   "id": "0981e8f9",
   "metadata": {},
   "source": [
    "### Null values are changed from '..' to Nan and then dropped."
   ]
  },
  {
   "cell_type": "code",
   "execution_count": 14,
   "id": "530ed406",
   "metadata": {},
   "outputs": [
    {
     "data": {
      "text/plain": [
       "H     1968\n",
       "LM    1775\n",
       "L     1532\n",
       "UM    1389\n",
       "Name: income_group, dtype: int64"
      ]
     },
     "execution_count": 14,
     "metadata": {},
     "output_type": "execute_result"
    }
   ],
   "source": [
    "df_classifier_2 = df_classifier_1.replace('..', np.nan, inplace=True)\n",
    "df_classifier_3 = df_classifier_1.dropna(how='any')\n",
    "df_classifier_3['income_group'].value_counts()"
   ]
  },
  {
   "cell_type": "markdown",
   "id": "04538cae",
   "metadata": {},
   "source": [
    "### The datatypes and head() are inspected to ensure the dataframe is ready to merge."
   ]
  },
  {
   "cell_type": "code",
   "execution_count": 15,
   "id": "a6a2efa6",
   "metadata": {},
   "outputs": [
    {
     "data": {
      "text/html": [
       "<div>\n",
       "<style scoped>\n",
       "    .dataframe tbody tr th:only-of-type {\n",
       "        vertical-align: middle;\n",
       "    }\n",
       "\n",
       "    .dataframe tbody tr th {\n",
       "        vertical-align: top;\n",
       "    }\n",
       "\n",
       "    .dataframe thead th {\n",
       "        text-align: right;\n",
       "    }\n",
       "</style>\n",
       "<table border=\"1\" class=\"dataframe\">\n",
       "  <thead>\n",
       "    <tr style=\"text-align: right;\">\n",
       "      <th></th>\n",
       "      <th>country_name</th>\n",
       "      <th>year</th>\n",
       "      <th>income_group</th>\n",
       "    </tr>\n",
       "  </thead>\n",
       "  <tbody>\n",
       "    <tr>\n",
       "      <th>0</th>\n",
       "      <td>Afghanistan</td>\n",
       "      <td>1990</td>\n",
       "      <td>L</td>\n",
       "    </tr>\n",
       "    <tr>\n",
       "      <th>1</th>\n",
       "      <td>Afghanistan</td>\n",
       "      <td>1991</td>\n",
       "      <td>L</td>\n",
       "    </tr>\n",
       "    <tr>\n",
       "      <th>2</th>\n",
       "      <td>Afghanistan</td>\n",
       "      <td>1992</td>\n",
       "      <td>L</td>\n",
       "    </tr>\n",
       "    <tr>\n",
       "      <th>3</th>\n",
       "      <td>Afghanistan</td>\n",
       "      <td>1993</td>\n",
       "      <td>L</td>\n",
       "    </tr>\n",
       "    <tr>\n",
       "      <th>4</th>\n",
       "      <td>Afghanistan</td>\n",
       "      <td>1994</td>\n",
       "      <td>L</td>\n",
       "    </tr>\n",
       "  </tbody>\n",
       "</table>\n",
       "</div>"
      ],
      "text/plain": [
       "  country_name  year income_group\n",
       "0  Afghanistan  1990            L\n",
       "1  Afghanistan  1991            L\n",
       "2  Afghanistan  1992            L\n",
       "3  Afghanistan  1993            L\n",
       "4  Afghanistan  1994            L"
      ]
     },
     "execution_count": 15,
     "metadata": {},
     "output_type": "execute_result"
    }
   ],
   "source": [
    "df_classifier_3.head()"
   ]
  },
  {
   "cell_type": "code",
   "execution_count": 16,
   "id": "3259d7df",
   "metadata": {},
   "outputs": [
    {
     "data": {
      "text/plain": [
       "country_name    object\n",
       "year             int64\n",
       "income_group    object\n",
       "dtype: object"
      ]
     },
     "execution_count": 16,
     "metadata": {},
     "output_type": "execute_result"
    }
   ],
   "source": [
    "df_classifier_3.dtypes"
   ]
  },
  {
   "cell_type": "markdown",
   "id": "ae1c2c0b",
   "metadata": {},
   "source": [
    "### Pandas pd.merge() is used to join the tables on both the 'country_name' and 'year' columns."
   ]
  },
  {
   "cell_type": "code",
   "execution_count": 17,
   "id": "a83b96ea",
   "metadata": {},
   "outputs": [],
   "source": [
    "df_joined = pd.merge(df_metrics_3,df_classifier_3,how = 'inner',on=['country_name','year'])"
   ]
  },
  {
   "cell_type": "markdown",
   "id": "50f0eb6f",
   "metadata": {},
   "source": [
    "### The columns and head() are inspected, as well as a count of the total rows and unique countries."
   ]
  },
  {
   "cell_type": "code",
   "execution_count": 18,
   "id": "6ff5603a",
   "metadata": {},
   "outputs": [
    {
     "data": {
      "text/plain": [
       "Index(['country_name', 'year', 'Total_Population',\n",
       "       'CO2_Emissions_by_Sector_Building',\n",
       "       'CO2_Emissions_by_Sector_Bunker_Fuels',\n",
       "       'CO2_Emissions_by_Sector_Electricity_Heat',\n",
       "       'CO2_Emissions_by_Sector_Energy',\n",
       "       'CCO2_Emissions_by_Sector_Industrial_Processes',\n",
       "       'CO2_Emissions_by_Sector_Land_Use_Change_and_Forestry',\n",
       "       'CO2_Emissions_by_Sector_Manufacturing_Construction',\n",
       "       'CO2_Emissions_by_Sector_Other_Fuel_Combustion',\n",
       "       'CO2_Emissions_by_Sector_Transportation', 'Net_Electricity_Consumption',\n",
       "       'income_group'],\n",
       "      dtype='object')"
      ]
     },
     "execution_count": 18,
     "metadata": {},
     "output_type": "execute_result"
    }
   ],
   "source": [
    "df_joined.columns"
   ]
  },
  {
   "cell_type": "code",
   "execution_count": 19,
   "id": "b5c83f51",
   "metadata": {},
   "outputs": [
    {
     "data": {
      "text/html": [
       "<div>\n",
       "<style scoped>\n",
       "    .dataframe tbody tr th:only-of-type {\n",
       "        vertical-align: middle;\n",
       "    }\n",
       "\n",
       "    .dataframe tbody tr th {\n",
       "        vertical-align: top;\n",
       "    }\n",
       "\n",
       "    .dataframe thead th {\n",
       "        text-align: right;\n",
       "    }\n",
       "</style>\n",
       "<table border=\"1\" class=\"dataframe\">\n",
       "  <thead>\n",
       "    <tr style=\"text-align: right;\">\n",
       "      <th></th>\n",
       "      <th>country_name</th>\n",
       "      <th>year</th>\n",
       "      <th>Total_Population</th>\n",
       "      <th>CO2_Emissions_by_Sector_Building</th>\n",
       "      <th>CO2_Emissions_by_Sector_Bunker_Fuels</th>\n",
       "      <th>CO2_Emissions_by_Sector_Electricity_Heat</th>\n",
       "      <th>CO2_Emissions_by_Sector_Energy</th>\n",
       "      <th>CCO2_Emissions_by_Sector_Industrial_Processes</th>\n",
       "      <th>CO2_Emissions_by_Sector_Land_Use_Change_and_Forestry</th>\n",
       "      <th>CO2_Emissions_by_Sector_Manufacturing_Construction</th>\n",
       "      <th>CO2_Emissions_by_Sector_Other_Fuel_Combustion</th>\n",
       "      <th>CO2_Emissions_by_Sector_Transportation</th>\n",
       "      <th>Net_Electricity_Consumption</th>\n",
       "      <th>income_group</th>\n",
       "    </tr>\n",
       "  </thead>\n",
       "  <tbody>\n",
       "    <tr>\n",
       "      <th>0</th>\n",
       "      <td>Albania</td>\n",
       "      <td>1999</td>\n",
       "      <td>3108778.0</td>\n",
       "      <td>0.24</td>\n",
       "      <td>0.52</td>\n",
       "      <td>0.29</td>\n",
       "      <td>2.92</td>\n",
       "      <td>0.05</td>\n",
       "      <td>0.19</td>\n",
       "      <td>0.49</td>\n",
       "      <td>0.51</td>\n",
       "      <td>1.40</td>\n",
       "      <td>3.48</td>\n",
       "      <td>LM</td>\n",
       "    </tr>\n",
       "    <tr>\n",
       "      <th>1</th>\n",
       "      <td>Albania</td>\n",
       "      <td>2000</td>\n",
       "      <td>3089027.0</td>\n",
       "      <td>0.25</td>\n",
       "      <td>0.53</td>\n",
       "      <td>0.38</td>\n",
       "      <td>3.08</td>\n",
       "      <td>0.09</td>\n",
       "      <td>0.19</td>\n",
       "      <td>0.47</td>\n",
       "      <td>0.51</td>\n",
       "      <td>1.47</td>\n",
       "      <td>3.76</td>\n",
       "      <td>LM</td>\n",
       "    </tr>\n",
       "    <tr>\n",
       "      <th>2</th>\n",
       "      <td>Albania</td>\n",
       "      <td>2003</td>\n",
       "      <td>3039616.0</td>\n",
       "      <td>0.45</td>\n",
       "      <td>0.55</td>\n",
       "      <td>0.36</td>\n",
       "      <td>3.82</td>\n",
       "      <td>0.29</td>\n",
       "      <td>-1.12</td>\n",
       "      <td>0.50</td>\n",
       "      <td>0.60</td>\n",
       "      <td>1.92</td>\n",
       "      <td>4.11</td>\n",
       "      <td>LM</td>\n",
       "    </tr>\n",
       "    <tr>\n",
       "      <th>3</th>\n",
       "      <td>Albania</td>\n",
       "      <td>2004</td>\n",
       "      <td>3026939.0</td>\n",
       "      <td>0.39</td>\n",
       "      <td>0.31</td>\n",
       "      <td>0.28</td>\n",
       "      <td>4.01</td>\n",
       "      <td>0.29</td>\n",
       "      <td>-1.12</td>\n",
       "      <td>0.55</td>\n",
       "      <td>0.49</td>\n",
       "      <td>2.30</td>\n",
       "      <td>4.05</td>\n",
       "      <td>LM</td>\n",
       "    </tr>\n",
       "    <tr>\n",
       "      <th>4</th>\n",
       "      <td>Albania</td>\n",
       "      <td>2005</td>\n",
       "      <td>3011487.0</td>\n",
       "      <td>0.36</td>\n",
       "      <td>0.38</td>\n",
       "      <td>0.30</td>\n",
       "      <td>3.83</td>\n",
       "      <td>0.25</td>\n",
       "      <td>-1.12</td>\n",
       "      <td>0.45</td>\n",
       "      <td>0.34</td>\n",
       "      <td>2.37</td>\n",
       "      <td>3.74</td>\n",
       "      <td>LM</td>\n",
       "    </tr>\n",
       "  </tbody>\n",
       "</table>\n",
       "</div>"
      ],
      "text/plain": [
       "  country_name  year  Total_Population  CO2_Emissions_by_Sector_Building  \\\n",
       "0      Albania  1999         3108778.0                              0.24   \n",
       "1      Albania  2000         3089027.0                              0.25   \n",
       "2      Albania  2003         3039616.0                              0.45   \n",
       "3      Albania  2004         3026939.0                              0.39   \n",
       "4      Albania  2005         3011487.0                              0.36   \n",
       "\n",
       "   CO2_Emissions_by_Sector_Bunker_Fuels  \\\n",
       "0                                  0.52   \n",
       "1                                  0.53   \n",
       "2                                  0.55   \n",
       "3                                  0.31   \n",
       "4                                  0.38   \n",
       "\n",
       "   CO2_Emissions_by_Sector_Electricity_Heat  CO2_Emissions_by_Sector_Energy  \\\n",
       "0                                      0.29                            2.92   \n",
       "1                                      0.38                            3.08   \n",
       "2                                      0.36                            3.82   \n",
       "3                                      0.28                            4.01   \n",
       "4                                      0.30                            3.83   \n",
       "\n",
       "   CCO2_Emissions_by_Sector_Industrial_Processes  \\\n",
       "0                                           0.05   \n",
       "1                                           0.09   \n",
       "2                                           0.29   \n",
       "3                                           0.29   \n",
       "4                                           0.25   \n",
       "\n",
       "   CO2_Emissions_by_Sector_Land_Use_Change_and_Forestry  \\\n",
       "0                                               0.19      \n",
       "1                                               0.19      \n",
       "2                                              -1.12      \n",
       "3                                              -1.12      \n",
       "4                                              -1.12      \n",
       "\n",
       "   CO2_Emissions_by_Sector_Manufacturing_Construction  \\\n",
       "0                                               0.49    \n",
       "1                                               0.47    \n",
       "2                                               0.50    \n",
       "3                                               0.55    \n",
       "4                                               0.45    \n",
       "\n",
       "   CO2_Emissions_by_Sector_Other_Fuel_Combustion  \\\n",
       "0                                           0.51   \n",
       "1                                           0.51   \n",
       "2                                           0.60   \n",
       "3                                           0.49   \n",
       "4                                           0.34   \n",
       "\n",
       "   CO2_Emissions_by_Sector_Transportation  Net_Electricity_Consumption  \\\n",
       "0                                    1.40                         3.48   \n",
       "1                                    1.47                         3.76   \n",
       "2                                    1.92                         4.11   \n",
       "3                                    2.30                         4.05   \n",
       "4                                    2.37                         3.74   \n",
       "\n",
       "  income_group  \n",
       "0           LM  \n",
       "1           LM  \n",
       "2           LM  \n",
       "3           LM  \n",
       "4           LM  "
      ]
     },
     "execution_count": 19,
     "metadata": {},
     "output_type": "execute_result"
    }
   ],
   "source": [
    "df_joined.head()"
   ]
  },
  {
   "cell_type": "code",
   "execution_count": 20,
   "id": "96d4c6ce",
   "metadata": {},
   "outputs": [
    {
     "data": {
      "text/plain": [
       "118"
      ]
     },
     "execution_count": 20,
     "metadata": {},
     "output_type": "execute_result"
    }
   ],
   "source": [
    "df_joined['country_name'].nunique()"
   ]
  },
  {
   "cell_type": "code",
   "execution_count": 21,
   "id": "39452454",
   "metadata": {},
   "outputs": [
    {
     "data": {
      "text/plain": [
       "country_name                                            2839\n",
       "year                                                    2839\n",
       "Total_Population                                        2839\n",
       "CO2_Emissions_by_Sector_Building                        2839\n",
       "CO2_Emissions_by_Sector_Bunker_Fuels                    2839\n",
       "CO2_Emissions_by_Sector_Electricity_Heat                2839\n",
       "CO2_Emissions_by_Sector_Energy                          2839\n",
       "CCO2_Emissions_by_Sector_Industrial_Processes           2839\n",
       "CO2_Emissions_by_Sector_Land_Use_Change_and_Forestry    2839\n",
       "CO2_Emissions_by_Sector_Manufacturing_Construction      2839\n",
       "CO2_Emissions_by_Sector_Other_Fuel_Combustion           2839\n",
       "CO2_Emissions_by_Sector_Transportation                  2839\n",
       "Net_Electricity_Consumption                             2839\n",
       "income_group                                            2839\n",
       "dtype: int64"
      ]
     },
     "execution_count": 21,
     "metadata": {},
     "output_type": "execute_result"
    }
   ],
   "source": [
    "df_joined.count()"
   ]
  },
  {
   "cell_type": "markdown",
   "id": "b0397ded",
   "metadata": {},
   "source": [
    "### The 'income_group' labels are changed to a numeric 0, 1, 2, 3 in order to be useful to the model."
   ]
  },
  {
   "cell_type": "code",
   "execution_count": 22,
   "id": "6cbe6b5c",
   "metadata": {},
   "outputs": [],
   "source": [
    "df_joined.loc[df_joined['income_group'] == 'H','income_group'] = 0\n",
    "df_joined.loc[df_joined['income_group'] == 'UM','income_group'] = 1\n",
    "df_joined.loc[df_joined['income_group'] == 'LM','income_group'] = 2\n",
    "df_joined.loc[df_joined['income_group'] == 'L','income_group'] = 3"
   ]
  },
  {
   "cell_type": "markdown",
   "id": "f845adb8",
   "metadata": {},
   "source": [
    "### A count of the number of rows for each label is generated. "
   ]
  },
  {
   "cell_type": "code",
   "execution_count": 23,
   "id": "60b2e6f9",
   "metadata": {},
   "outputs": [
    {
     "data": {
      "text/plain": [
       "0    850\n",
       "2    824\n",
       "1    642\n",
       "3    523\n",
       "Name: income_group, dtype: int64"
      ]
     },
     "execution_count": 23,
     "metadata": {},
     "output_type": "execute_result"
    }
   ],
   "source": [
    "df_joined['income_group'].value_counts()"
   ]
  },
  {
   "cell_type": "markdown",
   "id": "6995dbab",
   "metadata": {},
   "source": [
    "### The final columns are selected and a copy of the dataframe is saved as a .csv. The 'year' and 'country_name' columns can now be dropped since each row has been labelled and these values are irrelevant to the model."
   ]
  },
  {
   "cell_type": "code",
   "execution_count": 24,
   "id": "7b5ce72b",
   "metadata": {},
   "outputs": [],
   "source": [
    "df_joined_final = df_joined[['Total_Population',\n",
    "       'CO2_Emissions_by_Sector_Building',\n",
    "       'CO2_Emissions_by_Sector_Bunker_Fuels',\n",
    "       'CO2_Emissions_by_Sector_Electricity_Heat',\n",
    "       'CO2_Emissions_by_Sector_Energy',\n",
    "       'CCO2_Emissions_by_Sector_Industrial_Processes',\n",
    "       'CO2_Emissions_by_Sector_Land_Use_Change_and_Forestry',\n",
    "       'CO2_Emissions_by_Sector_Manufacturing_Construction',\n",
    "       'CO2_Emissions_by_Sector_Other_Fuel_Combustion',\n",
    "       'CO2_Emissions_by_Sector_Transportation', 'Net_Electricity_Consumption',\n",
    "       'income_group']]"
   ]
  },
  {
   "cell_type": "code",
   "execution_count": 25,
   "id": "73cbf613",
   "metadata": {},
   "outputs": [],
   "source": [
    "file_to_save = Path('../data_files/machine_learning_dataset.csv')\n",
    "file_to_save.parent.mkdir(parents=True, exist_ok=True)  \n",
    "df_joined_final.to_csv(file_to_save)  "
   ]
  },
  {
   "cell_type": "markdown",
   "id": "cc14d853",
   "metadata": {},
   "source": [
    "## Splitting and Scaling the data\n",
    "### First the X set and the y target set are defined. The 'income_group' column is still an object and so is converted to the integer datatype before being defined as an array of values."
   ]
  },
  {
   "cell_type": "code",
   "execution_count": 26,
   "id": "d0c799d7",
   "metadata": {},
   "outputs": [],
   "source": [
    "X = df_joined_final.copy()\n",
    "X = X.drop('income_group', axis=1)\n",
    "y = df_joined_final['income_group']\n",
    "y = y.astype('int')\n",
    "y = y.values"
   ]
  },
  {
   "cell_type": "code",
   "execution_count": 27,
   "id": "5b5e22de",
   "metadata": {},
   "outputs": [
    {
     "name": "stdout",
     "output_type": "stream",
     "text": [
      "[2 2 2 ... 3 3 2]\n"
     ]
    }
   ],
   "source": [
    "print(y)"
   ]
  },
  {
   "cell_type": "markdown",
   "id": "d24464b2",
   "metadata": {},
   "source": [
    "### The two sets are split into training and testing sets.\n",
    "#### The shape of each set is inspected to ensure a 75-25 split."
   ]
  },
  {
   "cell_type": "code",
   "execution_count": 28,
   "id": "0a17a3b4",
   "metadata": {},
   "outputs": [
    {
     "name": "stdout",
     "output_type": "stream",
     "text": [
      "(2129, 11)\n",
      "(710, 11)\n",
      "(2129,)\n",
      "(710,)\n"
     ]
    }
   ],
   "source": [
    "X_train, X_test, y_train, y_test = train_test_split(X,y,random_state=86)\n",
    "print(X_train.shape)\n",
    "print(X_test.shape)\n",
    "print(y_train.shape)\n",
    "print(y_test.shape)"
   ]
  },
  {
   "cell_type": "markdown",
   "id": "9c0d8af3",
   "metadata": {},
   "source": [
    "### The data is then scaled and normalized using SciKitLearn's StandardScaler()"
   ]
  },
  {
   "cell_type": "code",
   "execution_count": 29,
   "id": "90bf567b",
   "metadata": {},
   "outputs": [],
   "source": [
    "scaler = StandardScaler()\n",
    "\n",
    "X_scaler = scaler.fit(X_train)\n",
    "\n",
    "X_train_scaled = X_scaler.transform(X_train)\n",
    "X_test_scaled = X_scaler.transform(X_test)"
   ]
  },
  {
   "cell_type": "markdown",
   "id": "97c036a9",
   "metadata": {},
   "source": [
    "### The mean and standard deviation of each scaled column is inspected to ensure a mean of ~0 and stdev of ~1."
   ]
  },
  {
   "cell_type": "code",
   "execution_count": 30,
   "id": "9386689d",
   "metadata": {},
   "outputs": [
    {
     "name": "stdout",
     "output_type": "stream",
     "text": [
      "-1.668724132832551e-18\n",
      "1.0\n",
      "-1.3349793062660408e-17\n",
      "0.9999999999999999\n",
      "-4.004937918798122e-17\n",
      "1.0\n",
      "-2.3362137859655713e-17\n",
      "1.0\n",
      "-2.002468959399061e-17\n",
      "1.0\n",
      "-2.3362137859655713e-17\n",
      "1.0\n",
      "-8.343620664162755e-19\n",
      "1.0\n",
      "-8.343620664162755e-18\n",
      "1.0\n",
      "-1.3349793062660408e-17\n",
      "1.0\n",
      "1.3349793062660408e-17\n",
      "1.0\n",
      "2.6699586125320816e-17\n",
      "1.0\n"
     ]
    }
   ],
   "source": [
    "A = range(11)\n",
    "\n",
    "for a in A:\n",
    "    print(np.mean(X_train_scaled[:,a]))\n",
    "    print(np.std(X_train_scaled[:,a]))"
   ]
  },
  {
   "cell_type": "markdown",
   "id": "7f566c60",
   "metadata": {},
   "source": [
    "### The decision tree classifier instance is then created, and the model is fit to the scaled training data."
   ]
  },
  {
   "cell_type": "code",
   "execution_count": 32,
   "id": "34e557f9",
   "metadata": {},
   "outputs": [],
   "source": [
    "from sklearn.ensemble import RandomForestClassifier\n",
    "# Create a random forest classifier.\n",
    "model = RandomForestClassifier(n_estimators=128, random_state=78) \n",
    "# Fitting the model\n",
    "model = model.fit(X_train_scaled, y_train)"
   ]
  },
  {
   "cell_type": "code",
   "execution_count": 33,
   "id": "a5baebc2",
   "metadata": {},
   "outputs": [],
   "source": [
    "#model = tree.DecisionTreeClassifier()\n",
    "\n",
    "#model = model.fit(X_train_scaled, y_train)"
   ]
  },
  {
   "cell_type": "markdown",
   "id": "a1b871cf",
   "metadata": {},
   "source": [
    "### The scaled test data is then called by the model in order to predict an income classification of 0,1,2 or 3 for each row."
   ]
  },
  {
   "cell_type": "code",
   "execution_count": 34,
   "id": "5fc407c3",
   "metadata": {},
   "outputs": [],
   "source": [
    "predictions = model.predict(X_test_scaled)"
   ]
  },
  {
   "cell_type": "code",
   "execution_count": 35,
   "id": "186c6b44",
   "metadata": {},
   "outputs": [
    {
     "data": {
      "text/plain": [
       "array([3, 0, 0, 1, 1, 1, 0, 2, 1, 2, 2, 0, 0, 0, 2, 0, 0, 0, 3, 2, 0, 3,\n",
       "       2, 1, 1, 0, 1, 3, 2, 3, 1, 0, 1, 0, 0, 0, 3, 2, 3, 1, 0, 2, 1, 1,\n",
       "       3, 0, 2, 1, 2, 1, 1, 2, 3, 2, 1, 3, 0, 2, 3, 2, 2, 0, 2, 0, 0, 2,\n",
       "       2, 1, 2, 3, 1, 1, 1, 0, 0, 2, 0, 0, 3, 0, 3, 2, 1, 3, 2, 0, 3, 2,\n",
       "       3, 0, 0, 1, 2, 3, 0, 2, 0, 1, 1, 3, 3, 1, 3, 2, 0, 0, 0, 0, 2, 3,\n",
       "       3, 2, 2, 1, 2, 1, 2, 3, 2, 3, 2, 2, 2, 0, 2, 2, 3, 0, 3, 3, 0, 0,\n",
       "       1, 2, 2, 3, 3, 2, 3, 1, 3, 3, 2, 1, 0, 2, 0, 2, 3, 0, 2, 0, 2, 0,\n",
       "       2, 0, 2, 3, 2, 0, 1, 3, 1, 0, 3, 0, 1, 0, 2, 2, 0, 0, 2, 2, 3, 2,\n",
       "       0, 3, 2, 2, 3, 2, 1, 2, 2, 1, 3, 1, 2, 2, 1, 0, 3, 1, 1, 2, 0, 2,\n",
       "       1, 0, 0, 0, 3, 0, 2, 0, 0, 0, 3, 0, 1, 2, 2, 3, 0, 0, 3, 3, 0, 0,\n",
       "       0, 1, 0, 2, 2, 2, 0, 1, 2, 2, 1, 3, 2, 1, 1, 1, 0, 2, 2, 1, 2, 2,\n",
       "       2, 1, 1, 1, 2, 1, 0, 0, 3, 1, 3, 3, 2, 2, 0, 3, 1, 1, 3, 2, 2, 1,\n",
       "       2, 2, 3, 3, 0, 3, 2, 1, 0, 1, 2, 1, 0, 2, 2, 0, 2, 1, 0, 0, 1, 1,\n",
       "       3, 0, 2, 3, 0, 2, 3, 0, 1, 1, 2, 1, 3, 0, 1, 2, 3, 0, 2, 0, 2, 3,\n",
       "       0, 0, 0, 2, 0, 2, 0, 2, 3, 2, 0, 0, 2, 0, 2, 3, 0, 2, 1, 1, 2, 0,\n",
       "       1, 1, 2, 0, 3, 2, 2, 1, 3, 3, 3, 3, 2, 2, 0, 2, 0, 3, 2, 1, 0, 0,\n",
       "       0, 3, 1, 1, 0, 1, 2, 1, 0, 1, 1, 3, 2, 3, 3, 2, 0, 0, 1, 0, 0, 2,\n",
       "       3, 2, 0, 1, 1, 0, 1, 1, 0, 2, 0, 2, 2, 2, 3, 2, 2, 3, 1, 0, 0, 0,\n",
       "       0, 3, 1, 1, 3, 2, 1, 1, 0, 3, 0, 0, 3, 1, 1, 2, 1, 2, 2, 1, 2, 0,\n",
       "       2, 2, 0, 2, 3, 2, 1, 0, 1, 0, 0, 0, 0, 0, 2, 1, 2, 1, 2, 3, 0, 1,\n",
       "       1, 0, 3, 2, 0, 2, 2, 2, 2, 0, 0, 0, 2, 0, 2, 0, 1, 2, 2, 0, 1, 3,\n",
       "       2, 1, 1, 0, 3, 2, 0, 0, 1, 0, 1, 1, 0, 0, 0, 0, 0, 2, 3, 0, 3, 3,\n",
       "       3, 3, 2, 0, 1, 0, 1, 2, 3, 3, 2, 2, 2, 3, 1, 1, 2, 0, 2, 2, 2, 3,\n",
       "       3, 2, 2, 3, 2, 0, 3, 0, 2, 3, 3, 2, 0, 1, 2, 1, 0, 0, 0, 0, 0, 2,\n",
       "       1, 0, 2, 0, 3, 0, 1, 0, 3, 0, 2, 0, 0, 1, 3, 1, 1, 1, 3, 0, 1, 3,\n",
       "       1, 3, 2, 0, 2, 1, 3, 1, 0, 3, 0, 0, 2, 3, 0, 2, 0, 0, 1, 3, 0, 1,\n",
       "       0, 2, 2, 3, 0, 2, 2, 1, 2, 1, 2, 3, 0, 0, 0, 3, 0, 2, 3, 1, 0, 2,\n",
       "       0, 2, 0, 1, 1, 0, 1, 1, 1, 0, 0, 2, 0, 0, 1, 2, 2, 3, 3, 0, 0, 2,\n",
       "       0, 0, 0, 0, 2, 2, 3, 1, 2, 3, 0, 0, 2, 0, 3, 2, 0, 1, 3, 3, 2, 3,\n",
       "       0, 0, 1, 1, 1, 2, 0, 3, 1, 0, 0, 1, 1, 2, 3, 3, 3, 1, 3, 3, 0, 2,\n",
       "       3, 0, 3, 0, 0, 2, 0, 2, 0, 0, 0, 2, 1, 1, 3, 0, 1, 0, 0, 0, 3, 2,\n",
       "       0, 2, 1, 2, 2, 1, 1, 0, 3, 3, 2, 1, 2, 3, 1, 1, 2, 1, 0, 0, 1, 0,\n",
       "       0, 2, 2, 3, 3, 2])"
      ]
     },
     "execution_count": 35,
     "metadata": {},
     "output_type": "execute_result"
    }
   ],
   "source": [
    "predictions"
   ]
  },
  {
   "cell_type": "markdown",
   "id": "b95a7963",
   "metadata": {},
   "source": [
    "## Analyzing the Model\n",
    "### A confusion matrix and classification report are generated."
   ]
  },
  {
   "cell_type": "code",
   "execution_count": 36,
   "id": "373b068d",
   "metadata": {},
   "outputs": [
    {
     "name": "stdout",
     "output_type": "stream",
     "text": [
      "Confusion Matrix\n"
     ]
    },
    {
     "data": {
      "text/html": [
       "<div>\n",
       "<style scoped>\n",
       "    .dataframe tbody tr th:only-of-type {\n",
       "        vertical-align: middle;\n",
       "    }\n",
       "\n",
       "    .dataframe tbody tr th {\n",
       "        vertical-align: top;\n",
       "    }\n",
       "\n",
       "    .dataframe thead th {\n",
       "        text-align: right;\n",
       "    }\n",
       "</style>\n",
       "<table border=\"1\" class=\"dataframe\">\n",
       "  <thead>\n",
       "    <tr style=\"text-align: right;\">\n",
       "      <th></th>\n",
       "      <th>Predicted 0</th>\n",
       "      <th>Predicted 1</th>\n",
       "      <th>Predicted 2</th>\n",
       "      <th>Predicted 3</th>\n",
       "    </tr>\n",
       "  </thead>\n",
       "  <tbody>\n",
       "    <tr>\n",
       "      <th>Actual 0</th>\n",
       "      <td>215</td>\n",
       "      <td>3</td>\n",
       "      <td>0</td>\n",
       "      <td>0</td>\n",
       "    </tr>\n",
       "    <tr>\n",
       "      <th>Actual 1</th>\n",
       "      <td>4</td>\n",
       "      <td>136</td>\n",
       "      <td>5</td>\n",
       "      <td>0</td>\n",
       "    </tr>\n",
       "    <tr>\n",
       "      <th>Actual 2</th>\n",
       "      <td>0</td>\n",
       "      <td>13</td>\n",
       "      <td>196</td>\n",
       "      <td>12</td>\n",
       "    </tr>\n",
       "    <tr>\n",
       "      <th>Actual 3</th>\n",
       "      <td>0</td>\n",
       "      <td>0</td>\n",
       "      <td>1</td>\n",
       "      <td>125</td>\n",
       "    </tr>\n",
       "  </tbody>\n",
       "</table>\n",
       "</div>"
      ],
      "text/plain": [
       "          Predicted 0  Predicted 1  Predicted 2  Predicted 3\n",
       "Actual 0          215            3            0            0\n",
       "Actual 1            4          136            5            0\n",
       "Actual 2            0           13          196           12\n",
       "Actual 3            0            0            1          125"
      ]
     },
     "metadata": {},
     "output_type": "display_data"
    },
    {
     "name": "stdout",
     "output_type": "stream",
     "text": [
      "Accuracy Score : 0.9464788732394366\n",
      "Classification Report\n",
      "              precision    recall  f1-score   support\n",
      "\n",
      "           0       0.98      0.99      0.98       218\n",
      "           1       0.89      0.94      0.92       145\n",
      "           2       0.97      0.89      0.93       221\n",
      "           3       0.91      0.99      0.95       126\n",
      "\n",
      "    accuracy                           0.95       710\n",
      "   macro avg       0.94      0.95      0.94       710\n",
      "weighted avg       0.95      0.95      0.95       710\n",
      "\n"
     ]
    }
   ],
   "source": [
    "cm = confusion_matrix(y_test, predictions)\n",
    "\n",
    "cm_df = pd.DataFrame(cm, index=[\"Actual 0\", \"Actual 1\",\"Actual 2\",\"Actual 3\"], columns=[\"Predicted 0\", \"Predicted 1\",\"Predicted 2\",\"Predicted 3\"])\n",
    "\n",
    "acc_score = accuracy_score(y_test, predictions)\n",
    "\n",
    "print(\"Confusion Matrix\")\n",
    "display(cm_df)\n",
    "print(f\"Accuracy Score : {acc_score}\")\n",
    "print(\"Classification Report\")\n",
    "print(classification_report(y_test, predictions))"
   ]
  },
  {
   "cell_type": "markdown",
   "id": "0f8dad40",
   "metadata": {},
   "source": [
    "### A vizualization of the confusion matrix"
   ]
  },
  {
   "cell_type": "code",
   "execution_count": 37,
   "id": "5aab3b00",
   "metadata": {
    "scrolled": true
   },
   "outputs": [
    {
     "data": {
      "image/png": "[encoded data removed]",
      "text/plain": [
       "<Figure size 640x480 with 2 Axes>"
      ]
     },
     "metadata": {},
     "output_type": "display_data"
    }
   ],
   "source": [
    "cm_display = metrics.ConfusionMatrixDisplay(confusion_matrix = cm)\n",
    "\n",
    "cm_display.plot()\n",
    "plt.show()"
   ]
  },
  {
   "cell_type": "markdown",
   "id": "d619d74e",
   "metadata": {},
   "source": [
    "## Ranking the importance of features."
   ]
  },
  {
   "cell_type": "code",
   "execution_count": 38,
   "id": "b786e005",
   "metadata": {},
   "outputs": [
    {
     "data": {
      "text/plain": [
       "[(0.2081806116817245, 'Total_Population'),\n",
       " (0.11376629262662385, 'CO2_Emissions_by_Sector_Transportation'),\n",
       " (0.11125489110704455, 'CO2_Emissions_by_Sector_Land_Use_Change_and_Forestry'),\n",
       " (0.10954461588008342, 'Net_Electricity_Consumption'),\n",
       " (0.08502388554220192, 'CO2_Emissions_by_Sector_Bunker_Fuels'),\n",
       " (0.07103239527420041, 'CO2_Emissions_by_Sector_Energy'),\n",
       " (0.06805296208156264, 'CO2_Emissions_by_Sector_Electricity_Heat'),\n",
       " (0.06448158551566012, 'CO2_Emissions_by_Sector_Building'),\n",
       " (0.06322976903171514, 'CCO2_Emissions_by_Sector_Industrial_Processes'),\n",
       " (0.05365776572199779, 'CO2_Emissions_by_Sector_Other_Fuel_Combustion'),\n",
       " (0.05177522553718573, 'CO2_Emissions_by_Sector_Manufacturing_Construction')]"
      ]
     },
     "execution_count": 38,
     "metadata": {},
     "output_type": "execute_result"
    }
   ],
   "source": [
    "sorted(zip(model.feature_importances_,X.columns), reverse=True)"
   ]
  },
  {
   "cell_type": "markdown",
   "id": "0a7d198f",
   "metadata": {},
   "source": [
    "## Tuning the model using k-folds cross validation."
   ]
  },
  {
   "cell_type": "code",
   "execution_count": 39,
   "id": "0e92af94",
   "metadata": {},
   "outputs": [],
   "source": [
    "from sklearn.model_selection import cross_val_score\n"
   ]
  },
  {
   "cell_type": "code",
   "execution_count": null,
   "id": "373d032a",
   "metadata": {},
   "outputs": [],
   "source": []
  }
 ],
 "metadata": {
  "kernelspec": {
   "display_name": "mlenv",
   "language": "python",
   "name": "mlenv"
  },
  "language_info": {
   "codemirror_mode": {
    "name": "ipython",
    "version": 3
   },
   "file_extension": ".py",
   "mimetype": "text/x-python",
   "name": "python",
   "nbconvert_exporter": "python",
   "pygments_lexer": "ipython3",
   "version": "3.7.13"
  }
 },
 "nbformat": 4,
 "nbformat_minor": 5
}
