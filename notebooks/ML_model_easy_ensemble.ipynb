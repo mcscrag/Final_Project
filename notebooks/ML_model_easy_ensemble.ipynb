{
 "cells": [
  {
   "cell_type": "markdown",
   "id": "c15ae555",
   "metadata": {},
   "source": [
    "# Machine Learning - Using SciKitLearn's Easy Ensemble Classifier Algorithm\n",
    "## Data Preparation\n",
    "### Importing the required dependencies. Psycopg2 is used to connect to the database on AWS."
   ]
  },
  {
   "cell_type": "code",
   "execution_count": 1,
   "id": "667ceff2",
   "metadata": {},
   "outputs": [],
   "source": [
    "import numpy as np\n",
    "import pandas as pd\n",
    "from pathlib import Path\n",
    "import psycopg2 as pg\n",
    "from config import aws_info\n",
    "from imblearn.ensemble import EasyEnsembleClassifier\n",
    "from sklearn import metrics\n",
    "from sklearn.preprocessing import StandardScaler\n",
    "from sklearn.model_selection import train_test_split\n",
    "from sklearn.metrics import confusion_matrix, accuracy_score, classification_report\n",
    "from sklearn.model_selection import GridSearchCV\n",
    "import matplotlib.pyplot as plt"
   ]
  },
  {
   "cell_type": "markdown",
   "id": "01c45b87",
   "metadata": {},
   "source": [
    "### Pandas is used to query the database and create the required dataframes."
   ]
  },
  {
   "cell_type": "code",
   "execution_count": 2,
   "id": "bd8ed05a",
   "metadata": {},
   "outputs": [],
   "source": [
    "engine = pg.connect(database='project_cchange', host='finalproject.cgkd6swv7jef.us-east-2.rds.amazonaws.com', user='root', password='Pollito11!', port='5432')\n",
    "df_metrics = pd.read_sql('select * from metrics', con=engine)\n",
    "df_classifier = pd.read_sql('select * from country_income_class', con=engine)"
   ]
  },
  {
   "cell_type": "markdown",
   "id": "8b250c54",
   "metadata": {},
   "source": [
    "## Preparation of the metrics dataframe.\n",
    "### The columns that will be used in the model are selected into df_metrics_2"
   ]
  },
  {
   "cell_type": "code",
   "execution_count": 3,
   "id": "f2129b01",
   "metadata": {},
   "outputs": [],
   "source": [
    "df_metrics_2 = df_metrics[['country_name', 'year', 'Total_Population','CO2_Emissions_by_Sector_Building',\n",
    "       'CO2_Emissions_by_Sector_Bunker_Fuels',\n",
    "       'CO2_Emissions_by_Sector_Electricity_Heat',\n",
    "       'CO2_Emissions_by_Sector_Energy',\n",
    "       'CCO2_Emissions_by_Sector_Industrial_Processes',\n",
    "       'CO2_Emissions_by_Sector_Land_Use_Change_and_Forestry',\n",
    "       'CO2_Emissions_by_Sector_Manufacturing_Construction',\n",
    "       'CO2_Emissions_by_Sector_Other_Fuel_Combustion','CO2_Emissions_by_Sector_Transportation', 'Net_Electricity_Consumption']]"
   ]
  },
  {
   "cell_type": "markdown",
   "id": "a1b10d14",
   "metadata": {},
   "source": [
    "### Null values will need to be dropped, so the number of values is counted to see approximately how many nulls there are in each column."
   ]
  },
  {
   "cell_type": "code",
   "execution_count": 4,
   "id": "ff0fa098",
   "metadata": {},
   "outputs": [
    {
     "data": {
      "text/plain": [
       "country_name                                            8140\n",
       "year                                                    8140\n",
       "Total_Population                                        8043\n",
       "CO2_Emissions_by_Sector_Building                        5049\n",
       "CO2_Emissions_by_Sector_Bunker_Fuels                    5104\n",
       "CO2_Emissions_by_Sector_Electricity_Heat                5201\n",
       "CO2_Emissions_by_Sector_Energy                          5536\n",
       "CCO2_Emissions_by_Sector_Industrial_Processes           4022\n",
       "CO2_Emissions_by_Sector_Land_Use_Change_and_Forestry    4676\n",
       "CO2_Emissions_by_Sector_Manufacturing_Construction      4728\n",
       "CO2_Emissions_by_Sector_Other_Fuel_Combustion           3813\n",
       "CO2_Emissions_by_Sector_Transportation                  5353\n",
       "Net_Electricity_Consumption                             6035\n",
       "dtype: int64"
      ]
     },
     "execution_count": 4,
     "metadata": {},
     "output_type": "execute_result"
    }
   ],
   "source": [
    "df_metrics_2.count()"
   ]
  },
  {
   "cell_type": "code",
   "execution_count": 5,
   "id": "2c9a4588",
   "metadata": {},
   "outputs": [],
   "source": [
    "df_metrics_3 = df_metrics_2.dropna(how='any')"
   ]
  },
  {
   "cell_type": "code",
   "execution_count": 6,
   "id": "a4153f40",
   "metadata": {},
   "outputs": [
    {
     "data": {
      "text/plain": [
       "country_name                                            2868\n",
       "year                                                    2868\n",
       "Total_Population                                        2868\n",
       "CO2_Emissions_by_Sector_Building                        2868\n",
       "CO2_Emissions_by_Sector_Bunker_Fuels                    2868\n",
       "CO2_Emissions_by_Sector_Electricity_Heat                2868\n",
       "CO2_Emissions_by_Sector_Energy                          2868\n",
       "CCO2_Emissions_by_Sector_Industrial_Processes           2868\n",
       "CO2_Emissions_by_Sector_Land_Use_Change_and_Forestry    2868\n",
       "CO2_Emissions_by_Sector_Manufacturing_Construction      2868\n",
       "CO2_Emissions_by_Sector_Other_Fuel_Combustion           2868\n",
       "CO2_Emissions_by_Sector_Transportation                  2868\n",
       "Net_Electricity_Consumption                             2868\n",
       "dtype: int64"
      ]
     },
     "execution_count": 6,
     "metadata": {},
     "output_type": "execute_result"
    }
   ],
   "source": [
    "df_metrics_3.count()"
   ]
  },
  {
   "cell_type": "markdown",
   "id": "0d1672d3",
   "metadata": {},
   "source": [
    "### The data types are checked as well as the head()."
   ]
  },
  {
   "cell_type": "code",
   "execution_count": 7,
   "id": "581d0e5c",
   "metadata": {},
   "outputs": [
    {
     "data": {
      "text/plain": [
       "country_name                                             object\n",
       "year                                                      int64\n",
       "Total_Population                                        float64\n",
       "CO2_Emissions_by_Sector_Building                        float64\n",
       "CO2_Emissions_by_Sector_Bunker_Fuels                    float64\n",
       "CO2_Emissions_by_Sector_Electricity_Heat                float64\n",
       "CO2_Emissions_by_Sector_Energy                          float64\n",
       "CCO2_Emissions_by_Sector_Industrial_Processes           float64\n",
       "CO2_Emissions_by_Sector_Land_Use_Change_and_Forestry    float64\n",
       "CO2_Emissions_by_Sector_Manufacturing_Construction      float64\n",
       "CO2_Emissions_by_Sector_Other_Fuel_Combustion           float64\n",
       "CO2_Emissions_by_Sector_Transportation                  float64\n",
       "Net_Electricity_Consumption                             float64\n",
       "dtype: object"
      ]
     },
     "execution_count": 7,
     "metadata": {},
     "output_type": "execute_result"
    }
   ],
   "source": [
    "df_metrics_3.dtypes"
   ]
  },
  {
   "cell_type": "code",
   "execution_count": 8,
   "id": "fbc35679",
   "metadata": {},
   "outputs": [
    {
     "data": {
      "text/html": [
       "<div>\n",
       "<style scoped>\n",
       "    .dataframe tbody tr th:only-of-type {\n",
       "        vertical-align: middle;\n",
       "    }\n",
       "\n",
       "    .dataframe tbody tr th {\n",
       "        vertical-align: top;\n",
       "    }\n",
       "\n",
       "    .dataframe thead th {\n",
       "        text-align: right;\n",
       "    }\n",
       "</style>\n",
       "<table border=\"1\" class=\"dataframe\">\n",
       "  <thead>\n",
       "    <tr style=\"text-align: right;\">\n",
       "      <th></th>\n",
       "      <th>country_name</th>\n",
       "      <th>year</th>\n",
       "      <th>Total_Population</th>\n",
       "      <th>CO2_Emissions_by_Sector_Building</th>\n",
       "      <th>CO2_Emissions_by_Sector_Bunker_Fuels</th>\n",
       "      <th>CO2_Emissions_by_Sector_Electricity_Heat</th>\n",
       "      <th>CO2_Emissions_by_Sector_Energy</th>\n",
       "      <th>CCO2_Emissions_by_Sector_Industrial_Processes</th>\n",
       "      <th>CO2_Emissions_by_Sector_Land_Use_Change_and_Forestry</th>\n",
       "      <th>CO2_Emissions_by_Sector_Manufacturing_Construction</th>\n",
       "      <th>CO2_Emissions_by_Sector_Other_Fuel_Combustion</th>\n",
       "      <th>CO2_Emissions_by_Sector_Transportation</th>\n",
       "      <th>Net_Electricity_Consumption</th>\n",
       "    </tr>\n",
       "  </thead>\n",
       "  <tbody>\n",
       "    <tr>\n",
       "      <th>46</th>\n",
       "      <td>Albania</td>\n",
       "      <td>1999</td>\n",
       "      <td>3108778.0</td>\n",
       "      <td>0.24</td>\n",
       "      <td>0.52</td>\n",
       "      <td>0.29</td>\n",
       "      <td>2.92</td>\n",
       "      <td>0.05</td>\n",
       "      <td>0.19</td>\n",
       "      <td>0.49</td>\n",
       "      <td>0.51</td>\n",
       "      <td>1.40</td>\n",
       "      <td>3.48</td>\n",
       "    </tr>\n",
       "    <tr>\n",
       "      <th>47</th>\n",
       "      <td>Albania</td>\n",
       "      <td>2000</td>\n",
       "      <td>3089027.0</td>\n",
       "      <td>0.25</td>\n",
       "      <td>0.53</td>\n",
       "      <td>0.38</td>\n",
       "      <td>3.08</td>\n",
       "      <td>0.09</td>\n",
       "      <td>0.19</td>\n",
       "      <td>0.47</td>\n",
       "      <td>0.51</td>\n",
       "      <td>1.47</td>\n",
       "      <td>3.76</td>\n",
       "    </tr>\n",
       "    <tr>\n",
       "      <th>50</th>\n",
       "      <td>Albania</td>\n",
       "      <td>2003</td>\n",
       "      <td>3039616.0</td>\n",
       "      <td>0.45</td>\n",
       "      <td>0.55</td>\n",
       "      <td>0.36</td>\n",
       "      <td>3.82</td>\n",
       "      <td>0.29</td>\n",
       "      <td>-1.12</td>\n",
       "      <td>0.50</td>\n",
       "      <td>0.60</td>\n",
       "      <td>1.92</td>\n",
       "      <td>4.11</td>\n",
       "    </tr>\n",
       "    <tr>\n",
       "      <th>51</th>\n",
       "      <td>Albania</td>\n",
       "      <td>2004</td>\n",
       "      <td>3026939.0</td>\n",
       "      <td>0.39</td>\n",
       "      <td>0.31</td>\n",
       "      <td>0.28</td>\n",
       "      <td>4.01</td>\n",
       "      <td>0.29</td>\n",
       "      <td>-1.12</td>\n",
       "      <td>0.55</td>\n",
       "      <td>0.49</td>\n",
       "      <td>2.30</td>\n",
       "      <td>4.05</td>\n",
       "    </tr>\n",
       "    <tr>\n",
       "      <th>52</th>\n",
       "      <td>Albania</td>\n",
       "      <td>2005</td>\n",
       "      <td>3011487.0</td>\n",
       "      <td>0.36</td>\n",
       "      <td>0.38</td>\n",
       "      <td>0.30</td>\n",
       "      <td>3.83</td>\n",
       "      <td>0.25</td>\n",
       "      <td>-1.12</td>\n",
       "      <td>0.45</td>\n",
       "      <td>0.34</td>\n",
       "      <td>2.37</td>\n",
       "      <td>3.74</td>\n",
       "    </tr>\n",
       "  </tbody>\n",
       "</table>\n",
       "</div>"
      ],
      "text/plain": [
       "   country_name  year  Total_Population  CO2_Emissions_by_Sector_Building  \\\n",
       "46      Albania  1999         3108778.0                              0.24   \n",
       "47      Albania  2000         3089027.0                              0.25   \n",
       "50      Albania  2003         3039616.0                              0.45   \n",
       "51      Albania  2004         3026939.0                              0.39   \n",
       "52      Albania  2005         3011487.0                              0.36   \n",
       "\n",
       "    CO2_Emissions_by_Sector_Bunker_Fuels  \\\n",
       "46                                  0.52   \n",
       "47                                  0.53   \n",
       "50                                  0.55   \n",
       "51                                  0.31   \n",
       "52                                  0.38   \n",
       "\n",
       "    CO2_Emissions_by_Sector_Electricity_Heat  CO2_Emissions_by_Sector_Energy  \\\n",
       "46                                      0.29                            2.92   \n",
       "47                                      0.38                            3.08   \n",
       "50                                      0.36                            3.82   \n",
       "51                                      0.28                            4.01   \n",
       "52                                      0.30                            3.83   \n",
       "\n",
       "    CCO2_Emissions_by_Sector_Industrial_Processes  \\\n",
       "46                                           0.05   \n",
       "47                                           0.09   \n",
       "50                                           0.29   \n",
       "51                                           0.29   \n",
       "52                                           0.25   \n",
       "\n",
       "    CO2_Emissions_by_Sector_Land_Use_Change_and_Forestry  \\\n",
       "46                                               0.19      \n",
       "47                                               0.19      \n",
       "50                                              -1.12      \n",
       "51                                              -1.12      \n",
       "52                                              -1.12      \n",
       "\n",
       "    CO2_Emissions_by_Sector_Manufacturing_Construction  \\\n",
       "46                                               0.49    \n",
       "47                                               0.47    \n",
       "50                                               0.50    \n",
       "51                                               0.55    \n",
       "52                                               0.45    \n",
       "\n",
       "    CO2_Emissions_by_Sector_Other_Fuel_Combustion  \\\n",
       "46                                           0.51   \n",
       "47                                           0.51   \n",
       "50                                           0.60   \n",
       "51                                           0.49   \n",
       "52                                           0.34   \n",
       "\n",
       "    CO2_Emissions_by_Sector_Transportation  Net_Electricity_Consumption  \n",
       "46                                    1.40                         3.48  \n",
       "47                                    1.47                         3.76  \n",
       "50                                    1.92                         4.11  \n",
       "51                                    2.30                         4.05  \n",
       "52                                    2.37                         3.74  "
      ]
     },
     "execution_count": 8,
     "metadata": {},
     "output_type": "execute_result"
    }
   ],
   "source": [
    "df_metrics_3.head()"
   ]
  },
  {
   "cell_type": "markdown",
   "id": "85afe4cb",
   "metadata": {},
   "source": [
    "### A unique count of the country names tells use how many countries were kept after dropping null values. The original number of countries in the dataframe was 220."
   ]
  },
  {
   "cell_type": "code",
   "execution_count": 9,
   "id": "80743d83",
   "metadata": {},
   "outputs": [
    {
     "data": {
      "text/plain": [
       "119"
      ]
     },
     "execution_count": 9,
     "metadata": {},
     "output_type": "execute_result"
    }
   ],
   "source": [
    "df_metrics_3['country_name'].nunique()"
   ]
  },
  {
   "cell_type": "markdown",
   "id": "7ba2a388",
   "metadata": {},
   "source": [
    "## Preparation of the classifier dataframe.\n",
    "### The columns 'country_name' and 'year' are selected and will both be used to merge the two dataframes in order to assign an 'income_group' to each country and year of the metrics dataframe. The 'income_group' is the target label the classification model will be assigning. The countries are assigned a label of High Income (H), Upper Middle Income (UM), Lower Middle Income (LM), or Lower Income (L). These labels come directly from the World Bank income classification dataset."
   ]
  },
  {
   "cell_type": "code",
   "execution_count": 10,
   "id": "76be1b5c",
   "metadata": {},
   "outputs": [],
   "source": [
    "df_classifier_1 = df_classifier[['country_name','year','income_group']]"
   ]
  },
  {
   "cell_type": "markdown",
   "id": "7c2cdcaa",
   "metadata": {},
   "source": [
    "### A value count of the 'income_group' column is generated to see how many data points are in each income group."
   ]
  },
  {
   "cell_type": "code",
   "execution_count": 11,
   "id": "c39bccdf",
   "metadata": {},
   "outputs": [
    {
     "data": {
      "text/plain": [
       "H     1968\n",
       "LM    1775\n",
       "L     1532\n",
       "UM    1389\n",
       "..     310\n",
       "Name: income_group, dtype: int64"
      ]
     },
     "execution_count": 11,
     "metadata": {},
     "output_type": "execute_result"
    }
   ],
   "source": [
    "df_classifier_1['income_group'].value_counts()"
   ]
  },
  {
   "cell_type": "markdown",
   "id": "0981e8f9",
   "metadata": {},
   "source": [
    "### Null values are changed from '..' to Nan and then dropped."
   ]
  },
  {
   "cell_type": "code",
   "execution_count": 12,
   "id": "530ed406",
   "metadata": {},
   "outputs": [
    {
     "name": "stderr",
     "output_type": "stream",
     "text": [
      "C:\\Users\\brend\\anaconda3\\envs\\mlenv\\lib\\site-packages\\pandas\\core\\frame.py:5244: SettingWithCopyWarning: \n",
      "A value is trying to be set on a copy of a slice from a DataFrame\n",
      "\n",
      "See the caveats in the documentation: https://pandas.pydata.org/pandas-docs/stable/user_guide/indexing.html#returning-a-view-versus-a-copy\n",
      "  method=method,\n"
     ]
    },
    {
     "data": {
      "text/plain": [
       "H     1968\n",
       "LM    1775\n",
       "L     1532\n",
       "UM    1389\n",
       "Name: income_group, dtype: int64"
      ]
     },
     "execution_count": 12,
     "metadata": {},
     "output_type": "execute_result"
    }
   ],
   "source": [
    "df_classifier_2 = df_classifier_1.replace('..', np.nan, inplace=True)\n",
    "df_classifier_3 = df_classifier_1.dropna(how='any')\n",
    "df_classifier_3['income_group'].value_counts()"
   ]
  },
  {
   "cell_type": "markdown",
   "id": "04538cae",
   "metadata": {},
   "source": [
    "### The datatypes and head() are inspected to ensure the dataframe is ready to merge."
   ]
  },
  {
   "cell_type": "code",
   "execution_count": 13,
   "id": "a6a2efa6",
   "metadata": {},
   "outputs": [
    {
     "data": {
      "text/html": [
       "<div>\n",
       "<style scoped>\n",
       "    .dataframe tbody tr th:only-of-type {\n",
       "        vertical-align: middle;\n",
       "    }\n",
       "\n",
       "    .dataframe tbody tr th {\n",
       "        vertical-align: top;\n",
       "    }\n",
       "\n",
       "    .dataframe thead th {\n",
       "        text-align: right;\n",
       "    }\n",
       "</style>\n",
       "<table border=\"1\" class=\"dataframe\">\n",
       "  <thead>\n",
       "    <tr style=\"text-align: right;\">\n",
       "      <th></th>\n",
       "      <th>country_name</th>\n",
       "      <th>year</th>\n",
       "      <th>income_group</th>\n",
       "    </tr>\n",
       "  </thead>\n",
       "  <tbody>\n",
       "    <tr>\n",
       "      <th>0</th>\n",
       "      <td>Afghanistan</td>\n",
       "      <td>1990</td>\n",
       "      <td>L</td>\n",
       "    </tr>\n",
       "    <tr>\n",
       "      <th>1</th>\n",
       "      <td>Afghanistan</td>\n",
       "      <td>1991</td>\n",
       "      <td>L</td>\n",
       "    </tr>\n",
       "    <tr>\n",
       "      <th>2</th>\n",
       "      <td>Afghanistan</td>\n",
       "      <td>1992</td>\n",
       "      <td>L</td>\n",
       "    </tr>\n",
       "    <tr>\n",
       "      <th>3</th>\n",
       "      <td>Afghanistan</td>\n",
       "      <td>1993</td>\n",
       "      <td>L</td>\n",
       "    </tr>\n",
       "    <tr>\n",
       "      <th>4</th>\n",
       "      <td>Afghanistan</td>\n",
       "      <td>1994</td>\n",
       "      <td>L</td>\n",
       "    </tr>\n",
       "  </tbody>\n",
       "</table>\n",
       "</div>"
      ],
      "text/plain": [
       "  country_name  year income_group\n",
       "0  Afghanistan  1990            L\n",
       "1  Afghanistan  1991            L\n",
       "2  Afghanistan  1992            L\n",
       "3  Afghanistan  1993            L\n",
       "4  Afghanistan  1994            L"
      ]
     },
     "execution_count": 13,
     "metadata": {},
     "output_type": "execute_result"
    }
   ],
   "source": [
    "df_classifier_3.head()"
   ]
  },
  {
   "cell_type": "code",
   "execution_count": 14,
   "id": "3259d7df",
   "metadata": {},
   "outputs": [
    {
     "data": {
      "text/plain": [
       "country_name    object\n",
       "year             int64\n",
       "income_group    object\n",
       "dtype: object"
      ]
     },
     "execution_count": 14,
     "metadata": {},
     "output_type": "execute_result"
    }
   ],
   "source": [
    "df_classifier_3.dtypes"
   ]
  },
  {
   "cell_type": "markdown",
   "id": "ae1c2c0b",
   "metadata": {},
   "source": [
    "### Pandas pd.merge() is used to join the tables on both the 'country_name' and 'year' columns."
   ]
  },
  {
   "cell_type": "code",
   "execution_count": 15,
   "id": "a83b96ea",
   "metadata": {},
   "outputs": [],
   "source": [
    "df_joined = pd.merge(df_metrics_3,df_classifier_3,how = 'inner',on=['country_name','year'])"
   ]
  },
  {
   "cell_type": "markdown",
   "id": "50f0eb6f",
   "metadata": {},
   "source": [
    "### The columns and head() are inspected, as well as a count of the total rows and unique countries."
   ]
  },
  {
   "cell_type": "code",
   "execution_count": 16,
   "id": "6ff5603a",
   "metadata": {},
   "outputs": [
    {
     "data": {
      "text/plain": [
       "Index(['country_name', 'year', 'Total_Population',\n",
       "       'CO2_Emissions_by_Sector_Building',\n",
       "       'CO2_Emissions_by_Sector_Bunker_Fuels',\n",
       "       'CO2_Emissions_by_Sector_Electricity_Heat',\n",
       "       'CO2_Emissions_by_Sector_Energy',\n",
       "       'CCO2_Emissions_by_Sector_Industrial_Processes',\n",
       "       'CO2_Emissions_by_Sector_Land_Use_Change_and_Forestry',\n",
       "       'CO2_Emissions_by_Sector_Manufacturing_Construction',\n",
       "       'CO2_Emissions_by_Sector_Other_Fuel_Combustion',\n",
       "       'CO2_Emissions_by_Sector_Transportation', 'Net_Electricity_Consumption',\n",
       "       'income_group'],\n",
       "      dtype='object')"
      ]
     },
     "execution_count": 16,
     "metadata": {},
     "output_type": "execute_result"
    }
   ],
   "source": [
    "df_joined.columns"
   ]
  },
  {
   "cell_type": "code",
   "execution_count": 17,
   "id": "b5c83f51",
   "metadata": {},
   "outputs": [
    {
     "data": {
      "text/html": [
       "<div>\n",
       "<style scoped>\n",
       "    .dataframe tbody tr th:only-of-type {\n",
       "        vertical-align: middle;\n",
       "    }\n",
       "\n",
       "    .dataframe tbody tr th {\n",
       "        vertical-align: top;\n",
       "    }\n",
       "\n",
       "    .dataframe thead th {\n",
       "        text-align: right;\n",
       "    }\n",
       "</style>\n",
       "<table border=\"1\" class=\"dataframe\">\n",
       "  <thead>\n",
       "    <tr style=\"text-align: right;\">\n",
       "      <th></th>\n",
       "      <th>country_name</th>\n",
       "      <th>year</th>\n",
       "      <th>Total_Population</th>\n",
       "      <th>CO2_Emissions_by_Sector_Building</th>\n",
       "      <th>CO2_Emissions_by_Sector_Bunker_Fuels</th>\n",
       "      <th>CO2_Emissions_by_Sector_Electricity_Heat</th>\n",
       "      <th>CO2_Emissions_by_Sector_Energy</th>\n",
       "      <th>CCO2_Emissions_by_Sector_Industrial_Processes</th>\n",
       "      <th>CO2_Emissions_by_Sector_Land_Use_Change_and_Forestry</th>\n",
       "      <th>CO2_Emissions_by_Sector_Manufacturing_Construction</th>\n",
       "      <th>CO2_Emissions_by_Sector_Other_Fuel_Combustion</th>\n",
       "      <th>CO2_Emissions_by_Sector_Transportation</th>\n",
       "      <th>Net_Electricity_Consumption</th>\n",
       "      <th>income_group</th>\n",
       "    </tr>\n",
       "  </thead>\n",
       "  <tbody>\n",
       "    <tr>\n",
       "      <th>0</th>\n",
       "      <td>Albania</td>\n",
       "      <td>1999</td>\n",
       "      <td>3108778.0</td>\n",
       "      <td>0.24</td>\n",
       "      <td>0.52</td>\n",
       "      <td>0.29</td>\n",
       "      <td>2.92</td>\n",
       "      <td>0.05</td>\n",
       "      <td>0.19</td>\n",
       "      <td>0.49</td>\n",
       "      <td>0.51</td>\n",
       "      <td>1.40</td>\n",
       "      <td>3.48</td>\n",
       "      <td>LM</td>\n",
       "    </tr>\n",
       "    <tr>\n",
       "      <th>1</th>\n",
       "      <td>Albania</td>\n",
       "      <td>2000</td>\n",
       "      <td>3089027.0</td>\n",
       "      <td>0.25</td>\n",
       "      <td>0.53</td>\n",
       "      <td>0.38</td>\n",
       "      <td>3.08</td>\n",
       "      <td>0.09</td>\n",
       "      <td>0.19</td>\n",
       "      <td>0.47</td>\n",
       "      <td>0.51</td>\n",
       "      <td>1.47</td>\n",
       "      <td>3.76</td>\n",
       "      <td>LM</td>\n",
       "    </tr>\n",
       "    <tr>\n",
       "      <th>2</th>\n",
       "      <td>Albania</td>\n",
       "      <td>2003</td>\n",
       "      <td>3039616.0</td>\n",
       "      <td>0.45</td>\n",
       "      <td>0.55</td>\n",
       "      <td>0.36</td>\n",
       "      <td>3.82</td>\n",
       "      <td>0.29</td>\n",
       "      <td>-1.12</td>\n",
       "      <td>0.50</td>\n",
       "      <td>0.60</td>\n",
       "      <td>1.92</td>\n",
       "      <td>4.11</td>\n",
       "      <td>LM</td>\n",
       "    </tr>\n",
       "    <tr>\n",
       "      <th>3</th>\n",
       "      <td>Albania</td>\n",
       "      <td>2004</td>\n",
       "      <td>3026939.0</td>\n",
       "      <td>0.39</td>\n",
       "      <td>0.31</td>\n",
       "      <td>0.28</td>\n",
       "      <td>4.01</td>\n",
       "      <td>0.29</td>\n",
       "      <td>-1.12</td>\n",
       "      <td>0.55</td>\n",
       "      <td>0.49</td>\n",
       "      <td>2.30</td>\n",
       "      <td>4.05</td>\n",
       "      <td>LM</td>\n",
       "    </tr>\n",
       "    <tr>\n",
       "      <th>4</th>\n",
       "      <td>Albania</td>\n",
       "      <td>2005</td>\n",
       "      <td>3011487.0</td>\n",
       "      <td>0.36</td>\n",
       "      <td>0.38</td>\n",
       "      <td>0.30</td>\n",
       "      <td>3.83</td>\n",
       "      <td>0.25</td>\n",
       "      <td>-1.12</td>\n",
       "      <td>0.45</td>\n",
       "      <td>0.34</td>\n",
       "      <td>2.37</td>\n",
       "      <td>3.74</td>\n",
       "      <td>LM</td>\n",
       "    </tr>\n",
       "  </tbody>\n",
       "</table>\n",
       "</div>"
      ],
      "text/plain": [
       "  country_name  year  Total_Population  CO2_Emissions_by_Sector_Building  \\\n",
       "0      Albania  1999         3108778.0                              0.24   \n",
       "1      Albania  2000         3089027.0                              0.25   \n",
       "2      Albania  2003         3039616.0                              0.45   \n",
       "3      Albania  2004         3026939.0                              0.39   \n",
       "4      Albania  2005         3011487.0                              0.36   \n",
       "\n",
       "   CO2_Emissions_by_Sector_Bunker_Fuels  \\\n",
       "0                                  0.52   \n",
       "1                                  0.53   \n",
       "2                                  0.55   \n",
       "3                                  0.31   \n",
       "4                                  0.38   \n",
       "\n",
       "   CO2_Emissions_by_Sector_Electricity_Heat  CO2_Emissions_by_Sector_Energy  \\\n",
       "0                                      0.29                            2.92   \n",
       "1                                      0.38                            3.08   \n",
       "2                                      0.36                            3.82   \n",
       "3                                      0.28                            4.01   \n",
       "4                                      0.30                            3.83   \n",
       "\n",
       "   CCO2_Emissions_by_Sector_Industrial_Processes  \\\n",
       "0                                           0.05   \n",
       "1                                           0.09   \n",
       "2                                           0.29   \n",
       "3                                           0.29   \n",
       "4                                           0.25   \n",
       "\n",
       "   CO2_Emissions_by_Sector_Land_Use_Change_and_Forestry  \\\n",
       "0                                               0.19      \n",
       "1                                               0.19      \n",
       "2                                              -1.12      \n",
       "3                                              -1.12      \n",
       "4                                              -1.12      \n",
       "\n",
       "   CO2_Emissions_by_Sector_Manufacturing_Construction  \\\n",
       "0                                               0.49    \n",
       "1                                               0.47    \n",
       "2                                               0.50    \n",
       "3                                               0.55    \n",
       "4                                               0.45    \n",
       "\n",
       "   CO2_Emissions_by_Sector_Other_Fuel_Combustion  \\\n",
       "0                                           0.51   \n",
       "1                                           0.51   \n",
       "2                                           0.60   \n",
       "3                                           0.49   \n",
       "4                                           0.34   \n",
       "\n",
       "   CO2_Emissions_by_Sector_Transportation  Net_Electricity_Consumption  \\\n",
       "0                                    1.40                         3.48   \n",
       "1                                    1.47                         3.76   \n",
       "2                                    1.92                         4.11   \n",
       "3                                    2.30                         4.05   \n",
       "4                                    2.37                         3.74   \n",
       "\n",
       "  income_group  \n",
       "0           LM  \n",
       "1           LM  \n",
       "2           LM  \n",
       "3           LM  \n",
       "4           LM  "
      ]
     },
     "execution_count": 17,
     "metadata": {},
     "output_type": "execute_result"
    }
   ],
   "source": [
    "df_joined.head()"
   ]
  },
  {
   "cell_type": "code",
   "execution_count": 18,
   "id": "96d4c6ce",
   "metadata": {},
   "outputs": [
    {
     "data": {
      "text/plain": [
       "118"
      ]
     },
     "execution_count": 18,
     "metadata": {},
     "output_type": "execute_result"
    }
   ],
   "source": [
    "df_joined['country_name'].nunique()"
   ]
  },
  {
   "cell_type": "code",
   "execution_count": 19,
   "id": "39452454",
   "metadata": {},
   "outputs": [
    {
     "data": {
      "text/plain": [
       "country_name                                            2839\n",
       "year                                                    2839\n",
       "Total_Population                                        2839\n",
       "CO2_Emissions_by_Sector_Building                        2839\n",
       "CO2_Emissions_by_Sector_Bunker_Fuels                    2839\n",
       "CO2_Emissions_by_Sector_Electricity_Heat                2839\n",
       "CO2_Emissions_by_Sector_Energy                          2839\n",
       "CCO2_Emissions_by_Sector_Industrial_Processes           2839\n",
       "CO2_Emissions_by_Sector_Land_Use_Change_and_Forestry    2839\n",
       "CO2_Emissions_by_Sector_Manufacturing_Construction      2839\n",
       "CO2_Emissions_by_Sector_Other_Fuel_Combustion           2839\n",
       "CO2_Emissions_by_Sector_Transportation                  2839\n",
       "Net_Electricity_Consumption                             2839\n",
       "income_group                                            2839\n",
       "dtype: int64"
      ]
     },
     "execution_count": 19,
     "metadata": {},
     "output_type": "execute_result"
    }
   ],
   "source": [
    "df_joined.count()"
   ]
  },
  {
   "cell_type": "markdown",
   "id": "b0397ded",
   "metadata": {},
   "source": [
    "### The 'income_group' labels are changed to a numeric 0, 1, 2, 3 in order to be useful to the model."
   ]
  },
  {
   "cell_type": "code",
   "execution_count": 20,
   "id": "6cbe6b5c",
   "metadata": {},
   "outputs": [],
   "source": [
    "df_joined.loc[df_joined['income_group'] == 'H','income_group'] = 0\n",
    "df_joined.loc[df_joined['income_group'] == 'UM','income_group'] = 1\n",
    "df_joined.loc[df_joined['income_group'] == 'LM','income_group'] = 2\n",
    "df_joined.loc[df_joined['income_group'] == 'L','income_group'] = 3"
   ]
  },
  {
   "cell_type": "markdown",
   "id": "f845adb8",
   "metadata": {},
   "source": [
    "### A count of the number of rows for each label is generated. "
   ]
  },
  {
   "cell_type": "code",
   "execution_count": 21,
   "id": "60b2e6f9",
   "metadata": {},
   "outputs": [
    {
     "data": {
      "text/plain": [
       "0    850\n",
       "2    824\n",
       "1    642\n",
       "3    523\n",
       "Name: income_group, dtype: int64"
      ]
     },
     "execution_count": 21,
     "metadata": {},
     "output_type": "execute_result"
    }
   ],
   "source": [
    "df_joined['income_group'].value_counts()"
   ]
  },
  {
   "cell_type": "markdown",
   "id": "6995dbab",
   "metadata": {},
   "source": [
    "### The final columns are selected and a copy of the dataframe is saved as a .csv. The 'year' and 'country_name' columns can now be dropped since each row has been labelled and these values are irrelevant to the model."
   ]
  },
  {
   "cell_type": "code",
   "execution_count": 22,
   "id": "7b5ce72b",
   "metadata": {},
   "outputs": [],
   "source": [
    "df_joined_final = df_joined[['Total_Population',\n",
    "       'CO2_Emissions_by_Sector_Building',\n",
    "       'CO2_Emissions_by_Sector_Bunker_Fuels',\n",
    "       'CO2_Emissions_by_Sector_Electricity_Heat',\n",
    "       'CO2_Emissions_by_Sector_Energy',\n",
    "       'CCO2_Emissions_by_Sector_Industrial_Processes',\n",
    "       'CO2_Emissions_by_Sector_Land_Use_Change_and_Forestry',\n",
    "       'CO2_Emissions_by_Sector_Manufacturing_Construction',\n",
    "       'CO2_Emissions_by_Sector_Other_Fuel_Combustion',\n",
    "       'CO2_Emissions_by_Sector_Transportation', 'Net_Electricity_Consumption',\n",
    "       'income_group']]"
   ]
  },
  {
   "cell_type": "markdown",
   "id": "cc14d853",
   "metadata": {},
   "source": [
    "## Splitting and Scaling the data\n",
    "### First the X set and the y target set are defined. The 'income_group' column is still an object and so is converted to the integer datatype before being defined as an array of values."
   ]
  },
  {
   "cell_type": "code",
   "execution_count": 23,
   "id": "d0c799d7",
   "metadata": {},
   "outputs": [],
   "source": [
    "X = df_joined_final.copy()\n",
    "X = X.drop('income_group', axis=1)\n",
    "y = df_joined_final['income_group']\n",
    "y = y.astype('int')\n",
    "y = y.values"
   ]
  },
  {
   "cell_type": "code",
   "execution_count": 24,
   "id": "5b5e22de",
   "metadata": {},
   "outputs": [
    {
     "name": "stdout",
     "output_type": "stream",
     "text": [
      "[2 2 2 ... 3 3 2]\n"
     ]
    }
   ],
   "source": [
    "print(y)"
   ]
  },
  {
   "cell_type": "markdown",
   "id": "d24464b2",
   "metadata": {},
   "source": [
    "### The two sets are split into training and testing sets.\n",
    "#### The shape of each set is inspected to ensure a 75-25 split."
   ]
  },
  {
   "cell_type": "code",
   "execution_count": 25,
   "id": "0a17a3b4",
   "metadata": {},
   "outputs": [
    {
     "name": "stdout",
     "output_type": "stream",
     "text": [
      "(2129, 11)\n",
      "(710, 11)\n",
      "(2129,)\n",
      "(710,)\n"
     ]
    }
   ],
   "source": [
    "X_train, X_test, y_train, y_test = train_test_split(X,y,random_state=86)\n",
    "print(X_train.shape)\n",
    "print(X_test.shape)\n",
    "print(y_train.shape)\n",
    "print(y_test.shape)"
   ]
  },
  {
   "cell_type": "markdown",
   "id": "9c0d8af3",
   "metadata": {},
   "source": [
    "### The data is then scaled and normalized using SciKitLearn's StandardScaler()"
   ]
  },
  {
   "cell_type": "code",
   "execution_count": 26,
   "id": "90bf567b",
   "metadata": {},
   "outputs": [],
   "source": [
    "scaler = StandardScaler()\n",
    "\n",
    "X_scaler = scaler.fit(X_train)\n",
    "\n",
    "X_train_scaled = X_scaler.transform(X_train)\n",
    "X_test_scaled = X_scaler.transform(X_test)"
   ]
  },
  {
   "cell_type": "markdown",
   "id": "97c036a9",
   "metadata": {},
   "source": [
    "### The mean and standard deviation of each scaled column is inspected to ensure a mean of ~0 and stdev of ~1."
   ]
  },
  {
   "cell_type": "code",
   "execution_count": 27,
   "id": "9386689d",
   "metadata": {},
   "outputs": [
    {
     "name": "stdout",
     "output_type": "stream",
     "text": [
      "-1.668724132832551e-18\n",
      "1.0\n",
      "-1.3349793062660408e-17\n",
      "0.9999999999999999\n",
      "-4.004937918798122e-17\n",
      "1.0\n",
      "-2.3362137859655713e-17\n",
      "1.0\n",
      "-2.002468959399061e-17\n",
      "1.0\n",
      "-2.3362137859655713e-17\n",
      "1.0\n",
      "-8.343620664162755e-19\n",
      "1.0\n",
      "-8.343620664162755e-18\n",
      "1.0\n",
      "-1.3349793062660408e-17\n",
      "1.0\n",
      "1.3349793062660408e-17\n",
      "1.0\n",
      "2.6699586125320816e-17\n",
      "1.0\n"
     ]
    }
   ],
   "source": [
    "A = range(11)\n",
    "\n",
    "for a in A:\n",
    "    print(np.mean(X_train_scaled[:,a]))\n",
    "    print(np.std(X_train_scaled[:,a]))"
   ]
  },
  {
   "cell_type": "markdown",
   "id": "7f566c60",
   "metadata": {},
   "source": [
    "### The Easy Ensemble model is then created and fit to the training data."
   ]
  },
  {
   "cell_type": "code",
   "execution_count": 28,
   "id": "a5baebc2",
   "metadata": {},
   "outputs": [
    {
     "data": {
      "text/plain": [
       "EasyEnsembleClassifier(random_state=86)"
      ]
     },
     "execution_count": 28,
     "metadata": {},
     "output_type": "execute_result"
    }
   ],
   "source": [
    "model = EasyEnsembleClassifier(random_state=86)\n",
    "\n",
    "model.fit(X_train_scaled, y_train)"
   ]
  },
  {
   "cell_type": "markdown",
   "id": "a1b871cf",
   "metadata": {},
   "source": [
    "### The scaled test data is then called by the model in order to predict an income classification of 0,1,2 or 3 for each row."
   ]
  },
  {
   "cell_type": "code",
   "execution_count": 29,
   "id": "5fc407c3",
   "metadata": {},
   "outputs": [],
   "source": [
    "predictions = model.predict(X_test_scaled)"
   ]
  },
  {
   "cell_type": "code",
   "execution_count": 30,
   "id": "186c6b44",
   "metadata": {},
   "outputs": [
    {
     "data": {
      "text/plain": [
       "array([3, 0, 0, 1, 2, 1, 1, 2, 1, 2, 2, 0, 0, 1, 1, 1, 0, 1, 2, 2, 1, 3,\n",
       "       1, 1, 1, 0, 2, 3, 2, 3, 1, 1, 0, 0, 0, 0, 3, 1, 3, 1, 1, 2, 2, 1,\n",
       "       3, 1, 2, 3, 2, 2, 1, 2, 3, 2, 2, 3, 1, 1, 3, 2, 3, 0, 2, 0, 0, 2,\n",
       "       2, 1, 2, 3, 2, 0, 1, 0, 0, 3, 0, 0, 3, 1, 3, 2, 1, 3, 2, 0, 3, 1,\n",
       "       2, 0, 1, 1, 2, 3, 0, 2, 0, 1, 1, 2, 3, 1, 3, 2, 0, 0, 0, 0, 2, 3,\n",
       "       3, 2, 1, 1, 2, 1, 2, 3, 1, 2, 2, 3, 2, 1, 2, 2, 3, 1, 3, 3, 1, 1,\n",
       "       1, 2, 1, 3, 2, 2, 3, 1, 3, 3, 2, 1, 0, 2, 1, 2, 3, 0, 2, 1, 2, 0,\n",
       "       2, 1, 2, 2, 2, 1, 1, 3, 1, 1, 2, 0, 1, 0, 2, 1, 1, 0, 2, 2, 2, 1,\n",
       "       0, 2, 2, 2, 3, 3, 1, 2, 2, 1, 3, 1, 3, 3, 2, 0, 3, 0, 1, 1, 1, 2,\n",
       "       0, 1, 0, 0, 3, 0, 2, 1, 0, 1, 3, 1, 1, 2, 2, 3, 0, 0, 3, 3, 1, 0,\n",
       "       0, 1, 1, 2, 2, 2, 0, 2, 2, 1, 1, 3, 2, 1, 1, 2, 1, 3, 2, 1, 2, 1,\n",
       "       2, 1, 1, 2, 3, 1, 0, 0, 2, 1, 3, 3, 2, 2, 1, 3, 1, 2, 2, 3, 2, 1,\n",
       "       2, 3, 3, 2, 1, 3, 2, 2, 1, 1, 3, 1, 0, 2, 1, 0, 1, 1, 1, 0, 2, 1,\n",
       "       3, 0, 0, 2, 0, 1, 3, 0, 2, 1, 1, 0, 3, 0, 1, 3, 2, 0, 2, 0, 2, 2,\n",
       "       1, 0, 0, 2, 0, 2, 1, 2, 3, 3, 0, 0, 2, 1, 3, 3, 0, 2, 1, 0, 1, 0,\n",
       "       1, 1, 2, 0, 3, 2, 2, 1, 2, 3, 3, 3, 2, 0, 1, 2, 0, 2, 1, 1, 0, 1,\n",
       "       1, 3, 1, 1, 0, 1, 1, 1, 0, 1, 1, 2, 1, 3, 3, 0, 1, 0, 1, 1, 0, 2,\n",
       "       2, 2, 0, 2, 2, 1, 1, 1, 0, 2, 0, 2, 3, 2, 3, 2, 2, 2, 1, 0, 0, 0,\n",
       "       1, 3, 1, 1, 3, 3, 1, 1, 1, 3, 1, 1, 2, 1, 1, 1, 2, 2, 2, 1, 2, 1,\n",
       "       1, 2, 0, 1, 2, 3, 1, 0, 2, 0, 1, 0, 0, 0, 2, 1, 3, 1, 3, 3, 0, 1,\n",
       "       1, 0, 2, 3, 0, 1, 2, 1, 2, 0, 0, 1, 3, 0, 1, 0, 2, 3, 2, 1, 1, 3,\n",
       "       2, 1, 1, 0, 3, 1, 1, 0, 1, 0, 1, 1, 0, 1, 0, 0, 1, 1, 3, 0, 3, 3,\n",
       "       3, 2, 1, 1, 1, 1, 1, 2, 3, 3, 1, 3, 2, 3, 1, 2, 1, 0, 2, 2, 2, 2,\n",
       "       2, 2, 1, 3, 2, 0, 3, 1, 1, 3, 3, 1, 0, 2, 2, 1, 0, 0, 0, 1, 0, 1,\n",
       "       1, 0, 1, 0, 3, 0, 1, 1, 2, 1, 2, 0, 0, 2, 3, 1, 1, 1, 3, 0, 1, 3,\n",
       "       1, 3, 2, 0, 2, 1, 3, 1, 0, 2, 0, 0, 2, 3, 0, 1, 0, 0, 1, 3, 0, 1,\n",
       "       1, 1, 2, 2, 1, 3, 1, 2, 2, 1, 2, 3, 1, 0, 0, 2, 0, 2, 2, 1, 0, 2,\n",
       "       0, 2, 0, 1, 1, 0, 1, 1, 1, 1, 0, 2, 0, 1, 1, 2, 3, 3, 3, 0, 0, 1,\n",
       "       0, 0, 0, 0, 2, 2, 3, 1, 1, 3, 0, 0, 2, 0, 3, 3, 0, 1, 2, 3, 2, 3,\n",
       "       0, 1, 1, 1, 1, 2, 0, 3, 1, 0, 1, 1, 1, 2, 3, 3, 2, 1, 3, 3, 1, 1,\n",
       "       2, 0, 2, 0, 1, 1, 0, 2, 0, 1, 1, 3, 1, 1, 2, 0, 1, 0, 0, 0, 3, 2,\n",
       "       1, 3, 1, 2, 2, 1, 2, 0, 3, 2, 2, 1, 1, 3, 1, 1, 1, 1, 0, 1, 3, 1,\n",
       "       0, 2, 1, 3, 3, 2])"
      ]
     },
     "execution_count": 30,
     "metadata": {},
     "output_type": "execute_result"
    }
   ],
   "source": [
    "predictions"
   ]
  },
  {
   "cell_type": "markdown",
   "id": "b95a7963",
   "metadata": {},
   "source": [
    "## Analyzing the Model\n",
    "### A confusion matrix and classification report are generated."
   ]
  },
  {
   "cell_type": "code",
   "execution_count": 31,
   "id": "373b068d",
   "metadata": {},
   "outputs": [
    {
     "name": "stdout",
     "output_type": "stream",
     "text": [
      "Confusion Matrix\n"
     ]
    },
    {
     "data": {
      "text/html": [
       "<div>\n",
       "<style scoped>\n",
       "    .dataframe tbody tr th:only-of-type {\n",
       "        vertical-align: middle;\n",
       "    }\n",
       "\n",
       "    .dataframe tbody tr th {\n",
       "        vertical-align: top;\n",
       "    }\n",
       "\n",
       "    .dataframe thead th {\n",
       "        text-align: right;\n",
       "    }\n",
       "</style>\n",
       "<table border=\"1\" class=\"dataframe\">\n",
       "  <thead>\n",
       "    <tr style=\"text-align: right;\">\n",
       "      <th></th>\n",
       "      <th>Predicted 0</th>\n",
       "      <th>Predicted 1</th>\n",
       "      <th>Predicted 2</th>\n",
       "      <th>Predicted 3</th>\n",
       "    </tr>\n",
       "  </thead>\n",
       "  <tbody>\n",
       "    <tr>\n",
       "      <th>Actual 0</th>\n",
       "      <td>147</td>\n",
       "      <td>71</td>\n",
       "      <td>0</td>\n",
       "      <td>0</td>\n",
       "    </tr>\n",
       "    <tr>\n",
       "      <th>Actual 1</th>\n",
       "      <td>4</td>\n",
       "      <td>118</td>\n",
       "      <td>23</td>\n",
       "      <td>0</td>\n",
       "    </tr>\n",
       "    <tr>\n",
       "      <th>Actual 2</th>\n",
       "      <td>4</td>\n",
       "      <td>51</td>\n",
       "      <td>130</td>\n",
       "      <td>36</td>\n",
       "    </tr>\n",
       "    <tr>\n",
       "      <th>Actual 3</th>\n",
       "      <td>0</td>\n",
       "      <td>0</td>\n",
       "      <td>32</td>\n",
       "      <td>94</td>\n",
       "    </tr>\n",
       "  </tbody>\n",
       "</table>\n",
       "</div>"
      ],
      "text/plain": [
       "          Predicted 0  Predicted 1  Predicted 2  Predicted 3\n",
       "Actual 0          147           71            0            0\n",
       "Actual 1            4          118           23            0\n",
       "Actual 2            4           51          130           36\n",
       "Actual 3            0            0           32           94"
      ]
     },
     "metadata": {},
     "output_type": "display_data"
    },
    {
     "name": "stdout",
     "output_type": "stream",
     "text": [
      "Accuracy Score : 0.6887323943661972\n",
      "Classification Report\n",
      "              precision    recall  f1-score   support\n",
      "\n",
      "           0       0.95      0.67      0.79       218\n",
      "           1       0.49      0.81      0.61       145\n",
      "           2       0.70      0.59      0.64       221\n",
      "           3       0.72      0.75      0.73       126\n",
      "\n",
      "    accuracy                           0.69       710\n",
      "   macro avg       0.72      0.71      0.69       710\n",
      "weighted avg       0.74      0.69      0.70       710\n",
      "\n"
     ]
    }
   ],
   "source": [
    "cm = confusion_matrix(y_test, predictions)\n",
    "\n",
    "cm_df = pd.DataFrame(cm, index=[\"Actual 0\", \"Actual 1\",\"Actual 2\",\"Actual 3\"], columns=[\"Predicted 0\", \"Predicted 1\",\"Predicted 2\",\"Predicted 3\"])\n",
    "\n",
    "acc_score = accuracy_score(y_test, predictions)\n",
    "\n",
    "print(\"Confusion Matrix\")\n",
    "display(cm_df)\n",
    "print(f\"Accuracy Score : {acc_score}\")\n",
    "print(\"Classification Report\")\n",
    "print(classification_report(y_test, predictions))"
   ]
  },
  {
   "cell_type": "markdown",
   "id": "0f8dad40",
   "metadata": {},
   "source": [
    "### A vizualization of the confusion matrix"
   ]
  },
  {
   "cell_type": "code",
   "execution_count": 32,
   "id": "5aab3b00",
   "metadata": {},
   "outputs": [
    {
     "data": {
      "image/png": "[encoded data removed]",
      "text/plain": [
       "<Figure size 640x480 with 2 Axes>"
      ]
     },
     "metadata": {},
     "output_type": "display_data"
    }
   ],
   "source": [
    "cm_display = metrics.ConfusionMatrixDisplay(confusion_matrix = cm)\n",
    "\n",
    "cm_display.plot(cmap='Greens_r')\n",
    "plt.savefig('../sql/EE_matrix.png', dpi=1200)\n",
    "plt.show()"
   ]
  },
  {
   "cell_type": "markdown",
   "id": "5420884c",
   "metadata": {},
   "source": [
    "## Tuning the model using grid search cross validation.\n",
    "\n",
    "### Code taken from \"https://towardsdatascience.com/cross-validation-and-grid-search-efa64b127c1b\"\n",
    "\n",
    "#### A grid is constructed with some arrays of parameters for the DecisionTreeClassifier(). The GridSearchCV object then runs a combination of each possible set of parameters and determines the best outcome based on accuracy score."
   ]
  },
  {
   "cell_type": "code",
   "execution_count": 41,
   "id": "969d9b2a",
   "metadata": {},
   "outputs": [],
   "source": [
    "grid = {'max_features': ['sqrt','log2'],\n",
    "        'max_depth' : [4,5,6,7,8],\n",
    "        'criterion' :['gini', 'entropy']\n",
    "    }\n",
    "\n",
    "gs = GridSearchCV(estimator=model,cv=5, param_grid=grid)\n"
   ]
  },
  {
   "cell_type": "code",
   "execution_count": 44,
   "id": "fa73c96b",
   "metadata": {},
   "outputs": [
    {
     "data": {
      "text/plain": [
       "dict_keys(['base_estimator', 'estimator', 'n_estimators', 'n_jobs', 'random_state', 'replacement', 'sampling_strategy', 'verbose', 'warm_start'])"
      ]
     },
     "execution_count": 44,
     "metadata": {},
     "output_type": "execute_result"
    }
   ],
   "source": [
    "estimator=model\n",
    "estimator.get_params().keys()"
   ]
  },
  {
   "cell_type": "code",
   "execution_count": 42,
   "id": "6a5ac7e8",
   "metadata": {},
   "outputs": [
    {
     "ename": "ValueError",
     "evalue": "Invalid parameter criterion for estimator EasyEnsembleClassifier(random_state=86). Check the list of available parameters with `estimator.get_params().keys()`.",
     "output_type": "error",
     "traceback": [
      "\u001b[1;31m---------------------------------------------------------------------------\u001b[0m",
      "\u001b[1;31mValueError\u001b[0m                                Traceback (most recent call last)",
      "\u001b[1;32m~\\AppData\\Local\\Temp\\ipykernel_2216\\2986326430.py\u001b[0m in \u001b[0;36m<module>\u001b[1;34m\u001b[0m\n\u001b[1;32m----> 1\u001b[1;33m \u001b[0mgs\u001b[0m\u001b[1;33m.\u001b[0m\u001b[0mfit\u001b[0m\u001b[1;33m(\u001b[0m\u001b[0mX_train_scaled\u001b[0m\u001b[1;33m,\u001b[0m \u001b[0my_train\u001b[0m\u001b[1;33m)\u001b[0m\u001b[1;33m\u001b[0m\u001b[1;33m\u001b[0m\u001b[0m\n\u001b[0m",
      "\u001b[1;32m~\\anaconda3\\envs\\mlenv\\lib\\site-packages\\sklearn\\model_selection\\_search.py\u001b[0m in \u001b[0;36mfit\u001b[1;34m(self, X, y, groups, **fit_params)\u001b[0m\n\u001b[0;32m    889\u001b[0m                 \u001b[1;32mreturn\u001b[0m \u001b[0mresults\u001b[0m\u001b[1;33m\u001b[0m\u001b[1;33m\u001b[0m\u001b[0m\n\u001b[0;32m    890\u001b[0m \u001b[1;33m\u001b[0m\u001b[0m\n\u001b[1;32m--> 891\u001b[1;33m             \u001b[0mself\u001b[0m\u001b[1;33m.\u001b[0m\u001b[0m_run_search\u001b[0m\u001b[1;33m(\u001b[0m\u001b[0mevaluate_candidates\u001b[0m\u001b[1;33m)\u001b[0m\u001b[1;33m\u001b[0m\u001b[1;33m\u001b[0m\u001b[0m\n\u001b[0m\u001b[0;32m    892\u001b[0m \u001b[1;33m\u001b[0m\u001b[0m\n\u001b[0;32m    893\u001b[0m             \u001b[1;31m# multimetric is determined here because in the case of a callable\u001b[0m\u001b[1;33m\u001b[0m\u001b[1;33m\u001b[0m\u001b[1;33m\u001b[0m\u001b[0m\n",
      "\u001b[1;32m~\\anaconda3\\envs\\mlenv\\lib\\site-packages\\sklearn\\model_selection\\_search.py\u001b[0m in \u001b[0;36m_run_search\u001b[1;34m(self, evaluate_candidates)\u001b[0m\n\u001b[0;32m   1390\u001b[0m     \u001b[1;32mdef\u001b[0m \u001b[0m_run_search\u001b[0m\u001b[1;33m(\u001b[0m\u001b[0mself\u001b[0m\u001b[1;33m,\u001b[0m \u001b[0mevaluate_candidates\u001b[0m\u001b[1;33m)\u001b[0m\u001b[1;33m:\u001b[0m\u001b[1;33m\u001b[0m\u001b[1;33m\u001b[0m\u001b[0m\n\u001b[0;32m   1391\u001b[0m         \u001b[1;34m\"\"\"Search all candidates in param_grid\"\"\"\u001b[0m\u001b[1;33m\u001b[0m\u001b[1;33m\u001b[0m\u001b[0m\n\u001b[1;32m-> 1392\u001b[1;33m         \u001b[0mevaluate_candidates\u001b[0m\u001b[1;33m(\u001b[0m\u001b[0mParameterGrid\u001b[0m\u001b[1;33m(\u001b[0m\u001b[0mself\u001b[0m\u001b[1;33m.\u001b[0m\u001b[0mparam_grid\u001b[0m\u001b[1;33m)\u001b[0m\u001b[1;33m)\u001b[0m\u001b[1;33m\u001b[0m\u001b[1;33m\u001b[0m\u001b[0m\n\u001b[0m\u001b[0;32m   1393\u001b[0m \u001b[1;33m\u001b[0m\u001b[0m\n\u001b[0;32m   1394\u001b[0m \u001b[1;33m\u001b[0m\u001b[0m\n",
      "\u001b[1;32m~\\anaconda3\\envs\\mlenv\\lib\\site-packages\\sklearn\\model_selection\\_search.py\u001b[0m in \u001b[0;36mevaluate_candidates\u001b[1;34m(candidate_params, cv, more_results)\u001b[0m\n\u001b[0;32m    849\u001b[0m                     )\n\u001b[0;32m    850\u001b[0m                     for (cand_idx, parameters), (split_idx, (train, test)) in product(\n\u001b[1;32m--> 851\u001b[1;33m                         \u001b[0menumerate\u001b[0m\u001b[1;33m(\u001b[0m\u001b[0mcandidate_params\u001b[0m\u001b[1;33m)\u001b[0m\u001b[1;33m,\u001b[0m \u001b[0menumerate\u001b[0m\u001b[1;33m(\u001b[0m\u001b[0mcv\u001b[0m\u001b[1;33m.\u001b[0m\u001b[0msplit\u001b[0m\u001b[1;33m(\u001b[0m\u001b[0mX\u001b[0m\u001b[1;33m,\u001b[0m \u001b[0my\u001b[0m\u001b[1;33m,\u001b[0m \u001b[0mgroups\u001b[0m\u001b[1;33m)\u001b[0m\u001b[1;33m)\u001b[0m\u001b[1;33m\u001b[0m\u001b[1;33m\u001b[0m\u001b[0m\n\u001b[0m\u001b[0;32m    852\u001b[0m                     )\n\u001b[0;32m    853\u001b[0m                 )\n",
      "\u001b[1;32m~\\anaconda3\\envs\\mlenv\\lib\\site-packages\\joblib\\parallel.py\u001b[0m in \u001b[0;36m__call__\u001b[1;34m(self, iterable)\u001b[0m\n\u001b[0;32m   1041\u001b[0m             \u001b[1;31m# remaining jobs.\u001b[0m\u001b[1;33m\u001b[0m\u001b[1;33m\u001b[0m\u001b[1;33m\u001b[0m\u001b[0m\n\u001b[0;32m   1042\u001b[0m             \u001b[0mself\u001b[0m\u001b[1;33m.\u001b[0m\u001b[0m_iterating\u001b[0m \u001b[1;33m=\u001b[0m \u001b[1;32mFalse\u001b[0m\u001b[1;33m\u001b[0m\u001b[1;33m\u001b[0m\u001b[0m\n\u001b[1;32m-> 1043\u001b[1;33m             \u001b[1;32mif\u001b[0m \u001b[0mself\u001b[0m\u001b[1;33m.\u001b[0m\u001b[0mdispatch_one_batch\u001b[0m\u001b[1;33m(\u001b[0m\u001b[0miterator\u001b[0m\u001b[1;33m)\u001b[0m\u001b[1;33m:\u001b[0m\u001b[1;33m\u001b[0m\u001b[1;33m\u001b[0m\u001b[0m\n\u001b[0m\u001b[0;32m   1044\u001b[0m                 \u001b[0mself\u001b[0m\u001b[1;33m.\u001b[0m\u001b[0m_iterating\u001b[0m \u001b[1;33m=\u001b[0m \u001b[0mself\u001b[0m\u001b[1;33m.\u001b[0m\u001b[0m_original_iterator\u001b[0m \u001b[1;32mis\u001b[0m \u001b[1;32mnot\u001b[0m \u001b[1;32mNone\u001b[0m\u001b[1;33m\u001b[0m\u001b[1;33m\u001b[0m\u001b[0m\n\u001b[0;32m   1045\u001b[0m \u001b[1;33m\u001b[0m\u001b[0m\n",
      "\u001b[1;32m~\\anaconda3\\envs\\mlenv\\lib\\site-packages\\joblib\\parallel.py\u001b[0m in \u001b[0;36mdispatch_one_batch\u001b[1;34m(self, iterator)\u001b[0m\n\u001b[0;32m    859\u001b[0m                 \u001b[1;32mreturn\u001b[0m \u001b[1;32mFalse\u001b[0m\u001b[1;33m\u001b[0m\u001b[1;33m\u001b[0m\u001b[0m\n\u001b[0;32m    860\u001b[0m             \u001b[1;32melse\u001b[0m\u001b[1;33m:\u001b[0m\u001b[1;33m\u001b[0m\u001b[1;33m\u001b[0m\u001b[0m\n\u001b[1;32m--> 861\u001b[1;33m                 \u001b[0mself\u001b[0m\u001b[1;33m.\u001b[0m\u001b[0m_dispatch\u001b[0m\u001b[1;33m(\u001b[0m\u001b[0mtasks\u001b[0m\u001b[1;33m)\u001b[0m\u001b[1;33m\u001b[0m\u001b[1;33m\u001b[0m\u001b[0m\n\u001b[0m\u001b[0;32m    862\u001b[0m                 \u001b[1;32mreturn\u001b[0m \u001b[1;32mTrue\u001b[0m\u001b[1;33m\u001b[0m\u001b[1;33m\u001b[0m\u001b[0m\n\u001b[0;32m    863\u001b[0m \u001b[1;33m\u001b[0m\u001b[0m\n",
      "\u001b[1;32m~\\anaconda3\\envs\\mlenv\\lib\\site-packages\\joblib\\parallel.py\u001b[0m in \u001b[0;36m_dispatch\u001b[1;34m(self, batch)\u001b[0m\n\u001b[0;32m    777\u001b[0m         \u001b[1;32mwith\u001b[0m \u001b[0mself\u001b[0m\u001b[1;33m.\u001b[0m\u001b[0m_lock\u001b[0m\u001b[1;33m:\u001b[0m\u001b[1;33m\u001b[0m\u001b[1;33m\u001b[0m\u001b[0m\n\u001b[0;32m    778\u001b[0m             \u001b[0mjob_idx\u001b[0m \u001b[1;33m=\u001b[0m \u001b[0mlen\u001b[0m\u001b[1;33m(\u001b[0m\u001b[0mself\u001b[0m\u001b[1;33m.\u001b[0m\u001b[0m_jobs\u001b[0m\u001b[1;33m)\u001b[0m\u001b[1;33m\u001b[0m\u001b[1;33m\u001b[0m\u001b[0m\n\u001b[1;32m--> 779\u001b[1;33m             \u001b[0mjob\u001b[0m \u001b[1;33m=\u001b[0m \u001b[0mself\u001b[0m\u001b[1;33m.\u001b[0m\u001b[0m_backend\u001b[0m\u001b[1;33m.\u001b[0m\u001b[0mapply_async\u001b[0m\u001b[1;33m(\u001b[0m\u001b[0mbatch\u001b[0m\u001b[1;33m,\u001b[0m \u001b[0mcallback\u001b[0m\u001b[1;33m=\u001b[0m\u001b[0mcb\u001b[0m\u001b[1;33m)\u001b[0m\u001b[1;33m\u001b[0m\u001b[1;33m\u001b[0m\u001b[0m\n\u001b[0m\u001b[0;32m    780\u001b[0m             \u001b[1;31m# A job can complete so quickly than its callback is\u001b[0m\u001b[1;33m\u001b[0m\u001b[1;33m\u001b[0m\u001b[1;33m\u001b[0m\u001b[0m\n\u001b[0;32m    781\u001b[0m             \u001b[1;31m# called before we get here, causing self._jobs to\u001b[0m\u001b[1;33m\u001b[0m\u001b[1;33m\u001b[0m\u001b[1;33m\u001b[0m\u001b[0m\n",
      "\u001b[1;32m~\\anaconda3\\envs\\mlenv\\lib\\site-packages\\joblib\\_parallel_backends.py\u001b[0m in \u001b[0;36mapply_async\u001b[1;34m(self, func, callback)\u001b[0m\n\u001b[0;32m    206\u001b[0m     \u001b[1;32mdef\u001b[0m \u001b[0mapply_async\u001b[0m\u001b[1;33m(\u001b[0m\u001b[0mself\u001b[0m\u001b[1;33m,\u001b[0m \u001b[0mfunc\u001b[0m\u001b[1;33m,\u001b[0m \u001b[0mcallback\u001b[0m\u001b[1;33m=\u001b[0m\u001b[1;32mNone\u001b[0m\u001b[1;33m)\u001b[0m\u001b[1;33m:\u001b[0m\u001b[1;33m\u001b[0m\u001b[1;33m\u001b[0m\u001b[0m\n\u001b[0;32m    207\u001b[0m         \u001b[1;34m\"\"\"Schedule a func to be run\"\"\"\u001b[0m\u001b[1;33m\u001b[0m\u001b[1;33m\u001b[0m\u001b[0m\n\u001b[1;32m--> 208\u001b[1;33m         \u001b[0mresult\u001b[0m \u001b[1;33m=\u001b[0m \u001b[0mImmediateResult\u001b[0m\u001b[1;33m(\u001b[0m\u001b[0mfunc\u001b[0m\u001b[1;33m)\u001b[0m\u001b[1;33m\u001b[0m\u001b[1;33m\u001b[0m\u001b[0m\n\u001b[0m\u001b[0;32m    209\u001b[0m         \u001b[1;32mif\u001b[0m \u001b[0mcallback\u001b[0m\u001b[1;33m:\u001b[0m\u001b[1;33m\u001b[0m\u001b[1;33m\u001b[0m\u001b[0m\n\u001b[0;32m    210\u001b[0m             \u001b[0mcallback\u001b[0m\u001b[1;33m(\u001b[0m\u001b[0mresult\u001b[0m\u001b[1;33m)\u001b[0m\u001b[1;33m\u001b[0m\u001b[1;33m\u001b[0m\u001b[0m\n",
      "\u001b[1;32m~\\anaconda3\\envs\\mlenv\\lib\\site-packages\\joblib\\_parallel_backends.py\u001b[0m in \u001b[0;36m__init__\u001b[1;34m(self, batch)\u001b[0m\n\u001b[0;32m    570\u001b[0m         \u001b[1;31m# Don't delay the application, to avoid keeping the input\u001b[0m\u001b[1;33m\u001b[0m\u001b[1;33m\u001b[0m\u001b[1;33m\u001b[0m\u001b[0m\n\u001b[0;32m    571\u001b[0m         \u001b[1;31m# arguments in memory\u001b[0m\u001b[1;33m\u001b[0m\u001b[1;33m\u001b[0m\u001b[1;33m\u001b[0m\u001b[0m\n\u001b[1;32m--> 572\u001b[1;33m         \u001b[0mself\u001b[0m\u001b[1;33m.\u001b[0m\u001b[0mresults\u001b[0m \u001b[1;33m=\u001b[0m \u001b[0mbatch\u001b[0m\u001b[1;33m(\u001b[0m\u001b[1;33m)\u001b[0m\u001b[1;33m\u001b[0m\u001b[1;33m\u001b[0m\u001b[0m\n\u001b[0m\u001b[0;32m    573\u001b[0m \u001b[1;33m\u001b[0m\u001b[0m\n\u001b[0;32m    574\u001b[0m     \u001b[1;32mdef\u001b[0m \u001b[0mget\u001b[0m\u001b[1;33m(\u001b[0m\u001b[0mself\u001b[0m\u001b[1;33m)\u001b[0m\u001b[1;33m:\u001b[0m\u001b[1;33m\u001b[0m\u001b[1;33m\u001b[0m\u001b[0m\n",
      "\u001b[1;32m~\\anaconda3\\envs\\mlenv\\lib\\site-packages\\joblib\\parallel.py\u001b[0m in \u001b[0;36m__call__\u001b[1;34m(self)\u001b[0m\n\u001b[0;32m    261\u001b[0m         \u001b[1;32mwith\u001b[0m \u001b[0mparallel_backend\u001b[0m\u001b[1;33m(\u001b[0m\u001b[0mself\u001b[0m\u001b[1;33m.\u001b[0m\u001b[0m_backend\u001b[0m\u001b[1;33m,\u001b[0m \u001b[0mn_jobs\u001b[0m\u001b[1;33m=\u001b[0m\u001b[0mself\u001b[0m\u001b[1;33m.\u001b[0m\u001b[0m_n_jobs\u001b[0m\u001b[1;33m)\u001b[0m\u001b[1;33m:\u001b[0m\u001b[1;33m\u001b[0m\u001b[1;33m\u001b[0m\u001b[0m\n\u001b[0;32m    262\u001b[0m             return [func(*args, **kwargs)\n\u001b[1;32m--> 263\u001b[1;33m                     for func, args, kwargs in self.items]\n\u001b[0m\u001b[0;32m    264\u001b[0m \u001b[1;33m\u001b[0m\u001b[0m\n\u001b[0;32m    265\u001b[0m     \u001b[1;32mdef\u001b[0m \u001b[0m__reduce__\u001b[0m\u001b[1;33m(\u001b[0m\u001b[0mself\u001b[0m\u001b[1;33m)\u001b[0m\u001b[1;33m:\u001b[0m\u001b[1;33m\u001b[0m\u001b[1;33m\u001b[0m\u001b[0m\n",
      "\u001b[1;32m~\\anaconda3\\envs\\mlenv\\lib\\site-packages\\joblib\\parallel.py\u001b[0m in \u001b[0;36m<listcomp>\u001b[1;34m(.0)\u001b[0m\n\u001b[0;32m    261\u001b[0m         \u001b[1;32mwith\u001b[0m \u001b[0mparallel_backend\u001b[0m\u001b[1;33m(\u001b[0m\u001b[0mself\u001b[0m\u001b[1;33m.\u001b[0m\u001b[0m_backend\u001b[0m\u001b[1;33m,\u001b[0m \u001b[0mn_jobs\u001b[0m\u001b[1;33m=\u001b[0m\u001b[0mself\u001b[0m\u001b[1;33m.\u001b[0m\u001b[0m_n_jobs\u001b[0m\u001b[1;33m)\u001b[0m\u001b[1;33m:\u001b[0m\u001b[1;33m\u001b[0m\u001b[1;33m\u001b[0m\u001b[0m\n\u001b[0;32m    262\u001b[0m             return [func(*args, **kwargs)\n\u001b[1;32m--> 263\u001b[1;33m                     for func, args, kwargs in self.items]\n\u001b[0m\u001b[0;32m    264\u001b[0m \u001b[1;33m\u001b[0m\u001b[0m\n\u001b[0;32m    265\u001b[0m     \u001b[1;32mdef\u001b[0m \u001b[0m__reduce__\u001b[0m\u001b[1;33m(\u001b[0m\u001b[0mself\u001b[0m\u001b[1;33m)\u001b[0m\u001b[1;33m:\u001b[0m\u001b[1;33m\u001b[0m\u001b[1;33m\u001b[0m\u001b[0m\n",
      "\u001b[1;32m~\\anaconda3\\envs\\mlenv\\lib\\site-packages\\sklearn\\utils\\fixes.py\u001b[0m in \u001b[0;36m__call__\u001b[1;34m(self, *args, **kwargs)\u001b[0m\n\u001b[0;32m    214\u001b[0m     \u001b[1;32mdef\u001b[0m \u001b[0m__call__\u001b[0m\u001b[1;33m(\u001b[0m\u001b[0mself\u001b[0m\u001b[1;33m,\u001b[0m \u001b[1;33m*\u001b[0m\u001b[0margs\u001b[0m\u001b[1;33m,\u001b[0m \u001b[1;33m**\u001b[0m\u001b[0mkwargs\u001b[0m\u001b[1;33m)\u001b[0m\u001b[1;33m:\u001b[0m\u001b[1;33m\u001b[0m\u001b[1;33m\u001b[0m\u001b[0m\n\u001b[0;32m    215\u001b[0m         \u001b[1;32mwith\u001b[0m \u001b[0mconfig_context\u001b[0m\u001b[1;33m(\u001b[0m\u001b[1;33m**\u001b[0m\u001b[0mself\u001b[0m\u001b[1;33m.\u001b[0m\u001b[0mconfig\u001b[0m\u001b[1;33m)\u001b[0m\u001b[1;33m:\u001b[0m\u001b[1;33m\u001b[0m\u001b[1;33m\u001b[0m\u001b[0m\n\u001b[1;32m--> 216\u001b[1;33m             \u001b[1;32mreturn\u001b[0m \u001b[0mself\u001b[0m\u001b[1;33m.\u001b[0m\u001b[0mfunction\u001b[0m\u001b[1;33m(\u001b[0m\u001b[1;33m*\u001b[0m\u001b[0margs\u001b[0m\u001b[1;33m,\u001b[0m \u001b[1;33m**\u001b[0m\u001b[0mkwargs\u001b[0m\u001b[1;33m)\u001b[0m\u001b[1;33m\u001b[0m\u001b[1;33m\u001b[0m\u001b[0m\n\u001b[0m\u001b[0;32m    217\u001b[0m \u001b[1;33m\u001b[0m\u001b[0m\n\u001b[0;32m    218\u001b[0m \u001b[1;33m\u001b[0m\u001b[0m\n",
      "\u001b[1;32m~\\anaconda3\\envs\\mlenv\\lib\\site-packages\\sklearn\\model_selection\\_validation.py\u001b[0m in \u001b[0;36m_fit_and_score\u001b[1;34m(estimator, X, y, scorer, train, test, verbose, parameters, fit_params, return_train_score, return_parameters, return_n_test_samples, return_times, return_estimator, split_progress, candidate_progress, error_score)\u001b[0m\n\u001b[0;32m    666\u001b[0m             \u001b[0mcloned_parameters\u001b[0m\u001b[1;33m[\u001b[0m\u001b[0mk\u001b[0m\u001b[1;33m]\u001b[0m \u001b[1;33m=\u001b[0m \u001b[0mclone\u001b[0m\u001b[1;33m(\u001b[0m\u001b[0mv\u001b[0m\u001b[1;33m,\u001b[0m \u001b[0msafe\u001b[0m\u001b[1;33m=\u001b[0m\u001b[1;32mFalse\u001b[0m\u001b[1;33m)\u001b[0m\u001b[1;33m\u001b[0m\u001b[1;33m\u001b[0m\u001b[0m\n\u001b[0;32m    667\u001b[0m \u001b[1;33m\u001b[0m\u001b[0m\n\u001b[1;32m--> 668\u001b[1;33m         \u001b[0mestimator\u001b[0m \u001b[1;33m=\u001b[0m \u001b[0mestimator\u001b[0m\u001b[1;33m.\u001b[0m\u001b[0mset_params\u001b[0m\u001b[1;33m(\u001b[0m\u001b[1;33m**\u001b[0m\u001b[0mcloned_parameters\u001b[0m\u001b[1;33m)\u001b[0m\u001b[1;33m\u001b[0m\u001b[1;33m\u001b[0m\u001b[0m\n\u001b[0m\u001b[0;32m    669\u001b[0m \u001b[1;33m\u001b[0m\u001b[0m\n\u001b[0;32m    670\u001b[0m     \u001b[0mstart_time\u001b[0m \u001b[1;33m=\u001b[0m \u001b[0mtime\u001b[0m\u001b[1;33m.\u001b[0m\u001b[0mtime\u001b[0m\u001b[1;33m(\u001b[0m\u001b[1;33m)\u001b[0m\u001b[1;33m\u001b[0m\u001b[1;33m\u001b[0m\u001b[0m\n",
      "\u001b[1;32m~\\anaconda3\\envs\\mlenv\\lib\\site-packages\\sklearn\\base.py\u001b[0m in \u001b[0;36mset_params\u001b[1;34m(self, **params)\u001b[0m\n\u001b[0;32m    246\u001b[0m                     \u001b[1;34m\"Invalid parameter %s for estimator %s. \"\u001b[0m\u001b[1;33m\u001b[0m\u001b[1;33m\u001b[0m\u001b[0m\n\u001b[0;32m    247\u001b[0m                     \u001b[1;34m\"Check the list of available parameters \"\u001b[0m\u001b[1;33m\u001b[0m\u001b[1;33m\u001b[0m\u001b[0m\n\u001b[1;32m--> 248\u001b[1;33m                     \u001b[1;34m\"with `estimator.get_params().keys()`.\"\u001b[0m \u001b[1;33m%\u001b[0m \u001b[1;33m(\u001b[0m\u001b[0mkey\u001b[0m\u001b[1;33m,\u001b[0m \u001b[0mself\u001b[0m\u001b[1;33m)\u001b[0m\u001b[1;33m\u001b[0m\u001b[1;33m\u001b[0m\u001b[0m\n\u001b[0m\u001b[0;32m    249\u001b[0m                 )\n\u001b[0;32m    250\u001b[0m \u001b[1;33m\u001b[0m\u001b[0m\n",
      "\u001b[1;31mValueError\u001b[0m: Invalid parameter criterion for estimator EasyEnsembleClassifier(random_state=86). Check the list of available parameters with `estimator.get_params().keys()`."
     ]
    }
   ],
   "source": [
    "gs.fit(X_train_scaled, y_train)"
   ]
  },
  {
   "cell_type": "markdown",
   "id": "0de8bb82",
   "metadata": {},
   "source": [
    "### gs.best_params_ tells us the parameters that achieved the highest accuracy score."
   ]
  },
  {
   "cell_type": "code",
   "execution_count": null,
   "id": "b9a73d2b",
   "metadata": {},
   "outputs": [],
   "source": [
    "gs.best_params_"
   ]
  },
  {
   "cell_type": "markdown",
   "id": "67085d6b",
   "metadata": {},
   "source": [
    "### These parameters are then manually fed into the model and the results are analyzed below."
   ]
  },
  {
   "cell_type": "code",
   "execution_count": null,
   "id": "f8b8716a",
   "metadata": {},
   "outputs": [],
   "source": [
    "model_2 = EasyEnsembleClassifier(\n",
    "    criterion='entropy',\n",
    "    max_depth=7,\n",
    "    max_features='sqrt').fit(X_train_scaled, y_train)"
   ]
  },
  {
   "cell_type": "code",
   "execution_count": null,
   "id": "d0fae8e6",
   "metadata": {},
   "outputs": [],
   "source": [
    "predictions_2 = model_2.predict(X_test_scaled)"
   ]
  },
  {
   "cell_type": "markdown",
   "id": "bad49ffe",
   "metadata": {},
   "source": [
    "## Analysis of the 2nd model run with optimized parameters\n",
    "### Curiously enough the accuracy score is significantly worse than the original. "
   ]
  },
  {
   "cell_type": "code",
   "execution_count": null,
   "id": "fd386629",
   "metadata": {},
   "outputs": [],
   "source": [
    "cm_2 = confusion_matrix(y_test, predictions_2)\n",
    "\n",
    "cm_df_2 = pd.DataFrame(cm_2, index=[\"Actual 0\", \"Actual 1\",\"Actual 2\",\"Actual 3\"], columns=[\"Predicted 0\", \"Predicted 1\",\"Predicted 2\",\"Predicted 3\"])\n",
    "\n",
    "acc_score_2 = accuracy_score(y_test, predictions_2)\n",
    "\n",
    "print(\"Confusion Matrix\")\n",
    "display(cm_df_2)\n",
    "print(f\"Accuracy Score : {acc_score_2}\")\n",
    "print(\"Classification Report\")\n",
    "print(classification_report(y_test, predictions_2))"
   ]
  },
  {
   "cell_type": "code",
   "execution_count": null,
   "id": "a65b2f40",
   "metadata": {},
   "outputs": [],
   "source": [
    "cm_display_2 = metrics.ConfusionMatrixDisplay(confusion_matrix = cm_2)\n",
    "\n",
    "cm_display_2.plot()\n",
    "plt.show()"
   ]
  }
 ],
 "metadata": {
  "kernelspec": {
   "display_name": "mlenv",
   "language": "python",
   "name": "mlenv"
  },
  "language_info": {
   "codemirror_mode": {
    "name": "ipython",
    "version": 3
   },
   "file_extension": ".py",
   "mimetype": "text/x-python",
   "name": "python",
   "nbconvert_exporter": "python",
   "pygments_lexer": "ipython3",
   "version": "3.7.13"
  }
 },
 "nbformat": 4,
 "nbformat_minor": 5
}
