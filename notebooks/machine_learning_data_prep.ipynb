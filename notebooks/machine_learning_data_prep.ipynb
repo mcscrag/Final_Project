{
 "cells": [
  {
   "cell_type": "code",
   "execution_count": 2,
   "id": "667ceff2",
   "metadata": {},
   "outputs": [],
   "source": [
    "import numpy as np\n",
    "import pandas as pd\n",
    "from pathlib import Path"
   ]
  },
  {
   "cell_type": "code",
   "execution_count": 4,
   "id": "709d7fe6",
   "metadata": {},
   "outputs": [],
   "source": [
    "file_path_1 = Path('../data_files/final_draft_dataset_2.csv')\n",
    "file_path_2 = Path('../data_files/country_income_levels.csv')\n",
    "file_path_3 = Path('../data_files/income_classifiers_by_year.csv')\n",
    "df_metrics = pd.read_csv(file_path_1)\n",
    "df_classifier = pd.read_csv(file_path_2)\n",
    "df_income_key = pd.read_csv(file_path_3)"
   ]
  },
  {
   "cell_type": "code",
   "execution_count": 6,
   "id": "6535f077",
   "metadata": {},
   "outputs": [
    {
     "data": {
      "text/plain": [
       "Index(['Unnamed: 0', 'country_name', 'Year', 'Total_Population',\n",
       "       'Urban_Population', 'GDP', 'GDP_per_Capita', 'GDP_Growth', 'GHG_Growth',\n",
       "       'GHG_Emissions_per_Capita', 'Agricultural_Land', 'Arable_Land',\n",
       "       'Forested_Land', 'CO2_Emissions_by_Sector_Building',\n",
       "       'CO2_Emissions_by_Sector_Bunker_Fuels',\n",
       "       'CO2_Emissions_by_Sector_Electricity_Heat',\n",
       "       'CO2_Emissions_by_Sector_Energy',\n",
       "       'CO2_Emissions_by_Sector_Fugitive_Emissions',\n",
       "       'CO2_Emissions_by_Sector_Industrial_Processes',\n",
       "       'CO2_Emissions_by_Sector_Land_Use_Change_and_Forestry',\n",
       "       'CO2_Emissions_by_Sector_Manufacturing_Construction',\n",
       "       'CO2_Emissions_by_Sector_Other_Fuel_Combustion',\n",
       "       'CO2_Emissions_by_Sector_Total_excluding_LUCF',\n",
       "       'CO2_Emissions_by_Sector_Total_Including_LUCF',\n",
       "       'CO2_Emissions_by_Sector_Transportation', 'Net_Electricity_Consumption',\n",
       "       'Daily_Coal_Consumption_per_capita', 'Daily_Gas_Consumption_per_capita',\n",
       "       'Daily_Oil_Consumption_per_capita'],\n",
       "      dtype='object')"
      ]
     },
     "execution_count": 6,
     "metadata": {},
     "output_type": "execute_result"
    }
   ],
   "source": [
    "df_metrics.columns"
   ]
  },
  {
   "cell_type": "code",
   "execution_count": 10,
   "id": "f2129b01",
   "metadata": {},
   "outputs": [],
   "source": [
    "df_metrics_2 = df_metrics[['country_name', 'Year', 'Total_Population','CO2_Emissions_by_Sector_Building',\n",
    "       'CO2_Emissions_by_Sector_Bunker_Fuels',\n",
    "       'CO2_Emissions_by_Sector_Electricity_Heat',\n",
    "       'CO2_Emissions_by_Sector_Energy',\n",
    "       'CO2_Emissions_by_Sector_Fugitive_Emissions',\n",
    "       'CO2_Emissions_by_Sector_Industrial_Processes',\n",
    "       'CO2_Emissions_by_Sector_Land_Use_Change_and_Forestry',\n",
    "       'CO2_Emissions_by_Sector_Manufacturing_Construction',\n",
    "       'CO2_Emissions_by_Sector_Other_Fuel_Combustion','CO2_Emissions_by_Sector_Transportation', 'Net_Electricity_Consumption']]"
   ]
  },
  {
   "cell_type": "code",
   "execution_count": 11,
   "id": "865f2ba5",
   "metadata": {},
   "outputs": [
    {
     "data": {
      "text/plain": [
       "Index(['country_name', 'Year', 'Total_Population',\n",
       "       'CO2_Emissions_by_Sector_Building',\n",
       "       'CO2_Emissions_by_Sector_Bunker_Fuels',\n",
       "       'CO2_Emissions_by_Sector_Electricity_Heat',\n",
       "       'CO2_Emissions_by_Sector_Energy',\n",
       "       'CO2_Emissions_by_Sector_Fugitive_Emissions',\n",
       "       'CO2_Emissions_by_Sector_Industrial_Processes',\n",
       "       'CO2_Emissions_by_Sector_Land_Use_Change_and_Forestry',\n",
       "       'CO2_Emissions_by_Sector_Manufacturing_Construction',\n",
       "       'CO2_Emissions_by_Sector_Other_Fuel_Combustion',\n",
       "       'CO2_Emissions_by_Sector_Transportation',\n",
       "       'Net_Electricity_Consumption'],\n",
       "      dtype='object')"
      ]
     },
     "execution_count": 11,
     "metadata": {},
     "output_type": "execute_result"
    }
   ],
   "source": [
    "df_metrics_2.columns"
   ]
  },
  {
   "cell_type": "code",
   "execution_count": 12,
   "id": "ff0fa098",
   "metadata": {},
   "outputs": [
    {
     "data": {
      "text/plain": [
       "country_name                                            3080\n",
       "Year                                                    3080\n",
       "Total_Population                                        3044\n",
       "CO2_Emissions_by_Sector_Building                        1607\n",
       "CO2_Emissions_by_Sector_Bunker_Fuels                    1650\n",
       "CO2_Emissions_by_Sector_Electricity_Heat                1644\n",
       "CO2_Emissions_by_Sector_Energy                          1733\n",
       "CO2_Emissions_by_Sector_Fugitive_Emissions               482\n",
       "CO2_Emissions_by_Sector_Industrial_Processes            1291\n",
       "CO2_Emissions_by_Sector_Land_Use_Change_and_Forestry    1426\n",
       "CO2_Emissions_by_Sector_Manufacturing_Construction      1514\n",
       "CO2_Emissions_by_Sector_Other_Fuel_Combustion           1251\n",
       "CO2_Emissions_by_Sector_Transportation                  1693\n",
       "Net_Electricity_Consumption                             2076\n",
       "dtype: int64"
      ]
     },
     "execution_count": 12,
     "metadata": {},
     "output_type": "execute_result"
    }
   ],
   "source": [
    "df_metrics_2.count()"
   ]
  },
  {
   "cell_type": "code",
   "execution_count": 15,
   "id": "2c9a4588",
   "metadata": {},
   "outputs": [],
   "source": [
    "df_metrics_3 = df_metrics_2.dropna(how='any')"
   ]
  },
  {
   "cell_type": "code",
   "execution_count": 16,
   "id": "a4153f40",
   "metadata": {},
   "outputs": [
    {
     "data": {
      "text/plain": [
       "country_name                                            345\n",
       "Year                                                    345\n",
       "Total_Population                                        345\n",
       "CO2_Emissions_by_Sector_Building                        345\n",
       "CO2_Emissions_by_Sector_Bunker_Fuels                    345\n",
       "CO2_Emissions_by_Sector_Electricity_Heat                345\n",
       "CO2_Emissions_by_Sector_Energy                          345\n",
       "CO2_Emissions_by_Sector_Fugitive_Emissions              345\n",
       "CO2_Emissions_by_Sector_Industrial_Processes            345\n",
       "CO2_Emissions_by_Sector_Land_Use_Change_and_Forestry    345\n",
       "CO2_Emissions_by_Sector_Manufacturing_Construction      345\n",
       "CO2_Emissions_by_Sector_Other_Fuel_Combustion           345\n",
       "CO2_Emissions_by_Sector_Transportation                  345\n",
       "Net_Electricity_Consumption                             345\n",
       "dtype: int64"
      ]
     },
     "execution_count": 16,
     "metadata": {},
     "output_type": "execute_result"
    }
   ],
   "source": [
    "df_metrics_3.count()"
   ]
  },
  {
   "cell_type": "code",
   "execution_count": 21,
   "id": "581d0e5c",
   "metadata": {},
   "outputs": [
    {
     "data": {
      "text/plain": [
       "country_name                                             object\n",
       "Year                                                      int64\n",
       "Total_Population                                        float64\n",
       "CO2_Emissions_by_Sector_Building                        float64\n",
       "CO2_Emissions_by_Sector_Bunker_Fuels                    float64\n",
       "CO2_Emissions_by_Sector_Electricity_Heat                float64\n",
       "CO2_Emissions_by_Sector_Energy                          float64\n",
       "CO2_Emissions_by_Sector_Fugitive_Emissions              float64\n",
       "CO2_Emissions_by_Sector_Industrial_Processes            float64\n",
       "CO2_Emissions_by_Sector_Land_Use_Change_and_Forestry    float64\n",
       "CO2_Emissions_by_Sector_Manufacturing_Construction      float64\n",
       "CO2_Emissions_by_Sector_Other_Fuel_Combustion           float64\n",
       "CO2_Emissions_by_Sector_Transportation                  float64\n",
       "Net_Electricity_Consumption                             float64\n",
       "dtype: object"
      ]
     },
     "execution_count": 21,
     "metadata": {},
     "output_type": "execute_result"
    }
   ],
   "source": [
    "df_metrics_3.dtypes"
   ]
  },
  {
   "cell_type": "code",
   "execution_count": 17,
   "id": "fbc35679",
   "metadata": {},
   "outputs": [
    {
     "data": {
      "text/html": [
       "<div>\n",
       "<style scoped>\n",
       "    .dataframe tbody tr th:only-of-type {\n",
       "        vertical-align: middle;\n",
       "    }\n",
       "\n",
       "    .dataframe tbody tr th {\n",
       "        vertical-align: top;\n",
       "    }\n",
       "\n",
       "    .dataframe thead th {\n",
       "        text-align: right;\n",
       "    }\n",
       "</style>\n",
       "<table border=\"1\" class=\"dataframe\">\n",
       "  <thead>\n",
       "    <tr style=\"text-align: right;\">\n",
       "      <th></th>\n",
       "      <th>country_name</th>\n",
       "      <th>Year</th>\n",
       "      <th>Total_Population</th>\n",
       "      <th>CO2_Emissions_by_Sector_Building</th>\n",
       "      <th>CO2_Emissions_by_Sector_Bunker_Fuels</th>\n",
       "      <th>CO2_Emissions_by_Sector_Electricity_Heat</th>\n",
       "      <th>CO2_Emissions_by_Sector_Energy</th>\n",
       "      <th>CO2_Emissions_by_Sector_Fugitive_Emissions</th>\n",
       "      <th>CO2_Emissions_by_Sector_Industrial_Processes</th>\n",
       "      <th>CO2_Emissions_by_Sector_Land_Use_Change_and_Forestry</th>\n",
       "      <th>CO2_Emissions_by_Sector_Manufacturing_Construction</th>\n",
       "      <th>CO2_Emissions_by_Sector_Other_Fuel_Combustion</th>\n",
       "      <th>CO2_Emissions_by_Sector_Transportation</th>\n",
       "      <th>Net_Electricity_Consumption</th>\n",
       "    </tr>\n",
       "  </thead>\n",
       "  <tbody>\n",
       "    <tr>\n",
       "      <th>28</th>\n",
       "      <td>Algeria</td>\n",
       "      <td>2010</td>\n",
       "      <td>35977451.0</td>\n",
       "      <td>13.24</td>\n",
       "      <td>1.60</td>\n",
       "      <td>36.44</td>\n",
       "      <td>104.89</td>\n",
       "      <td>9.25</td>\n",
       "      <td>8.25</td>\n",
       "      <td>-2.41</td>\n",
       "      <td>10.69</td>\n",
       "      <td>3.57</td>\n",
       "      <td>31.71</td>\n",
       "      <td>33.84</td>\n",
       "    </tr>\n",
       "    <tr>\n",
       "      <th>29</th>\n",
       "      <td>Algeria</td>\n",
       "      <td>2011</td>\n",
       "      <td>36661438.0</td>\n",
       "      <td>14.61</td>\n",
       "      <td>1.62</td>\n",
       "      <td>39.30</td>\n",
       "      <td>109.95</td>\n",
       "      <td>7.06</td>\n",
       "      <td>8.19</td>\n",
       "      <td>-0.63</td>\n",
       "      <td>10.80</td>\n",
       "      <td>3.96</td>\n",
       "      <td>34.22</td>\n",
       "      <td>38.13</td>\n",
       "    </tr>\n",
       "    <tr>\n",
       "      <th>30</th>\n",
       "      <td>Algeria</td>\n",
       "      <td>2012</td>\n",
       "      <td>37383899.0</td>\n",
       "      <td>16.80</td>\n",
       "      <td>1.56</td>\n",
       "      <td>43.46</td>\n",
       "      <td>118.94</td>\n",
       "      <td>6.46</td>\n",
       "      <td>7.70</td>\n",
       "      <td>-0.63</td>\n",
       "      <td>10.05</td>\n",
       "      <td>3.53</td>\n",
       "      <td>38.64</td>\n",
       "      <td>42.87</td>\n",
       "    </tr>\n",
       "    <tr>\n",
       "      <th>31</th>\n",
       "      <td>Algeria</td>\n",
       "      <td>2013</td>\n",
       "      <td>38140135.0</td>\n",
       "      <td>18.48</td>\n",
       "      <td>1.73</td>\n",
       "      <td>42.96</td>\n",
       "      <td>122.62</td>\n",
       "      <td>6.78</td>\n",
       "      <td>7.30</td>\n",
       "      <td>-0.63</td>\n",
       "      <td>10.01</td>\n",
       "      <td>4.12</td>\n",
       "      <td>40.26</td>\n",
       "      <td>45.20</td>\n",
       "    </tr>\n",
       "    <tr>\n",
       "      <th>32</th>\n",
       "      <td>Algeria</td>\n",
       "      <td>2014</td>\n",
       "      <td>38923688.0</td>\n",
       "      <td>19.21</td>\n",
       "      <td>1.67</td>\n",
       "      <td>47.86</td>\n",
       "      <td>130.45</td>\n",
       "      <td>7.28</td>\n",
       "      <td>8.36</td>\n",
       "      <td>-0.63</td>\n",
       "      <td>10.23</td>\n",
       "      <td>2.37</td>\n",
       "      <td>43.51</td>\n",
       "      <td>49.21</td>\n",
       "    </tr>\n",
       "  </tbody>\n",
       "</table>\n",
       "</div>"
      ],
      "text/plain": [
       "   country_name  Year  Total_Population  CO2_Emissions_by_Sector_Building  \\\n",
       "28      Algeria  2010        35977451.0                             13.24   \n",
       "29      Algeria  2011        36661438.0                             14.61   \n",
       "30      Algeria  2012        37383899.0                             16.80   \n",
       "31      Algeria  2013        38140135.0                             18.48   \n",
       "32      Algeria  2014        38923688.0                             19.21   \n",
       "\n",
       "    CO2_Emissions_by_Sector_Bunker_Fuels  \\\n",
       "28                                  1.60   \n",
       "29                                  1.62   \n",
       "30                                  1.56   \n",
       "31                                  1.73   \n",
       "32                                  1.67   \n",
       "\n",
       "    CO2_Emissions_by_Sector_Electricity_Heat  CO2_Emissions_by_Sector_Energy  \\\n",
       "28                                     36.44                          104.89   \n",
       "29                                     39.30                          109.95   \n",
       "30                                     43.46                          118.94   \n",
       "31                                     42.96                          122.62   \n",
       "32                                     47.86                          130.45   \n",
       "\n",
       "    CO2_Emissions_by_Sector_Fugitive_Emissions  \\\n",
       "28                                        9.25   \n",
       "29                                        7.06   \n",
       "30                                        6.46   \n",
       "31                                        6.78   \n",
       "32                                        7.28   \n",
       "\n",
       "    CO2_Emissions_by_Sector_Industrial_Processes  \\\n",
       "28                                          8.25   \n",
       "29                                          8.19   \n",
       "30                                          7.70   \n",
       "31                                          7.30   \n",
       "32                                          8.36   \n",
       "\n",
       "    CO2_Emissions_by_Sector_Land_Use_Change_and_Forestry  \\\n",
       "28                                              -2.41      \n",
       "29                                              -0.63      \n",
       "30                                              -0.63      \n",
       "31                                              -0.63      \n",
       "32                                              -0.63      \n",
       "\n",
       "    CO2_Emissions_by_Sector_Manufacturing_Construction  \\\n",
       "28                                              10.69    \n",
       "29                                              10.80    \n",
       "30                                              10.05    \n",
       "31                                              10.01    \n",
       "32                                              10.23    \n",
       "\n",
       "    CO2_Emissions_by_Sector_Other_Fuel_Combustion  \\\n",
       "28                                           3.57   \n",
       "29                                           3.96   \n",
       "30                                           3.53   \n",
       "31                                           4.12   \n",
       "32                                           2.37   \n",
       "\n",
       "    CO2_Emissions_by_Sector_Transportation  Net_Electricity_Consumption  \n",
       "28                                   31.71                        33.84  \n",
       "29                                   34.22                        38.13  \n",
       "30                                   38.64                        42.87  \n",
       "31                                   40.26                        45.20  \n",
       "32                                   43.51                        49.21  "
      ]
     },
     "execution_count": 17,
     "metadata": {},
     "output_type": "execute_result"
    }
   ],
   "source": [
    "df_metrics_3.head()"
   ]
  },
  {
   "cell_type": "code",
   "execution_count": 20,
   "id": "80743d83",
   "metadata": {},
   "outputs": [
    {
     "data": {
      "text/plain": [
       "47"
      ]
     },
     "execution_count": 20,
     "metadata": {},
     "output_type": "execute_result"
    }
   ],
   "source": [
    "df_metrics_3['country_name'].nunique()"
   ]
  },
  {
   "cell_type": "code",
   "execution_count": 46,
   "id": "76be1b5c",
   "metadata": {},
   "outputs": [],
   "source": [
    "df_classifier_1 = df_classifier[['country_name','year','income_group']]\n",
    "df_classifier_2 = df_classifier_1.rename(columns={'year':'Year'})"
   ]
  },
  {
   "cell_type": "code",
   "execution_count": 47,
   "id": "a6a2efa6",
   "metadata": {},
   "outputs": [
    {
     "data": {
      "text/html": [
       "<div>\n",
       "<style scoped>\n",
       "    .dataframe tbody tr th:only-of-type {\n",
       "        vertical-align: middle;\n",
       "    }\n",
       "\n",
       "    .dataframe tbody tr th {\n",
       "        vertical-align: top;\n",
       "    }\n",
       "\n",
       "    .dataframe thead th {\n",
       "        text-align: right;\n",
       "    }\n",
       "</style>\n",
       "<table border=\"1\" class=\"dataframe\">\n",
       "  <thead>\n",
       "    <tr style=\"text-align: right;\">\n",
       "      <th></th>\n",
       "      <th>country_name</th>\n",
       "      <th>Year</th>\n",
       "      <th>income_group</th>\n",
       "    </tr>\n",
       "  </thead>\n",
       "  <tbody>\n",
       "    <tr>\n",
       "      <th>0</th>\n",
       "      <td>Afghanistan</td>\n",
       "      <td>1990</td>\n",
       "      <td>L</td>\n",
       "    </tr>\n",
       "    <tr>\n",
       "      <th>1</th>\n",
       "      <td>Afghanistan</td>\n",
       "      <td>1991</td>\n",
       "      <td>L</td>\n",
       "    </tr>\n",
       "    <tr>\n",
       "      <th>2</th>\n",
       "      <td>Afghanistan</td>\n",
       "      <td>1992</td>\n",
       "      <td>L</td>\n",
       "    </tr>\n",
       "    <tr>\n",
       "      <th>3</th>\n",
       "      <td>Afghanistan</td>\n",
       "      <td>1993</td>\n",
       "      <td>L</td>\n",
       "    </tr>\n",
       "    <tr>\n",
       "      <th>4</th>\n",
       "      <td>Afghanistan</td>\n",
       "      <td>1994</td>\n",
       "      <td>L</td>\n",
       "    </tr>\n",
       "  </tbody>\n",
       "</table>\n",
       "</div>"
      ],
      "text/plain": [
       "  country_name  Year income_group\n",
       "0  Afghanistan  1990            L\n",
       "1  Afghanistan  1991            L\n",
       "2  Afghanistan  1992            L\n",
       "3  Afghanistan  1993            L\n",
       "4  Afghanistan  1994            L"
      ]
     },
     "execution_count": 47,
     "metadata": {},
     "output_type": "execute_result"
    }
   ],
   "source": [
    "df_classifier_2.head()"
   ]
  },
  {
   "cell_type": "code",
   "execution_count": 52,
   "id": "3259d7df",
   "metadata": {},
   "outputs": [
    {
     "data": {
      "text/plain": [
       "country_name                                             object\n",
       "Year                                                      int64\n",
       "Total_Population                                        float64\n",
       "CO2_Emissions_by_Sector_Building                        float64\n",
       "CO2_Emissions_by_Sector_Bunker_Fuels                    float64\n",
       "CO2_Emissions_by_Sector_Electricity_Heat                float64\n",
       "CO2_Emissions_by_Sector_Energy                          float64\n",
       "CO2_Emissions_by_Sector_Fugitive_Emissions              float64\n",
       "CO2_Emissions_by_Sector_Industrial_Processes            float64\n",
       "CO2_Emissions_by_Sector_Land_Use_Change_and_Forestry    float64\n",
       "CO2_Emissions_by_Sector_Manufacturing_Construction      float64\n",
       "CO2_Emissions_by_Sector_Other_Fuel_Combustion           float64\n",
       "CO2_Emissions_by_Sector_Transportation                  float64\n",
       "Net_Electricity_Consumption                             float64\n",
       "dtype: object"
      ]
     },
     "execution_count": 52,
     "metadata": {},
     "output_type": "execute_result"
    }
   ],
   "source": [
    "df_classifier_2.dtypes\n",
    "df_metrics_3.dtypes"
   ]
  },
  {
   "cell_type": "code",
   "execution_count": 63,
   "id": "43b2c308",
   "metadata": {},
   "outputs": [],
   "source": [
    "df_classifier_3 = df_classifier_2.astype({'Year':'float64'})\n",
    "df_metrics_4 = df_metrics_3.astype({'Year':'float64'})"
   ]
  },
  {
   "cell_type": "code",
   "execution_count": 80,
   "id": "a83b96ea",
   "metadata": {},
   "outputs": [],
   "source": [
    "df_joined = pd.merge(df_metrics_4,df_classifier_3,how = 'inner',on=['country_name','Year'])"
   ]
  },
  {
   "cell_type": "code",
   "execution_count": 81,
   "id": "6ff5603a",
   "metadata": {},
   "outputs": [
    {
     "data": {
      "text/plain": [
       "Index(['country_name', 'Year', 'Total_Population',\n",
       "       'CO2_Emissions_by_Sector_Building',\n",
       "       'CO2_Emissions_by_Sector_Bunker_Fuels',\n",
       "       'CO2_Emissions_by_Sector_Electricity_Heat',\n",
       "       'CO2_Emissions_by_Sector_Energy',\n",
       "       'CO2_Emissions_by_Sector_Fugitive_Emissions',\n",
       "       'CO2_Emissions_by_Sector_Industrial_Processes',\n",
       "       'CO2_Emissions_by_Sector_Land_Use_Change_and_Forestry',\n",
       "       'CO2_Emissions_by_Sector_Manufacturing_Construction',\n",
       "       'CO2_Emissions_by_Sector_Other_Fuel_Combustion',\n",
       "       'CO2_Emissions_by_Sector_Transportation', 'Net_Electricity_Consumption',\n",
       "       'income_group'],\n",
       "      dtype='object')"
      ]
     },
     "execution_count": 81,
     "metadata": {},
     "output_type": "execute_result"
    }
   ],
   "source": [
    "df_joined.columns"
   ]
  },
  {
   "cell_type": "code",
   "execution_count": 82,
   "id": "b5c83f51",
   "metadata": {},
   "outputs": [
    {
     "data": {
      "text/html": [
       "<div>\n",
       "<style scoped>\n",
       "    .dataframe tbody tr th:only-of-type {\n",
       "        vertical-align: middle;\n",
       "    }\n",
       "\n",
       "    .dataframe tbody tr th {\n",
       "        vertical-align: top;\n",
       "    }\n",
       "\n",
       "    .dataframe thead th {\n",
       "        text-align: right;\n",
       "    }\n",
       "</style>\n",
       "<table border=\"1\" class=\"dataframe\">\n",
       "  <thead>\n",
       "    <tr style=\"text-align: right;\">\n",
       "      <th></th>\n",
       "      <th>country_name</th>\n",
       "      <th>Year</th>\n",
       "      <th>Total_Population</th>\n",
       "      <th>CO2_Emissions_by_Sector_Building</th>\n",
       "      <th>CO2_Emissions_by_Sector_Bunker_Fuels</th>\n",
       "      <th>CO2_Emissions_by_Sector_Electricity_Heat</th>\n",
       "      <th>CO2_Emissions_by_Sector_Energy</th>\n",
       "      <th>CO2_Emissions_by_Sector_Fugitive_Emissions</th>\n",
       "      <th>CO2_Emissions_by_Sector_Industrial_Processes</th>\n",
       "      <th>CO2_Emissions_by_Sector_Land_Use_Change_and_Forestry</th>\n",
       "      <th>CO2_Emissions_by_Sector_Manufacturing_Construction</th>\n",
       "      <th>CO2_Emissions_by_Sector_Other_Fuel_Combustion</th>\n",
       "      <th>CO2_Emissions_by_Sector_Transportation</th>\n",
       "      <th>Net_Electricity_Consumption</th>\n",
       "      <th>income_group</th>\n",
       "    </tr>\n",
       "  </thead>\n",
       "  <tbody>\n",
       "    <tr>\n",
       "      <th>0</th>\n",
       "      <td>Algeria</td>\n",
       "      <td>2010.0</td>\n",
       "      <td>35977451.0</td>\n",
       "      <td>13.24</td>\n",
       "      <td>1.60</td>\n",
       "      <td>36.44</td>\n",
       "      <td>104.89</td>\n",
       "      <td>9.25</td>\n",
       "      <td>8.25</td>\n",
       "      <td>-2.41</td>\n",
       "      <td>10.69</td>\n",
       "      <td>3.57</td>\n",
       "      <td>31.71</td>\n",
       "      <td>33.84</td>\n",
       "      <td>UM</td>\n",
       "    </tr>\n",
       "    <tr>\n",
       "      <th>1</th>\n",
       "      <td>Algeria</td>\n",
       "      <td>2011.0</td>\n",
       "      <td>36661438.0</td>\n",
       "      <td>14.61</td>\n",
       "      <td>1.62</td>\n",
       "      <td>39.30</td>\n",
       "      <td>109.95</td>\n",
       "      <td>7.06</td>\n",
       "      <td>8.19</td>\n",
       "      <td>-0.63</td>\n",
       "      <td>10.80</td>\n",
       "      <td>3.96</td>\n",
       "      <td>34.22</td>\n",
       "      <td>38.13</td>\n",
       "      <td>UM</td>\n",
       "    </tr>\n",
       "    <tr>\n",
       "      <th>2</th>\n",
       "      <td>Algeria</td>\n",
       "      <td>2012.0</td>\n",
       "      <td>37383899.0</td>\n",
       "      <td>16.80</td>\n",
       "      <td>1.56</td>\n",
       "      <td>43.46</td>\n",
       "      <td>118.94</td>\n",
       "      <td>6.46</td>\n",
       "      <td>7.70</td>\n",
       "      <td>-0.63</td>\n",
       "      <td>10.05</td>\n",
       "      <td>3.53</td>\n",
       "      <td>38.64</td>\n",
       "      <td>42.87</td>\n",
       "      <td>UM</td>\n",
       "    </tr>\n",
       "    <tr>\n",
       "      <th>3</th>\n",
       "      <td>Algeria</td>\n",
       "      <td>2013.0</td>\n",
       "      <td>38140135.0</td>\n",
       "      <td>18.48</td>\n",
       "      <td>1.73</td>\n",
       "      <td>42.96</td>\n",
       "      <td>122.62</td>\n",
       "      <td>6.78</td>\n",
       "      <td>7.30</td>\n",
       "      <td>-0.63</td>\n",
       "      <td>10.01</td>\n",
       "      <td>4.12</td>\n",
       "      <td>40.26</td>\n",
       "      <td>45.20</td>\n",
       "      <td>UM</td>\n",
       "    </tr>\n",
       "    <tr>\n",
       "      <th>4</th>\n",
       "      <td>Algeria</td>\n",
       "      <td>2014.0</td>\n",
       "      <td>38923688.0</td>\n",
       "      <td>19.21</td>\n",
       "      <td>1.67</td>\n",
       "      <td>47.86</td>\n",
       "      <td>130.45</td>\n",
       "      <td>7.28</td>\n",
       "      <td>8.36</td>\n",
       "      <td>-0.63</td>\n",
       "      <td>10.23</td>\n",
       "      <td>2.37</td>\n",
       "      <td>43.51</td>\n",
       "      <td>49.21</td>\n",
       "      <td>UM</td>\n",
       "    </tr>\n",
       "  </tbody>\n",
       "</table>\n",
       "</div>"
      ],
      "text/plain": [
       "  country_name    Year  Total_Population  CO2_Emissions_by_Sector_Building  \\\n",
       "0      Algeria  2010.0        35977451.0                             13.24   \n",
       "1      Algeria  2011.0        36661438.0                             14.61   \n",
       "2      Algeria  2012.0        37383899.0                             16.80   \n",
       "3      Algeria  2013.0        38140135.0                             18.48   \n",
       "4      Algeria  2014.0        38923688.0                             19.21   \n",
       "\n",
       "   CO2_Emissions_by_Sector_Bunker_Fuels  \\\n",
       "0                                  1.60   \n",
       "1                                  1.62   \n",
       "2                                  1.56   \n",
       "3                                  1.73   \n",
       "4                                  1.67   \n",
       "\n",
       "   CO2_Emissions_by_Sector_Electricity_Heat  CO2_Emissions_by_Sector_Energy  \\\n",
       "0                                     36.44                          104.89   \n",
       "1                                     39.30                          109.95   \n",
       "2                                     43.46                          118.94   \n",
       "3                                     42.96                          122.62   \n",
       "4                                     47.86                          130.45   \n",
       "\n",
       "   CO2_Emissions_by_Sector_Fugitive_Emissions  \\\n",
       "0                                        9.25   \n",
       "1                                        7.06   \n",
       "2                                        6.46   \n",
       "3                                        6.78   \n",
       "4                                        7.28   \n",
       "\n",
       "   CO2_Emissions_by_Sector_Industrial_Processes  \\\n",
       "0                                          8.25   \n",
       "1                                          8.19   \n",
       "2                                          7.70   \n",
       "3                                          7.30   \n",
       "4                                          8.36   \n",
       "\n",
       "   CO2_Emissions_by_Sector_Land_Use_Change_and_Forestry  \\\n",
       "0                                              -2.41      \n",
       "1                                              -0.63      \n",
       "2                                              -0.63      \n",
       "3                                              -0.63      \n",
       "4                                              -0.63      \n",
       "\n",
       "   CO2_Emissions_by_Sector_Manufacturing_Construction  \\\n",
       "0                                              10.69    \n",
       "1                                              10.80    \n",
       "2                                              10.05    \n",
       "3                                              10.01    \n",
       "4                                              10.23    \n",
       "\n",
       "   CO2_Emissions_by_Sector_Other_Fuel_Combustion  \\\n",
       "0                                           3.57   \n",
       "1                                           3.96   \n",
       "2                                           3.53   \n",
       "3                                           4.12   \n",
       "4                                           2.37   \n",
       "\n",
       "   CO2_Emissions_by_Sector_Transportation  Net_Electricity_Consumption  \\\n",
       "0                                   31.71                        33.84   \n",
       "1                                   34.22                        38.13   \n",
       "2                                   38.64                        42.87   \n",
       "3                                   40.26                        45.20   \n",
       "4                                   43.51                        49.21   \n",
       "\n",
       "  income_group  \n",
       "0           UM  \n",
       "1           UM  \n",
       "2           UM  \n",
       "3           UM  \n",
       "4           UM  "
      ]
     },
     "execution_count": 82,
     "metadata": {},
     "output_type": "execute_result"
    }
   ],
   "source": [
    "df_joined.head()"
   ]
  },
  {
   "cell_type": "code",
   "execution_count": 83,
   "id": "6cbe6b5c",
   "metadata": {},
   "outputs": [],
   "source": [
    "df_joined.loc[df_joined['income_group'] == 'H','income_group'] = 0\n",
    "df_joined.loc[df_joined['income_group'] == 'UM','income_group'] = 1\n",
    "df_joined.loc[df_joined['income_group'] == 'LM','income_group'] = 2\n",
    "df_joined.loc[df_joined['income_group'] == 'L','income_group'] = 3"
   ]
  },
  {
   "cell_type": "code",
   "execution_count": 84,
   "id": "60b2e6f9",
   "metadata": {},
   "outputs": [
    {
     "data": {
      "text/plain": [
       "1    137\n",
       "0    105\n",
       "2    100\n",
       "3      2\n",
       "Name: income_group, dtype: int64"
      ]
     },
     "execution_count": 84,
     "metadata": {},
     "output_type": "execute_result"
    }
   ],
   "source": [
    "df_joined['income_group'].value_counts()"
   ]
  },
  {
   "cell_type": "code",
   "execution_count": 85,
   "id": "7b5ce72b",
   "metadata": {},
   "outputs": [],
   "source": [
    "df_joined_final = df_joined[['Total_Population',\n",
    "       'CO2_Emissions_by_Sector_Building',\n",
    "       'CO2_Emissions_by_Sector_Bunker_Fuels',\n",
    "       'CO2_Emissions_by_Sector_Electricity_Heat',\n",
    "       'CO2_Emissions_by_Sector_Energy',\n",
    "       'CO2_Emissions_by_Sector_Fugitive_Emissions',\n",
    "       'CO2_Emissions_by_Sector_Industrial_Processes',\n",
    "       'CO2_Emissions_by_Sector_Land_Use_Change_and_Forestry',\n",
    "       'CO2_Emissions_by_Sector_Manufacturing_Construction',\n",
    "       'CO2_Emissions_by_Sector_Other_Fuel_Combustion',\n",
    "       'CO2_Emissions_by_Sector_Transportation', 'Net_Electricity_Consumption',\n",
    "       'income_group']]"
   ]
  },
  {
   "cell_type": "code",
   "execution_count": 86,
   "id": "73cbf613",
   "metadata": {},
   "outputs": [],
   "source": [
    "file_to_save = Path('../data_files/machine_learning_dataset.csv')\n",
    "file_to_save.parent.mkdir(parents=True, exist_ok=True)  \n",
    "df_joined_final.to_csv(file_to_save)  "
   ]
  },
  {
   "cell_type": "code",
   "execution_count": null,
   "id": "77a34312",
   "metadata": {},
   "outputs": [],
   "source": []
  }
 ],
 "metadata": {
  "kernelspec": {
   "display_name": "mlenv",
   "language": "python",
   "name": "mlenv"
  },
  "language_info": {
   "codemirror_mode": {
    "name": "ipython",
    "version": 3
   },
   "file_extension": ".py",
   "mimetype": "text/x-python",
   "name": "python",
   "nbconvert_exporter": "python",
   "pygments_lexer": "ipython3",
   "version": "3.7.13"
  }
 },
 "nbformat": 4,
 "nbformat_minor": 5
}
