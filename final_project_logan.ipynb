{
 "cells": [
  {
   "cell_type": "code",
   "execution_count": 2,
   "id": "480a97c6",
   "metadata": {},
   "outputs": [],
   "source": [
    "import pandas as pd"
   ]
  },
  {
   "cell_type": "code",
   "execution_count": 7,
   "id": "c546f19a",
   "metadata": {},
   "outputs": [],
   "source": [
    "df = pd.read_csv('melted_data.csv')"
   ]
  },
  {
   "cell_type": "code",
   "execution_count": 8,
   "id": "c44f2394",
   "metadata": {},
   "outputs": [
    {
     "data": {
      "text/html": [
       "<div>\n",
       "<style scoped>\n",
       "    .dataframe tbody tr th:only-of-type {\n",
       "        vertical-align: middle;\n",
       "    }\n",
       "\n",
       "    .dataframe tbody tr th {\n",
       "        vertical-align: top;\n",
       "    }\n",
       "\n",
       "    .dataframe thead th {\n",
       "        text-align: right;\n",
       "    }\n",
       "</style>\n",
       "<table border=\"1\" class=\"dataframe\">\n",
       "  <thead>\n",
       "    <tr style=\"text-align: right;\">\n",
       "      <th></th>\n",
       "      <th>Unnamed: 0</th>\n",
       "      <th>Country Name</th>\n",
       "      <th>Country Code</th>\n",
       "      <th>Series Name</th>\n",
       "      <th>Series Code</th>\n",
       "      <th>Year</th>\n",
       "      <th>Value</th>\n",
       "    </tr>\n",
       "  </thead>\n",
       "  <tbody>\n",
       "    <tr>\n",
       "      <th>0</th>\n",
       "      <td>0</td>\n",
       "      <td>Afghanistan</td>\n",
       "      <td>AFG</td>\n",
       "      <td>Agricultural land (% of land area)</td>\n",
       "      <td>AG.LND.AGRI.ZS</td>\n",
       "      <td>1990</td>\n",
       "      <td>58.32298422</td>\n",
       "    </tr>\n",
       "    <tr>\n",
       "      <th>1</th>\n",
       "      <td>1</td>\n",
       "      <td>Afghanistan</td>\n",
       "      <td>AFG</td>\n",
       "      <td>Arable land (% of land area)</td>\n",
       "      <td>AG.LND.ARBL.ZS</td>\n",
       "      <td>1990</td>\n",
       "      <td>12.12762369</td>\n",
       "    </tr>\n",
       "    <tr>\n",
       "      <th>2</th>\n",
       "      <td>2</td>\n",
       "      <td>Afghanistan</td>\n",
       "      <td>AFG</td>\n",
       "      <td>CO2 emissions by sector (Mt CO2 eq) - Building</td>\n",
       "      <td>CC.CO2.EMSE.BL</td>\n",
       "      <td>1990</td>\n",
       "      <td>0.08</td>\n",
       "    </tr>\n",
       "    <tr>\n",
       "      <th>3</th>\n",
       "      <td>3</td>\n",
       "      <td>Afghanistan</td>\n",
       "      <td>AFG</td>\n",
       "      <td>CO2 emissions by sector (Mt CO2 eq) - Bunker F...</td>\n",
       "      <td>CC.CO2.EMSE.BF</td>\n",
       "      <td>1990</td>\n",
       "      <td>0.02</td>\n",
       "    </tr>\n",
       "    <tr>\n",
       "      <th>4</th>\n",
       "      <td>4</td>\n",
       "      <td>Afghanistan</td>\n",
       "      <td>AFG</td>\n",
       "      <td>CO2 emissions by sector (Mt CO2 eq) - Electric...</td>\n",
       "      <td>CC.CO2.EMSE.EH</td>\n",
       "      <td>1990</td>\n",
       "      <td>0.27</td>\n",
       "    </tr>\n",
       "  </tbody>\n",
       "</table>\n",
       "</div>"
      ],
      "text/plain": [
       "   Unnamed: 0 Country Name Country Code  \\\n",
       "0           0  Afghanistan          AFG   \n",
       "1           1  Afghanistan          AFG   \n",
       "2           2  Afghanistan          AFG   \n",
       "3           3  Afghanistan          AFG   \n",
       "4           4  Afghanistan          AFG   \n",
       "\n",
       "                                         Series Name     Series Code  Year  \\\n",
       "0                 Agricultural land (% of land area)  AG.LND.AGRI.ZS  1990   \n",
       "1                       Arable land (% of land area)  AG.LND.ARBL.ZS  1990   \n",
       "2     CO2 emissions by sector (Mt CO2 eq) - Building  CC.CO2.EMSE.BL  1990   \n",
       "3  CO2 emissions by sector (Mt CO2 eq) - Bunker F...  CC.CO2.EMSE.BF  1990   \n",
       "4  CO2 emissions by sector (Mt CO2 eq) - Electric...  CC.CO2.EMSE.EH  1990   \n",
       "\n",
       "         Value  \n",
       "0  58.32298422  \n",
       "1  12.12762369  \n",
       "2         0.08  \n",
       "3         0.02  \n",
       "4         0.27  "
      ]
     },
     "execution_count": 8,
     "metadata": {},
     "output_type": "execute_result"
    }
   ],
   "source": [
    "df.head()"
   ]
  },
  {
   "cell_type": "code",
   "execution_count": 9,
   "id": "4bd1e11b",
   "metadata": {},
   "outputs": [
    {
     "data": {
      "text/plain": [
       "array(['AG.LND.AGRI.ZS', 'AG.LND.ARBL.ZS', 'CC.CO2.EMSE.BL',\n",
       "       'CC.CO2.EMSE.BF', 'CC.CO2.EMSE.EH', 'CC.CO2.EMSE.EN',\n",
       "       'CC.CO2.EMSE.FE', 'CC.CO2.EMSE.IP', 'CC.CO2.EMSE.LU',\n",
       "       'CC.CO2.EMSE.MC', 'CC.CO2.EMSE.OF', 'CC.CO2.EMSE.EL',\n",
       "       'CC.CO2.EMSE.IL', 'CC.CO2.EMSE.TR', 'CC.ELEC.CON',\n",
       "       'NY.GDP.MKTP.CD', 'NY.GDP.MKTP.KD.ZG', 'NY.GDP.PCAP.CD',\n",
       "       'CC.GHG.GRPE', 'CC.EG.CONS.COAL.PC', 'CC.EG.CONS.GAS.PC',\n",
       "       'CC.EG.CONS.OIL.PC', 'CC.GHG.PECA', 'SP.POP.TOTL',\n",
       "       'AG.LND.FRST.ZS', 'SP.URB.TOTL.IN.ZS'], dtype=object)"
      ]
     },
     "execution_count": 9,
     "metadata": {},
     "output_type": "execute_result"
    }
   ],
   "source": [
    "df['Series Code'].unique()"
   ]
  },
  {
   "cell_type": "code",
   "execution_count": 10,
   "id": "3daf6403",
   "metadata": {},
   "outputs": [],
   "source": [
    "df_filtered = df.loc[df['Series Code'].isin(['AG.LND.AGRI.ZS','AG.LND.ARBL.ZS','CC.CO2.EMSE.BL','CC.CO2.EMSE.BF','CC.CO2.EMSE.EH','CC.CO2.EMSE.EN','CC.CO2.EMSE.FE','CC.CO2.EMSE.IP','CC.CO2.EMSE.LU','CC.CO2.EMSE.MC','CC.CO2.EMSE.OF','CC.CO2.EMSE.EL','CC.CO2.EMSE.IL','CC.CO2.EMSE.TR','CC.ELEC.CON','NY.GDP.MKTP.CD','NY.GDP.MKTP.KD.ZG','NY.GDP.PCAP.CD','CC.GHG.GRPE','CC.EG.CONS.COAL.PC','CC.EG.CONS.GAS.PC','CC.EG.CONS.OIL.PC','CC.GHG.PECA','SP.POP.TOTL','AG.LND.FRST.ZS','SP.URB.TOTL.IN.ZS'])]"
   ]
  },
  {
   "cell_type": "code",
   "execution_count": 11,
   "id": "4d58a57d",
   "metadata": {},
   "outputs": [
    {
     "data": {
      "text/plain": [
       "Unnamed: 0       int64\n",
       "Country Name    object\n",
       "Country Code    object\n",
       "Series Name     object\n",
       "Series Code     object\n",
       "Year             int64\n",
       "Value           object\n",
       "dtype: object"
      ]
     },
     "execution_count": 11,
     "metadata": {},
     "output_type": "execute_result"
    }
   ],
   "source": [
    "df.dtypes\n",
    "\n",
    "\n"
   ]
  },
  {
   "cell_type": "code",
   "execution_count": null,
   "id": "4242792d",
   "metadata": {},
   "outputs": [],
   "source": []
  }
 ],
 "metadata": {
  "kernelspec": {
   "display_name": "Python 3 (ipykernel)",
   "language": "python",
   "name": "python3"
  },
  "language_info": {
   "codemirror_mode": {
    "name": "ipython",
    "version": 3
   },
   "file_extension": ".py",
   "mimetype": "text/x-python",
   "name": "python",
   "nbconvert_exporter": "python",
   "pygments_lexer": "ipython3",
   "version": "3.7.15"
  }
 },
 "nbformat": 4,
 "nbformat_minor": 5
}
