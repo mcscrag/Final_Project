{
 "cells": [
  {
   "cell_type": "code",
   "execution_count": 2,
   "id": "480a97c6",
   "metadata": {},
   "outputs": [],
   "source": [
    "import pandas as pd"
   ]
  },
  {
   "cell_type": "code",
   "execution_count": 7,
   "id": "c546f19a",
   "metadata": {},
   "outputs": [],
   "source": [
    "df = pd.read_csv('melted_data.csv')"
   ]
  },
  {
   "cell_type": "code",
   "execution_count": 8,
   "id": "c44f2394",
   "metadata": {},
   "outputs": [
    {
     "data": {
      "text/html": [
       "<div>\n",
       "<style scoped>\n",
       "    .dataframe tbody tr th:only-of-type {\n",
       "        vertical-align: middle;\n",
       "    }\n",
       "\n",
       "    .dataframe tbody tr th {\n",
       "        vertical-align: top;\n",
       "    }\n",
       "\n",
       "    .dataframe thead th {\n",
       "        text-align: right;\n",
       "    }\n",
       "</style>\n",
       "<table border=\"1\" class=\"dataframe\">\n",
       "  <thead>\n",
       "    <tr style=\"text-align: right;\">\n",
       "      <th></th>\n",
       "      <th>Unnamed: 0</th>\n",
       "      <th>Country Name</th>\n",
       "      <th>Country Code</th>\n",
       "      <th>Series Name</th>\n",
       "      <th>Series Code</th>\n",
       "      <th>Year</th>\n",
       "      <th>Value</th>\n",
       "    </tr>\n",
       "  </thead>\n",
       "  <tbody>\n",
       "    <tr>\n",
       "      <th>0</th>\n",
       "      <td>0</td>\n",
       "      <td>Afghanistan</td>\n",
       "      <td>AFG</td>\n",
       "      <td>Agricultural land (% of land area)</td>\n",
       "      <td>AG.LND.AGRI.ZS</td>\n",
       "      <td>1990</td>\n",
       "      <td>58.32298422</td>\n",
       "    </tr>\n",
       "    <tr>\n",
       "      <th>1</th>\n",
       "      <td>1</td>\n",
       "      <td>Afghanistan</td>\n",
       "      <td>AFG</td>\n",
       "      <td>Arable land (% of land area)</td>\n",
       "      <td>AG.LND.ARBL.ZS</td>\n",
       "      <td>1990</td>\n",
       "      <td>12.12762369</td>\n",
       "    </tr>\n",
       "    <tr>\n",
       "      <th>2</th>\n",
       "      <td>2</td>\n",
       "      <td>Afghanistan</td>\n",
       "      <td>AFG</td>\n",
       "      <td>CO2 emissions by sector (Mt CO2 eq) - Building</td>\n",
       "      <td>CC.CO2.EMSE.BL</td>\n",
       "      <td>1990</td>\n",
       "      <td>0.08</td>\n",
       "    </tr>\n",
       "    <tr>\n",
       "      <th>3</th>\n",
       "      <td>3</td>\n",
       "      <td>Afghanistan</td>\n",
       "      <td>AFG</td>\n",
       "      <td>CO2 emissions by sector (Mt CO2 eq) - Bunker F...</td>\n",
       "      <td>CC.CO2.EMSE.BF</td>\n",
       "      <td>1990</td>\n",
       "      <td>0.02</td>\n",
       "    </tr>\n",
       "    <tr>\n",
       "      <th>4</th>\n",
       "      <td>4</td>\n",
       "      <td>Afghanistan</td>\n",
       "      <td>AFG</td>\n",
       "      <td>CO2 emissions by sector (Mt CO2 eq) - Electric...</td>\n",
       "      <td>CC.CO2.EMSE.EH</td>\n",
       "      <td>1990</td>\n",
       "      <td>0.27</td>\n",
       "    </tr>\n",
       "  </tbody>\n",
       "</table>\n",
       "</div>"
      ],
      "text/plain": [
       "   Unnamed: 0 Country Name Country Code  \\\n",
       "0           0  Afghanistan          AFG   \n",
       "1           1  Afghanistan          AFG   \n",
       "2           2  Afghanistan          AFG   \n",
       "3           3  Afghanistan          AFG   \n",
       "4           4  Afghanistan          AFG   \n",
       "\n",
       "                                         Series Name     Series Code  Year  \\\n",
       "0                 Agricultural land (% of land area)  AG.LND.AGRI.ZS  1990   \n",
       "1                       Arable land (% of land area)  AG.LND.ARBL.ZS  1990   \n",
       "2     CO2 emissions by sector (Mt CO2 eq) - Building  CC.CO2.EMSE.BL  1990   \n",
       "3  CO2 emissions by sector (Mt CO2 eq) - Bunker F...  CC.CO2.EMSE.BF  1990   \n",
       "4  CO2 emissions by sector (Mt CO2 eq) - Electric...  CC.CO2.EMSE.EH  1990   \n",
       "\n",
       "         Value  \n",
       "0  58.32298422  \n",
       "1  12.12762369  \n",
       "2         0.08  \n",
       "3         0.02  \n",
       "4         0.27  "
      ]
     },
     "execution_count": 8,
     "metadata": {},
     "output_type": "execute_result"
    }
   ],
   "source": [
    "df.head()"
   ]
  },
  {
   "cell_type": "code",
   "execution_count": 9,
   "id": "4bd1e11b",
   "metadata": {},
   "outputs": [
    {
     "data": {
      "text/plain": [
       "array(['AG.LND.AGRI.ZS', 'AG.LND.ARBL.ZS', 'CC.CO2.EMSE.BL',\n",
       "       'CC.CO2.EMSE.BF', 'CC.CO2.EMSE.EH', 'CC.CO2.EMSE.EN',\n",
       "       'CC.CO2.EMSE.FE', 'CC.CO2.EMSE.IP', 'CC.CO2.EMSE.LU',\n",
       "       'CC.CO2.EMSE.MC', 'CC.CO2.EMSE.OF', 'CC.CO2.EMSE.EL',\n",
       "       'CC.CO2.EMSE.IL', 'CC.CO2.EMSE.TR', 'CC.ELEC.CON',\n",
       "       'NY.GDP.MKTP.CD', 'NY.GDP.MKTP.KD.ZG', 'NY.GDP.PCAP.CD',\n",
       "       'CC.GHG.GRPE', 'CC.EG.CONS.COAL.PC', 'CC.EG.CONS.GAS.PC',\n",
       "       'CC.EG.CONS.OIL.PC', 'CC.GHG.PECA', 'SP.POP.TOTL',\n",
       "       'AG.LND.FRST.ZS', 'SP.URB.TOTL.IN.ZS'], dtype=object)"
      ]
     },
     "execution_count": 9,
     "metadata": {},
     "output_type": "execute_result"
    }
   ],
   "source": [
    "df['Series Code'].unique()"
   ]
  },
  {
   "cell_type": "code",
   "execution_count": 23,
   "id": "4d58a57d",
   "metadata": {},
   "outputs": [
    {
     "data": {
      "text/plain": [
       "Unnamed: 0        int64\n",
       "Country Name     object\n",
       "Country Code     object\n",
       "Series Name      object\n",
       "Series Code      object\n",
       "Year              int64\n",
       "Value           float64\n",
       "dtype: object"
      ]
     },
     "execution_count": 23,
     "metadata": {},
     "output_type": "execute_result"
    }
   ],
   "source": [
    "df['Value'] = pd.to_numeric(df['Value'], errors='coerce')\n",
    "df.dtypes"
   ]
  },
  {
   "cell_type": "code",
   "execution_count": 30,
   "id": "5ac5f239",
   "metadata": {},
   "outputs": [
    {
     "data": {
      "text/plain": [
       "<bound method NDFrame.describe of      Domain Code                      Domain  Area Code (M49)         Area  \\\n",
       "0             ET  Temperature change on land                4  Afghanistan   \n",
       "1             ET  Temperature change on land                4  Afghanistan   \n",
       "2             ET  Temperature change on land                4  Afghanistan   \n",
       "3             ET  Temperature change on land                4  Afghanistan   \n",
       "4             ET  Temperature change on land                4  Afghanistan   \n",
       "...          ...                         ...              ...          ...   \n",
       "7792          ET  Temperature change on land              716     Zimbabwe   \n",
       "7793          ET  Temperature change on land              716     Zimbabwe   \n",
       "7794          ET  Temperature change on land              716     Zimbabwe   \n",
       "7795          ET  Temperature change on land              716     Zimbabwe   \n",
       "7796          ET  Temperature change on land              716     Zimbabwe   \n",
       "\n",
       "      Element Code             Element  Months Code               Months  \\\n",
       "0             7271  Temperature change         7020  Meteorological year   \n",
       "1             7271  Temperature change         7020  Meteorological year   \n",
       "2             7271  Temperature change         7020  Meteorological year   \n",
       "3             7271  Temperature change         7020  Meteorological year   \n",
       "4             7271  Temperature change         7020  Meteorological year   \n",
       "...            ...                 ...          ...                  ...   \n",
       "7792          7271  Temperature change         7020  Meteorological year   \n",
       "7793          7271  Temperature change         7020  Meteorological year   \n",
       "7794          7271  Temperature change         7020  Meteorological year   \n",
       "7795          7271  Temperature change         7020  Meteorological year   \n",
       "7796          7271  Temperature change         7020  Meteorological year   \n",
       "\n",
       "      Year Code  Year Unit  Value Flag Flag Description  \n",
       "0          1990  1990   °C  0.730    E  Estimated value  \n",
       "1          1991  1991   °C -0.168    E  Estimated value  \n",
       "2          1992  1992   °C -0.294    E  Estimated value  \n",
       "3          1993  1993   °C  0.220    E  Estimated value  \n",
       "4          1994  1994   °C  0.430    E  Estimated value  \n",
       "...         ...   ...  ...    ...  ...              ...  \n",
       "7792       2018  2018   °C  0.453    E  Estimated value  \n",
       "7793       2019  2019   °C  0.925    E  Estimated value  \n",
       "7794       2020  2020   °C  0.389    E  Estimated value  \n",
       "7795       2021  2021   °C -0.125    E  Estimated value  \n",
       "7796       2022  2022   °C -0.490    E  Estimated value  \n",
       "\n",
       "[7797 rows x 14 columns]>"
      ]
     },
     "execution_count": 30,
     "metadata": {},
     "output_type": "execute_result"
    }
   ],
   "source": [
    "df.describe"
   ]
  },
  {
   "cell_type": "code",
   "execution_count": 29,
   "id": "3f823f88",
   "metadata": {},
   "outputs": [
    {
     "ename": "SyntaxError",
     "evalue": "keyword can't be an expression (1704337269.py, line 1)",
     "output_type": "error",
     "traceback": [
      "\u001b[1;36m  File \u001b[1;32m\"C:\\Users\\dkkru\\AppData\\Local\\Temp\\ipykernel_26252\\1704337269.py\"\u001b[1;36m, line \u001b[1;32m1\u001b[0m\n\u001b[1;33m    df.groupby(\"Series Name\" = \"Agricultural land (% of land area)\").head()\u001b[0m\n\u001b[1;37m              ^\u001b[0m\n\u001b[1;31mSyntaxError\u001b[0m\u001b[1;31m:\u001b[0m keyword can't be an expression\n"
     ]
    }
   ],
   "source": [
    "df.groupby(\"Series Name\" = \"Agricultural land (% of land area)\").head()"
   ]
  },
  {
   "cell_type": "code",
   "execution_count": null,
   "id": "3fec486c",
   "metadata": {},
   "outputs": [],
   "source": []
  },
  {
   "cell_type": "markdown",
   "id": "dee7e885",
   "metadata": {},
   "source": [
    "# Temp Data"
   ]
  },
  {
   "cell_type": "code",
   "execution_count": 26,
   "id": "4242792d",
   "metadata": {},
   "outputs": [],
   "source": [
    "temp_df = pd.read_csv('FAOSTAT_data_en_5-15-2023.csv')"
   ]
  },
  {
   "cell_type": "code",
   "execution_count": 27,
   "id": "b4eb73d4",
   "metadata": {},
   "outputs": [
    {
     "data": {
      "text/plain": [
       "Domain Code          object\n",
       "Domain               object\n",
       "Area Code (M49)       int64\n",
       "Area                 object\n",
       "Element Code          int64\n",
       "Element              object\n",
       "Months Code           int64\n",
       "Months               object\n",
       "Year Code             int64\n",
       "Year                  int64\n",
       "Unit                 object\n",
       "Value               float64\n",
       "Flag                 object\n",
       "Flag Description     object\n",
       "dtype: object"
      ]
     },
     "execution_count": 27,
     "metadata": {},
     "output_type": "execute_result"
    }
   ],
   "source": [
    "temp_df.dtypes"
   ]
  },
  {
   "cell_type": "code",
   "execution_count": null,
   "id": "95aa3842",
   "metadata": {},
   "outputs": [],
   "source": []
  }
 ],
 "metadata": {
  "kernelspec": {
   "display_name": "Python 3 (ipykernel)",
   "language": "python",
   "name": "python3"
  },
  "language_info": {
   "codemirror_mode": {
    "name": "ipython",
    "version": 3
   },
   "file_extension": ".py",
   "mimetype": "text/x-python",
   "name": "python",
   "nbconvert_exporter": "python",
   "pygments_lexer": "ipython3",
   "version": "3.7.15"
  }
 },
 "nbformat": 4,
 "nbformat_minor": 5
}
